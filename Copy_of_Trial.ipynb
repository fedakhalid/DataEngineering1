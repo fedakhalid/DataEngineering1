{
  "cells": [
    {
      "cell_type": "markdown",
      "metadata": {
        "id": "view-in-github",
        "colab_type": "text"
      },
      "source": [
        "<a href=\"https://colab.research.google.com/github/fedakhalid/DataEngineering1/blob/youssefelhini/Copy_of_Trial.ipynb\" target=\"_parent\"><img src=\"https://colab.research.google.com/assets/colab-badge.svg\" alt=\"Open In Colab\"/></a>"
      ]
    },
    {
      "cell_type": "code",
      "execution_count": null,
      "metadata": {
        "id": "okZ4lptyMDDV"
      },
      "outputs": [],
      "source": [
        "import numpy as np\n",
        "import pandas as pd\n",
        "import csv\n",
        "import seaborn as sns\n",
        "import matplotlib.pyplot as plt\n",
        "import statistics\n",
        "\n"
      ]
    },
    {
      "cell_type": "code",
      "execution_count": null,
      "metadata": {
        "id": "O6GtHLTaOdiP"
      },
      "outputs": [],
      "source": [
        "df = pd.read_csv('/content/Car_sale_ads.csv',engine=\"python\",error_bad_lines=False)"
      ]
    },
    {
      "cell_type": "code",
      "execution_count": null,
      "metadata": {
        "colab": {
          "base_uri": "https://localhost:8080/",
          "height": 1000
        },
        "id": "MxH3kOSBqAlQ",
        "outputId": "c17282de-4db7-4be6-dc3b-e8304e360267"
      },
      "outputs": [
        {
          "output_type": "execute_result",
          "data": {
            "text/plain": [
              "   Index   Price Currency Condition Vehicle_brand Vehicle_model  \\\n",
              "0      0   86200      PLN       New        Abarth           595   \n",
              "1      1   43500      PLN      Used        Abarth         Other   \n",
              "2      2   44900      PLN      Used        Abarth           500   \n",
              "3      3   39900      PLN      Used        Abarth           500   \n",
              "4      4   97900      PLN       New        Abarth           595   \n",
              "5      5   62950      PLN      Used        Abarth           595   \n",
              "6      6   69900      PLN      Used        Abarth           595   \n",
              "7      7   69900      PLN      Used        Abarth           500   \n",
              "8      8  120750      PLN       New        Abarth           595   \n",
              "9      9   93100      PLN       New        Abarth           595   \n",
              "\n",
              "  Vehicle_version Vehicle_generation  Production_year  Mileage_km  ...  \\\n",
              "0             NaN                NaN             2021         1.0  ...   \n",
              "1             NaN                NaN             1974     59000.0  ...   \n",
              "2             NaN                NaN             2018     52000.0  ...   \n",
              "3             NaN                NaN             2012     29000.0  ...   \n",
              "4             NaN                NaN             2021       600.0  ...   \n",
              "5             NaN                NaN             2016     46060.0  ...   \n",
              "6             NaN                NaN             2021      2900.0  ...   \n",
              "7             NaN                NaN             2019     20000.0  ...   \n",
              "8             NaN                NaN             2021         1.0  ...   \n",
              "9             NaN                NaN             2021         1.0  ...   \n",
              "\n",
              "   Transmission        Type Doors_number  Colour Origin_country First_owner  \\\n",
              "0        Manual  small_cars          3.0    gray            NaN         NaN   \n",
              "1        Manual       coupe          2.0  silver            NaN         NaN   \n",
              "2     Automatic  small_cars          3.0  silver            NaN         NaN   \n",
              "3        Manual  small_cars          3.0    gray            NaN         NaN   \n",
              "4        Manual  small_cars          3.0    blue            NaN         NaN   \n",
              "5        Manual  small_cars          3.0    gray        Germany         Yes   \n",
              "6        Manual  small_cars          2.0   black        Germany         NaN   \n",
              "7        Manual  small_cars          3.0   white         Poland         Yes   \n",
              "8        Manual  small_cars          3.0    blue            NaN         NaN   \n",
              "9        Manual  small_cars          3.0    gray            NaN         NaN   \n",
              "\n",
              "  First_registration_date  Offer_publication_date  \\\n",
              "0                     NaN              04/05/2021   \n",
              "1                     NaN              03/05/2021   \n",
              "2                     NaN              03/05/2021   \n",
              "3                     NaN              30/04/2021   \n",
              "4                     NaN              30/04/2021   \n",
              "5              15/03/2016              30/04/2021   \n",
              "6              25/02/2021              29/04/2021   \n",
              "7                     NaN              29/04/2021   \n",
              "8                     NaN              03/05/2021   \n",
              "9                     NaN              03/05/2021   \n",
              "\n",
              "                                      Offer_location  \\\n",
              "0  ul. Jubilerska 6 - 04-190 Warszawa, Mazowiecki...   \n",
              "1  kanonierska12 - 04-425 Warszawa, Rembertów (Po...   \n",
              "2                   Warszawa, Mazowieckie, Białołęka   \n",
              "3                                  Jaworzno, Śląskie   \n",
              "4  ul. Gorzysława 9 - 61-057 Poznań, Nowe Miasto ...   \n",
              "5  Modlińska 157 - 03-186 Warszawa, Białołęka (Po...   \n",
              "6                             Żary, żarski, Lubuskie   \n",
              "7     Ojcowska 2 - 02-918 Warszawa, Mokotów (Polska)   \n",
              "8  ul. Gorzysława 9 - 61-057 Poznań, Nowe Miasto ...   \n",
              "9  ul. Gorzysława 9 - 61-057 Poznań, Nowe Miasto ...   \n",
              "\n",
              "                                            Features  \n",
              "0                                                 []  \n",
              "1                                                 []  \n",
              "2  ['ABS', 'Electric front windows', 'Drivers air...  \n",
              "3  ['ABS', 'Electric front windows', 'Drivers air...  \n",
              "4  ['ABS', 'Electrically adjustable mirrors', 'Pa...  \n",
              "5  ['ABS', 'Electric front windows', 'Drivers air...  \n",
              "6                                                 []  \n",
              "7  ['ABS', 'Electrically adjustable mirrors', 'Pa...  \n",
              "8  ['ABS', 'Electrically adjustable mirrors', 'Pa...  \n",
              "9  ['ABS', 'Electrically adjustable mirrors', 'Pa...  \n",
              "\n",
              "[10 rows x 25 columns]"
            ],
            "text/html": [
              "\n",
              "  <div id=\"df-d0d712f6-7fee-474c-8809-0bd7287bf6df\">\n",
              "    <div class=\"colab-df-container\">\n",
              "      <div>\n",
              "<style scoped>\n",
              "    .dataframe tbody tr th:only-of-type {\n",
              "        vertical-align: middle;\n",
              "    }\n",
              "\n",
              "    .dataframe tbody tr th {\n",
              "        vertical-align: top;\n",
              "    }\n",
              "\n",
              "    .dataframe thead th {\n",
              "        text-align: right;\n",
              "    }\n",
              "</style>\n",
              "<table border=\"1\" class=\"dataframe\">\n",
              "  <thead>\n",
              "    <tr style=\"text-align: right;\">\n",
              "      <th></th>\n",
              "      <th>Index</th>\n",
              "      <th>Price</th>\n",
              "      <th>Currency</th>\n",
              "      <th>Condition</th>\n",
              "      <th>Vehicle_brand</th>\n",
              "      <th>Vehicle_model</th>\n",
              "      <th>Vehicle_version</th>\n",
              "      <th>Vehicle_generation</th>\n",
              "      <th>Production_year</th>\n",
              "      <th>Mileage_km</th>\n",
              "      <th>...</th>\n",
              "      <th>Transmission</th>\n",
              "      <th>Type</th>\n",
              "      <th>Doors_number</th>\n",
              "      <th>Colour</th>\n",
              "      <th>Origin_country</th>\n",
              "      <th>First_owner</th>\n",
              "      <th>First_registration_date</th>\n",
              "      <th>Offer_publication_date</th>\n",
              "      <th>Offer_location</th>\n",
              "      <th>Features</th>\n",
              "    </tr>\n",
              "  </thead>\n",
              "  <tbody>\n",
              "    <tr>\n",
              "      <th>0</th>\n",
              "      <td>0</td>\n",
              "      <td>86200</td>\n",
              "      <td>PLN</td>\n",
              "      <td>New</td>\n",
              "      <td>Abarth</td>\n",
              "      <td>595</td>\n",
              "      <td>NaN</td>\n",
              "      <td>NaN</td>\n",
              "      <td>2021</td>\n",
              "      <td>1.0</td>\n",
              "      <td>...</td>\n",
              "      <td>Manual</td>\n",
              "      <td>small_cars</td>\n",
              "      <td>3.0</td>\n",
              "      <td>gray</td>\n",
              "      <td>NaN</td>\n",
              "      <td>NaN</td>\n",
              "      <td>NaN</td>\n",
              "      <td>04/05/2021</td>\n",
              "      <td>ul. Jubilerska 6 - 04-190 Warszawa, Mazowiecki...</td>\n",
              "      <td>[]</td>\n",
              "    </tr>\n",
              "    <tr>\n",
              "      <th>1</th>\n",
              "      <td>1</td>\n",
              "      <td>43500</td>\n",
              "      <td>PLN</td>\n",
              "      <td>Used</td>\n",
              "      <td>Abarth</td>\n",
              "      <td>Other</td>\n",
              "      <td>NaN</td>\n",
              "      <td>NaN</td>\n",
              "      <td>1974</td>\n",
              "      <td>59000.0</td>\n",
              "      <td>...</td>\n",
              "      <td>Manual</td>\n",
              "      <td>coupe</td>\n",
              "      <td>2.0</td>\n",
              "      <td>silver</td>\n",
              "      <td>NaN</td>\n",
              "      <td>NaN</td>\n",
              "      <td>NaN</td>\n",
              "      <td>03/05/2021</td>\n",
              "      <td>kanonierska12 - 04-425 Warszawa, Rembertów (Po...</td>\n",
              "      <td>[]</td>\n",
              "    </tr>\n",
              "    <tr>\n",
              "      <th>2</th>\n",
              "      <td>2</td>\n",
              "      <td>44900</td>\n",
              "      <td>PLN</td>\n",
              "      <td>Used</td>\n",
              "      <td>Abarth</td>\n",
              "      <td>500</td>\n",
              "      <td>NaN</td>\n",
              "      <td>NaN</td>\n",
              "      <td>2018</td>\n",
              "      <td>52000.0</td>\n",
              "      <td>...</td>\n",
              "      <td>Automatic</td>\n",
              "      <td>small_cars</td>\n",
              "      <td>3.0</td>\n",
              "      <td>silver</td>\n",
              "      <td>NaN</td>\n",
              "      <td>NaN</td>\n",
              "      <td>NaN</td>\n",
              "      <td>03/05/2021</td>\n",
              "      <td>Warszawa, Mazowieckie, Białołęka</td>\n",
              "      <td>['ABS', 'Electric front windows', 'Drivers air...</td>\n",
              "    </tr>\n",
              "    <tr>\n",
              "      <th>3</th>\n",
              "      <td>3</td>\n",
              "      <td>39900</td>\n",
              "      <td>PLN</td>\n",
              "      <td>Used</td>\n",
              "      <td>Abarth</td>\n",
              "      <td>500</td>\n",
              "      <td>NaN</td>\n",
              "      <td>NaN</td>\n",
              "      <td>2012</td>\n",
              "      <td>29000.0</td>\n",
              "      <td>...</td>\n",
              "      <td>Manual</td>\n",
              "      <td>small_cars</td>\n",
              "      <td>3.0</td>\n",
              "      <td>gray</td>\n",
              "      <td>NaN</td>\n",
              "      <td>NaN</td>\n",
              "      <td>NaN</td>\n",
              "      <td>30/04/2021</td>\n",
              "      <td>Jaworzno, Śląskie</td>\n",
              "      <td>['ABS', 'Electric front windows', 'Drivers air...</td>\n",
              "    </tr>\n",
              "    <tr>\n",
              "      <th>4</th>\n",
              "      <td>4</td>\n",
              "      <td>97900</td>\n",
              "      <td>PLN</td>\n",
              "      <td>New</td>\n",
              "      <td>Abarth</td>\n",
              "      <td>595</td>\n",
              "      <td>NaN</td>\n",
              "      <td>NaN</td>\n",
              "      <td>2021</td>\n",
              "      <td>600.0</td>\n",
              "      <td>...</td>\n",
              "      <td>Manual</td>\n",
              "      <td>small_cars</td>\n",
              "      <td>3.0</td>\n",
              "      <td>blue</td>\n",
              "      <td>NaN</td>\n",
              "      <td>NaN</td>\n",
              "      <td>NaN</td>\n",
              "      <td>30/04/2021</td>\n",
              "      <td>ul. Gorzysława 9 - 61-057 Poznań, Nowe Miasto ...</td>\n",
              "      <td>['ABS', 'Electrically adjustable mirrors', 'Pa...</td>\n",
              "    </tr>\n",
              "    <tr>\n",
              "      <th>5</th>\n",
              "      <td>5</td>\n",
              "      <td>62950</td>\n",
              "      <td>PLN</td>\n",
              "      <td>Used</td>\n",
              "      <td>Abarth</td>\n",
              "      <td>595</td>\n",
              "      <td>NaN</td>\n",
              "      <td>NaN</td>\n",
              "      <td>2016</td>\n",
              "      <td>46060.0</td>\n",
              "      <td>...</td>\n",
              "      <td>Manual</td>\n",
              "      <td>small_cars</td>\n",
              "      <td>3.0</td>\n",
              "      <td>gray</td>\n",
              "      <td>Germany</td>\n",
              "      <td>Yes</td>\n",
              "      <td>15/03/2016</td>\n",
              "      <td>30/04/2021</td>\n",
              "      <td>Modlińska 157 - 03-186 Warszawa, Białołęka (Po...</td>\n",
              "      <td>['ABS', 'Electric front windows', 'Drivers air...</td>\n",
              "    </tr>\n",
              "    <tr>\n",
              "      <th>6</th>\n",
              "      <td>6</td>\n",
              "      <td>69900</td>\n",
              "      <td>PLN</td>\n",
              "      <td>Used</td>\n",
              "      <td>Abarth</td>\n",
              "      <td>595</td>\n",
              "      <td>NaN</td>\n",
              "      <td>NaN</td>\n",
              "      <td>2021</td>\n",
              "      <td>2900.0</td>\n",
              "      <td>...</td>\n",
              "      <td>Manual</td>\n",
              "      <td>small_cars</td>\n",
              "      <td>2.0</td>\n",
              "      <td>black</td>\n",
              "      <td>Germany</td>\n",
              "      <td>NaN</td>\n",
              "      <td>25/02/2021</td>\n",
              "      <td>29/04/2021</td>\n",
              "      <td>Żary, żarski, Lubuskie</td>\n",
              "      <td>[]</td>\n",
              "    </tr>\n",
              "    <tr>\n",
              "      <th>7</th>\n",
              "      <td>7</td>\n",
              "      <td>69900</td>\n",
              "      <td>PLN</td>\n",
              "      <td>Used</td>\n",
              "      <td>Abarth</td>\n",
              "      <td>500</td>\n",
              "      <td>NaN</td>\n",
              "      <td>NaN</td>\n",
              "      <td>2019</td>\n",
              "      <td>20000.0</td>\n",
              "      <td>...</td>\n",
              "      <td>Manual</td>\n",
              "      <td>small_cars</td>\n",
              "      <td>3.0</td>\n",
              "      <td>white</td>\n",
              "      <td>Poland</td>\n",
              "      <td>Yes</td>\n",
              "      <td>NaN</td>\n",
              "      <td>29/04/2021</td>\n",
              "      <td>Ojcowska 2 - 02-918 Warszawa, Mokotów (Polska)</td>\n",
              "      <td>['ABS', 'Electrically adjustable mirrors', 'Pa...</td>\n",
              "    </tr>\n",
              "    <tr>\n",
              "      <th>8</th>\n",
              "      <td>8</td>\n",
              "      <td>120750</td>\n",
              "      <td>PLN</td>\n",
              "      <td>New</td>\n",
              "      <td>Abarth</td>\n",
              "      <td>595</td>\n",
              "      <td>NaN</td>\n",
              "      <td>NaN</td>\n",
              "      <td>2021</td>\n",
              "      <td>1.0</td>\n",
              "      <td>...</td>\n",
              "      <td>Manual</td>\n",
              "      <td>small_cars</td>\n",
              "      <td>3.0</td>\n",
              "      <td>blue</td>\n",
              "      <td>NaN</td>\n",
              "      <td>NaN</td>\n",
              "      <td>NaN</td>\n",
              "      <td>03/05/2021</td>\n",
              "      <td>ul. Gorzysława 9 - 61-057 Poznań, Nowe Miasto ...</td>\n",
              "      <td>['ABS', 'Electrically adjustable mirrors', 'Pa...</td>\n",
              "    </tr>\n",
              "    <tr>\n",
              "      <th>9</th>\n",
              "      <td>9</td>\n",
              "      <td>93100</td>\n",
              "      <td>PLN</td>\n",
              "      <td>New</td>\n",
              "      <td>Abarth</td>\n",
              "      <td>595</td>\n",
              "      <td>NaN</td>\n",
              "      <td>NaN</td>\n",
              "      <td>2021</td>\n",
              "      <td>1.0</td>\n",
              "      <td>...</td>\n",
              "      <td>Manual</td>\n",
              "      <td>small_cars</td>\n",
              "      <td>3.0</td>\n",
              "      <td>gray</td>\n",
              "      <td>NaN</td>\n",
              "      <td>NaN</td>\n",
              "      <td>NaN</td>\n",
              "      <td>03/05/2021</td>\n",
              "      <td>ul. Gorzysława 9 - 61-057 Poznań, Nowe Miasto ...</td>\n",
              "      <td>['ABS', 'Electrically adjustable mirrors', 'Pa...</td>\n",
              "    </tr>\n",
              "  </tbody>\n",
              "</table>\n",
              "<p>10 rows × 25 columns</p>\n",
              "</div>\n",
              "      <button class=\"colab-df-convert\" onclick=\"convertToInteractive('df-d0d712f6-7fee-474c-8809-0bd7287bf6df')\"\n",
              "              title=\"Convert this dataframe to an interactive table.\"\n",
              "              style=\"display:none;\">\n",
              "        \n",
              "  <svg xmlns=\"http://www.w3.org/2000/svg\" height=\"24px\"viewBox=\"0 0 24 24\"\n",
              "       width=\"24px\">\n",
              "    <path d=\"M0 0h24v24H0V0z\" fill=\"none\"/>\n",
              "    <path d=\"M18.56 5.44l.94 2.06.94-2.06 2.06-.94-2.06-.94-.94-2.06-.94 2.06-2.06.94zm-11 1L8.5 8.5l.94-2.06 2.06-.94-2.06-.94L8.5 2.5l-.94 2.06-2.06.94zm10 10l.94 2.06.94-2.06 2.06-.94-2.06-.94-.94-2.06-.94 2.06-2.06.94z\"/><path d=\"M17.41 7.96l-1.37-1.37c-.4-.4-.92-.59-1.43-.59-.52 0-1.04.2-1.43.59L10.3 9.45l-7.72 7.72c-.78.78-.78 2.05 0 2.83L4 21.41c.39.39.9.59 1.41.59.51 0 1.02-.2 1.41-.59l7.78-7.78 2.81-2.81c.8-.78.8-2.07 0-2.86zM5.41 20L4 18.59l7.72-7.72 1.47 1.35L5.41 20z\"/>\n",
              "  </svg>\n",
              "      </button>\n",
              "      \n",
              "  <style>\n",
              "    .colab-df-container {\n",
              "      display:flex;\n",
              "      flex-wrap:wrap;\n",
              "      gap: 12px;\n",
              "    }\n",
              "\n",
              "    .colab-df-convert {\n",
              "      background-color: #E8F0FE;\n",
              "      border: none;\n",
              "      border-radius: 50%;\n",
              "      cursor: pointer;\n",
              "      display: none;\n",
              "      fill: #1967D2;\n",
              "      height: 32px;\n",
              "      padding: 0 0 0 0;\n",
              "      width: 32px;\n",
              "    }\n",
              "\n",
              "    .colab-df-convert:hover {\n",
              "      background-color: #E2EBFA;\n",
              "      box-shadow: 0px 1px 2px rgba(60, 64, 67, 0.3), 0px 1px 3px 1px rgba(60, 64, 67, 0.15);\n",
              "      fill: #174EA6;\n",
              "    }\n",
              "\n",
              "    [theme=dark] .colab-df-convert {\n",
              "      background-color: #3B4455;\n",
              "      fill: #D2E3FC;\n",
              "    }\n",
              "\n",
              "    [theme=dark] .colab-df-convert:hover {\n",
              "      background-color: #434B5C;\n",
              "      box-shadow: 0px 1px 3px 1px rgba(0, 0, 0, 0.15);\n",
              "      filter: drop-shadow(0px 1px 2px rgba(0, 0, 0, 0.3));\n",
              "      fill: #FFFFFF;\n",
              "    }\n",
              "  </style>\n",
              "\n",
              "      <script>\n",
              "        const buttonEl =\n",
              "          document.querySelector('#df-d0d712f6-7fee-474c-8809-0bd7287bf6df button.colab-df-convert');\n",
              "        buttonEl.style.display =\n",
              "          google.colab.kernel.accessAllowed ? 'block' : 'none';\n",
              "\n",
              "        async function convertToInteractive(key) {\n",
              "          const element = document.querySelector('#df-d0d712f6-7fee-474c-8809-0bd7287bf6df');\n",
              "          const dataTable =\n",
              "            await google.colab.kernel.invokeFunction('convertToInteractive',\n",
              "                                                     [key], {});\n",
              "          if (!dataTable) return;\n",
              "\n",
              "          const docLinkHtml = 'Like what you see? Visit the ' +\n",
              "            '<a target=\"_blank\" href=https://colab.research.google.com/notebooks/data_table.ipynb>data table notebook</a>'\n",
              "            + ' to learn more about interactive tables.';\n",
              "          element.innerHTML = '';\n",
              "          dataTable['output_type'] = 'display_data';\n",
              "          await google.colab.output.renderOutput(dataTable, element);\n",
              "          const docLink = document.createElement('div');\n",
              "          docLink.innerHTML = docLinkHtml;\n",
              "          element.appendChild(docLink);\n",
              "        }\n",
              "      </script>\n",
              "    </div>\n",
              "  </div>\n",
              "  "
            ]
          },
          "metadata": {},
          "execution_count": 4
        }
      ],
      "source": [
        "df.head(10)"
      ]
    },
    {
      "cell_type": "code",
      "execution_count": null,
      "metadata": {
        "colab": {
          "base_uri": "https://localhost:8080/",
          "height": 777
        },
        "id": "xAb8DnszR7QJ",
        "outputId": "7b4f97bc-7af8-431b-8d8b-8dbc63406300"
      },
      "outputs": [
        {
          "output_type": "execute_result",
          "data": {
            "text/plain": [
              "<matplotlib.axes._subplots.AxesSubplot at 0x7f1d2d443c40>"
            ]
          },
          "metadata": {},
          "execution_count": 5
        },
        {
          "output_type": "display_data",
          "data": {
            "text/plain": [
              "<Figure size 1050x600 with 2 Axes>"
            ],
            "image/png": "[encoded data removed]"
          },
          "metadata": {
            "needs_background": "light"
          }
        }
      ],
      "source": [
        "plt.figure(figsize=(7,4), dpi=150)\n",
        "sns.heatmap(df.isnull())\n"
      ]
    },
    {
      "cell_type": "code",
      "execution_count": null,
      "metadata": {
        "colab": {
          "base_uri": "https://localhost:8080/",
          "height": 404
        },
        "id": "WHcbwSaRblkC",
        "outputId": "99f76bb1-9717-4b56-b644-d968d2cddc29"
      },
      "outputs": [
        {
          "output_type": "execute_result",
          "data": {
            "text/plain": [
              "<seaborn.axisgrid.FacetGrid at 0x7f1d22e75f40>"
            ]
          },
          "metadata": {},
          "execution_count": 6
        },
        {
          "output_type": "display_data",
          "data": {
            "text/plain": [
              "<Figure size 1500x900 with 0 Axes>"
            ]
          },
          "metadata": {}
        },
        {
          "output_type": "display_data",
          "data": {
            "text/plain": [
              "<Figure size 601.25x360 with 1 Axes>"
            ],
            "image/png": "[encoded data removed]"
          },
          "metadata": {
            "needs_background": "light"
          }
        }
      ],
      "source": [
        "plt.figure(figsize=(10,6), dpi=150)\n",
        "sns.displot(\n",
        "    data=df.isnull().melt(value_name=\"missing\"),\n",
        "    y=\"variable\",\n",
        "    hue=\"missing\",\n",
        "    multiple=\"fill\",\n",
        "    aspect=1.5\n",
        ")"
      ]
    },
    {
      "cell_type": "markdown",
      "metadata": {
        "id": "iICmfg1HeP3g"
      },
      "source": [
        "The above visualizations show the missing values in the dataset. In conclusion we got 6 main attributes with more than 20% missing values: First_registration_date, First_owner, Origin_country, CO2_emissions, vehicle_version and vehicle_generation\n",
        "\n",
        "Other attributes with less than 20% missing values are Type, Displacement_cm3, Mileage_km, Drive, Doors_number"
      ]
    },
    {
      "cell_type": "markdown",
      "metadata": {
        "id": "cOMTaER3jdsq"
      },
      "source": [
        "Chcecking the percentage of the missing values in the <0.1 missing attributes and their datatypes"
      ]
    },
    {
      "cell_type": "code",
      "execution_count": null,
      "metadata": {
        "colab": {
          "base_uri": "https://localhost:8080/"
        },
        "id": "0U2WJ1WfestA",
        "outputId": "b5a88f65-ac97-470b-acb2-5864448ee455"
      },
      "outputs": [
        {
          "output_type": "stream",
          "name": "stdout",
          "text": [
            "1.002322150074396%\n",
            "float64\n"
          ]
        }
      ],
      "source": [
        "missing_Displacement_percentage = (df.Displacement_cm3.isnull().sum()/df.shape[0])*100\n",
        "print(f\"{missing_Displacement_percentage}%\")\n",
        "\n",
        "print(df.Displacement_cm3.dtype)\n"
      ]
    },
    {
      "cell_type": "code",
      "execution_count": null,
      "metadata": {
        "colab": {
          "base_uri": "https://localhost:8080/"
        },
        "id": "gEJyiO6zk8Yg",
        "outputId": "c40c808c-4f19-4479-e09e-8ed9b198d9a6"
      },
      "outputs": [
        {
          "output_type": "stream",
          "name": "stdout",
          "text": [
            "7.438350962167008%\n",
            "object\n"
          ]
        }
      ],
      "source": [
        "missing_Drive_percentage = (df.Drive.isnull().sum()/df.shape[0])*100\n",
        "print(f\"{missing_Drive_percentage}%\")\n",
        "print(df.Drive.dtype)\n"
      ]
    },
    {
      "cell_type": "code",
      "execution_count": null,
      "metadata": {
        "colab": {
          "base_uri": "https://localhost:8080/"
        },
        "id": "oWCA4vw7larz",
        "outputId": "25e80f84-f12d-41e4-bdfb-ad26492e84b7"
      },
      "outputs": [
        {
          "output_type": "stream",
          "name": "stdout",
          "text": [
            "0.7371114445267607%\n",
            "float64\n"
          ]
        }
      ],
      "source": [
        "missing_Doors_percentage = (df.Doors_number.isnull().sum()/df.shape[0])*100\n",
        "print(f\"{missing_Doors_percentage}%\")\n",
        "print(df.Doors_number.dtype)\n"
      ]
    },
    {
      "cell_type": "code",
      "execution_count": null,
      "metadata": {
        "colab": {
          "base_uri": "https://localhost:8080/"
        },
        "id": "bnxS4fiblu4N",
        "outputId": "ed28da36-5740-4d59-e37e-c9d9f3750559"
      },
      "outputs": [
        {
          "output_type": "stream",
          "name": "stdout",
          "text": [
            "0.4812391441040423%\n",
            "float64\n"
          ]
        }
      ],
      "source": [
        "missing_Mileage_percentage = (df.Mileage_km.isnull().sum()/df.shape[0])*100\n",
        "print(f\"{missing_Mileage_percentage}%\")\n",
        "print(df.Mileage_km.dtype)\n"
      ]
    },
    {
      "cell_type": "markdown",
      "metadata": {
        "id": "nkaeGva7mTjg"
      },
      "source": [
        "Displacement, Doors_number, drive and mileage_km could be filled in using imputation since they are within an acceptable range\n"
      ]
    },
    {
      "cell_type": "markdown",
      "metadata": {
        "id": "ePCfTfpxs4zu"
      },
      "source": [
        "We will use the median to fill in Mileage and Displacement and mode to fill in doors"
      ]
    },
    {
      "cell_type": "code",
      "execution_count": null,
      "metadata": {
        "id": "cY_NaA4auy8v"
      },
      "outputs": [],
      "source": [
        "df['Mileage_km'].fillna(df['Mileage_km'].median(), inplace = True)"
      ]
    },
    {
      "cell_type": "code",
      "execution_count": null,
      "metadata": {
        "id": "TPIe0s357kHv"
      },
      "outputs": [],
      "source": [
        "df['Displacement_cm3'].fillna(df['Displacement_cm3'].median(), inplace = True)"
      ]
    },
    {
      "cell_type": "code",
      "execution_count": null,
      "metadata": {
        "id": "RQ6B3GoMAV1n"
      },
      "outputs": [],
      "source": [
        "df['Doors_number'].fillna(df['Doors_number'].mode()[0], inplace = True)"
      ]
    },
    {
      "cell_type": "code",
      "execution_count": null,
      "metadata": {
        "id": "uuwbM138jXtk"
      },
      "outputs": [],
      "source": [
        "df['Drive'].fillna(df['Drive'].mode()[0], inplace = True)"
      ]
    },
    {
      "cell_type": "markdown",
      "metadata": {
        "id": "W4eNxxvDlMOQ"
      },
      "source": [
        "We will assume that any null value in the First owners attribute translates to No"
      ]
    },
    {
      "cell_type": "code",
      "execution_count": null,
      "metadata": {
        "id": "QcVfhA2WSTOe"
      },
      "outputs": [],
      "source": [
        "df['First_owner'].fillna('No',inplace= True)"
      ]
    },
    {
      "cell_type": "code",
      "execution_count": null,
      "metadata": {
        "colab": {
          "base_uri": "https://localhost:8080/",
          "height": 404
        },
        "id": "VVRRjA4iArLU",
        "outputId": "4df36592-d5ae-4832-8c09-f4b6c3967e59"
      },
      "outputs": [
        {
          "output_type": "execute_result",
          "data": {
            "text/plain": [
              "<seaborn.axisgrid.FacetGrid at 0x7fab0e1be190>"
            ]
          },
          "metadata": {},
          "execution_count": 13
        },
        {
          "output_type": "display_data",
          "data": {
            "text/plain": [
              "<Figure size 1500x900 with 0 Axes>"
            ]
          },
          "metadata": {}
        },
        {
          "output_type": "display_data",
          "data": {
            "text/plain": [
              "<Figure size 601.25x360 with 1 Axes>"
            ],
            "image/png": "[encoded data removed]"
          },
          "metadata": {
            "needs_background": "light"
          }
        }
      ],
      "source": [
        "plt.figure(figsize=(10,6), dpi=150)\n",
        "sns.displot(\n",
        "    data=df.isnull().melt(value_name=\"missing\"),\n",
        "    y=\"variable\",\n",
        "    hue=\"missing\",\n",
        "    multiple=\"fill\",\n",
        "    aspect=1.5\n",
        ")\n"
      ]
    },
    {
      "cell_type": "code",
      "source": [
        "#filling in the missing values of the electric cars with 0 \n",
        "# ?"
      ],
      "metadata": {
        "id": "yguYsyAUyzwj"
      },
      "execution_count": null,
      "outputs": []
    },
    {
      "cell_type": "code",
      "source": [],
      "metadata": {
        "id": "lX_RnPZW5R_T"
      },
      "execution_count": null,
      "outputs": []
    },
    {
      "cell_type": "markdown",
      "metadata": {
        "id": "F5DCsVk26kr8"
      },
      "source": [
        "First_registration_date is probably mostly null due to the cars on sale already being used and many people are not the first owner (or have refrained from answering, perhaps due to not wanting to depreciate the price of the car being sold) and it could be difficult for a secondhand user to know this information. The same could apply for Origin_country"
      ]
    },
    {
      "cell_type": "markdown",
      "metadata": {
        "id": "9ljWS86g7GrM"
      },
      "source": [
        "CO2 emissions is also over 50% null perhaps due to the fact that many people dont consider it important as a selling point. It is also worth mentioning that many old cars (those produced before 1990 as shown below) will most likely not have this information as it was not relevant at the time"
      ]
    },
    {
      "cell_type": "code",
      "execution_count": null,
      "metadata": {
        "id": "AiV_8dxxXO7i",
        "outputId": "79d0e289-8e9e-42f3-ca37-4843fec0d59b",
        "colab": {
          "base_uri": "https://localhost:8080/",
          "height": 1000
        }
      },
      "outputs": [
        {
          "output_type": "error",
          "ename": "KeyboardInterrupt",
          "evalue": "ignored",
          "traceback": [
            "\u001b[0;31m---------------------------------------------------------------------------\u001b[0m",
            "\u001b[0;31mKeyboardInterrupt\u001b[0m                         Traceback (most recent call last)",
            "\u001b[0;32m<ipython-input-14-1a6fe1782b2f>\u001b[0m in \u001b[0;36m<module>\u001b[0;34m\u001b[0m\n\u001b[0;32m----> 1\u001b[0;31m \u001b[0msns\u001b[0m\u001b[0;34m.\u001b[0m\u001b[0mpairplot\u001b[0m\u001b[0;34m(\u001b[0m\u001b[0mdf\u001b[0m\u001b[0;34m)\u001b[0m\u001b[0;34m\u001b[0m\u001b[0;34m\u001b[0m\u001b[0m\n\u001b[0m",
            "\u001b[0;32m/usr/local/lib/python3.8/dist-packages/seaborn/_decorators.py\u001b[0m in \u001b[0;36minner_f\u001b[0;34m(*args, **kwargs)\u001b[0m\n\u001b[1;32m     44\u001b[0m             )\n\u001b[1;32m     45\u001b[0m         \u001b[0mkwargs\u001b[0m\u001b[0;34m.\u001b[0m\u001b[0mupdate\u001b[0m\u001b[0;34m(\u001b[0m\u001b[0;34m{\u001b[0m\u001b[0mk\u001b[0m\u001b[0;34m:\u001b[0m \u001b[0marg\u001b[0m \u001b[0;32mfor\u001b[0m \u001b[0mk\u001b[0m\u001b[0;34m,\u001b[0m \u001b[0marg\u001b[0m \u001b[0;32min\u001b[0m \u001b[0mzip\u001b[0m\u001b[0;34m(\u001b[0m\u001b[0msig\u001b[0m\u001b[0;34m.\u001b[0m\u001b[0mparameters\u001b[0m\u001b[0;34m,\u001b[0m \u001b[0margs\u001b[0m\u001b[0;34m)\u001b[0m\u001b[0;34m}\u001b[0m\u001b[0;34m)\u001b[0m\u001b[0;34m\u001b[0m\u001b[0;34m\u001b[0m\u001b[0m\n\u001b[0;32m---> 46\u001b[0;31m         \u001b[0;32mreturn\u001b[0m \u001b[0mf\u001b[0m\u001b[0;34m(\u001b[0m\u001b[0;34m**\u001b[0m\u001b[0mkwargs\u001b[0m\u001b[0;34m)\u001b[0m\u001b[0;34m\u001b[0m\u001b[0;34m\u001b[0m\u001b[0m\n\u001b[0m\u001b[1;32m     47\u001b[0m     \u001b[0;32mreturn\u001b[0m \u001b[0minner_f\u001b[0m\u001b[0;34m\u001b[0m\u001b[0;34m\u001b[0m\u001b[0m\n\u001b[1;32m     48\u001b[0m \u001b[0;34m\u001b[0m\u001b[0m\n",
            "\u001b[0;32m/usr/local/lib/python3.8/dist-packages/seaborn/axisgrid.py\u001b[0m in \u001b[0;36mpairplot\u001b[0;34m(data, hue, hue_order, palette, vars, x_vars, y_vars, kind, diag_kind, markers, height, aspect, corner, dropna, plot_kws, diag_kws, grid_kws, size)\u001b[0m\n\u001b[1;32m   2124\u001b[0m     \u001b[0mdiag_kws\u001b[0m\u001b[0;34m.\u001b[0m\u001b[0msetdefault\u001b[0m\u001b[0;34m(\u001b[0m\u001b[0;34m\"legend\"\u001b[0m\u001b[0;34m,\u001b[0m \u001b[0;32mFalse\u001b[0m\u001b[0;34m)\u001b[0m\u001b[0;34m\u001b[0m\u001b[0;34m\u001b[0m\u001b[0m\n\u001b[1;32m   2125\u001b[0m     \u001b[0;32mif\u001b[0m \u001b[0mdiag_kind\u001b[0m \u001b[0;34m==\u001b[0m \u001b[0;34m\"hist\"\u001b[0m\u001b[0;34m:\u001b[0m\u001b[0;34m\u001b[0m\u001b[0;34m\u001b[0m\u001b[0m\n\u001b[0;32m-> 2126\u001b[0;31m         \u001b[0mgrid\u001b[0m\u001b[0;34m.\u001b[0m\u001b[0mmap_diag\u001b[0m\u001b[0;34m(\u001b[0m\u001b[0mhistplot\u001b[0m\u001b[0;34m,\u001b[0m \u001b[0;34m**\u001b[0m\u001b[0mdiag_kws\u001b[0m\u001b[0;34m)\u001b[0m\u001b[0;34m\u001b[0m\u001b[0;34m\u001b[0m\u001b[0m\n\u001b[0m\u001b[1;32m   2127\u001b[0m     \u001b[0;32melif\u001b[0m \u001b[0mdiag_kind\u001b[0m \u001b[0;34m==\u001b[0m \u001b[0;34m\"kde\"\u001b[0m\u001b[0;34m:\u001b[0m\u001b[0;34m\u001b[0m\u001b[0;34m\u001b[0m\u001b[0m\n\u001b[1;32m   2128\u001b[0m         \u001b[0mdiag_kws\u001b[0m\u001b[0;34m.\u001b[0m\u001b[0msetdefault\u001b[0m\u001b[0;34m(\u001b[0m\u001b[0;34m\"fill\"\u001b[0m\u001b[0;34m,\u001b[0m \u001b[0;32mTrue\u001b[0m\u001b[0;34m)\u001b[0m\u001b[0;34m\u001b[0m\u001b[0;34m\u001b[0m\u001b[0m\n",
            "\u001b[0;32m/usr/local/lib/python3.8/dist-packages/seaborn/axisgrid.py\u001b[0m in \u001b[0;36mmap_diag\u001b[0;34m(self, func, **kwargs)\u001b[0m\n\u001b[1;32m   1476\u001b[0m             \u001b[0mplot_kwargs\u001b[0m\u001b[0;34m.\u001b[0m\u001b[0msetdefault\u001b[0m\u001b[0;34m(\u001b[0m\u001b[0;34m\"hue_order\"\u001b[0m\u001b[0;34m,\u001b[0m \u001b[0mself\u001b[0m\u001b[0;34m.\u001b[0m\u001b[0m_hue_order\u001b[0m\u001b[0;34m)\u001b[0m\u001b[0;34m\u001b[0m\u001b[0;34m\u001b[0m\u001b[0m\n\u001b[1;32m   1477\u001b[0m             \u001b[0mplot_kwargs\u001b[0m\u001b[0;34m.\u001b[0m\u001b[0msetdefault\u001b[0m\u001b[0;34m(\u001b[0m\u001b[0;34m\"palette\"\u001b[0m\u001b[0;34m,\u001b[0m \u001b[0mself\u001b[0m\u001b[0;34m.\u001b[0m\u001b[0m_orig_palette\u001b[0m\u001b[0;34m)\u001b[0m\u001b[0;34m\u001b[0m\u001b[0;34m\u001b[0m\u001b[0m\n\u001b[0;32m-> 1478\u001b[0;31m             \u001b[0mfunc\u001b[0m\u001b[0;34m(\u001b[0m\u001b[0mx\u001b[0m\u001b[0;34m=\u001b[0m\u001b[0mvector\u001b[0m\u001b[0;34m,\u001b[0m \u001b[0;34m**\u001b[0m\u001b[0mplot_kwargs\u001b[0m\u001b[0;34m)\u001b[0m\u001b[0;34m\u001b[0m\u001b[0;34m\u001b[0m\u001b[0m\n\u001b[0m\u001b[1;32m   1479\u001b[0m             \u001b[0max\u001b[0m\u001b[0;34m.\u001b[0m\u001b[0mlegend_\u001b[0m \u001b[0;34m=\u001b[0m \u001b[0;32mNone\u001b[0m\u001b[0;34m\u001b[0m\u001b[0;34m\u001b[0m\u001b[0m\n\u001b[1;32m   1480\u001b[0m \u001b[0;34m\u001b[0m\u001b[0m\n",
            "\u001b[0;32m/usr/local/lib/python3.8/dist-packages/seaborn/distributions.py\u001b[0m in \u001b[0;36mhistplot\u001b[0;34m(data, x, y, hue, weights, stat, bins, binwidth, binrange, discrete, cumulative, common_bins, common_norm, multiple, element, fill, shrink, kde, kde_kws, line_kws, thresh, pthresh, pmax, cbar, cbar_ax, cbar_kws, palette, hue_order, hue_norm, color, log_scale, legend, ax, **kwargs)\u001b[0m\n\u001b[1;32m   1460\u001b[0m     \u001b[0;32mif\u001b[0m \u001b[0mp\u001b[0m\u001b[0;34m.\u001b[0m\u001b[0munivariate\u001b[0m\u001b[0;34m:\u001b[0m\u001b[0;34m\u001b[0m\u001b[0;34m\u001b[0m\u001b[0m\n\u001b[1;32m   1461\u001b[0m \u001b[0;34m\u001b[0m\u001b[0m\n\u001b[0;32m-> 1462\u001b[0;31m         p.plot_univariate_histogram(\n\u001b[0m\u001b[1;32m   1463\u001b[0m             \u001b[0mmultiple\u001b[0m\u001b[0;34m=\u001b[0m\u001b[0mmultiple\u001b[0m\u001b[0;34m,\u001b[0m\u001b[0;34m\u001b[0m\u001b[0;34m\u001b[0m\u001b[0m\n\u001b[1;32m   1464\u001b[0m             \u001b[0melement\u001b[0m\u001b[0;34m=\u001b[0m\u001b[0melement\u001b[0m\u001b[0;34m,\u001b[0m\u001b[0;34m\u001b[0m\u001b[0;34m\u001b[0m\u001b[0m\n",
            "\u001b[0;32m/usr/local/lib/python3.8/dist-packages/seaborn/distributions.py\u001b[0m in \u001b[0;36mplot_univariate_histogram\u001b[0;34m(self, multiple, element, fill, common_norm, common_bins, shrink, kde, kde_kws, color, legend, line_kws, estimate_kws, **plot_kws)\u001b[0m\n\u001b[1;32m    563\u001b[0m \u001b[0;34m\u001b[0m\u001b[0m\n\u001b[1;32m    564\u001b[0m                 \u001b[0mplot_func\u001b[0m \u001b[0;34m=\u001b[0m \u001b[0max\u001b[0m\u001b[0;34m.\u001b[0m\u001b[0mbar\u001b[0m \u001b[0;32mif\u001b[0m \u001b[0mself\u001b[0m\u001b[0;34m.\u001b[0m\u001b[0mdata_variable\u001b[0m \u001b[0;34m==\u001b[0m \u001b[0;34m\"x\"\u001b[0m \u001b[0;32melse\u001b[0m \u001b[0max\u001b[0m\u001b[0;34m.\u001b[0m\u001b[0mbarh\u001b[0m\u001b[0;34m\u001b[0m\u001b[0;34m\u001b[0m\u001b[0m\n\u001b[0;32m--> 565\u001b[0;31m                 artists = plot_func(\n\u001b[0m\u001b[1;32m    566\u001b[0m                     \u001b[0mhist\u001b[0m\u001b[0;34m[\u001b[0m\u001b[0;34m\"edges\"\u001b[0m\u001b[0;34m]\u001b[0m\u001b[0;34m,\u001b[0m\u001b[0;34m\u001b[0m\u001b[0;34m\u001b[0m\u001b[0m\n\u001b[1;32m    567\u001b[0m                     \u001b[0mhist\u001b[0m\u001b[0;34m[\u001b[0m\u001b[0;34m\"heights\"\u001b[0m\u001b[0;34m]\u001b[0m \u001b[0;34m-\u001b[0m \u001b[0mbottom\u001b[0m\u001b[0;34m,\u001b[0m\u001b[0;34m\u001b[0m\u001b[0;34m\u001b[0m\u001b[0m\n",
            "\u001b[0;32m/usr/local/lib/python3.8/dist-packages/matplotlib/__init__.py\u001b[0m in \u001b[0;36minner\u001b[0;34m(ax, data, *args, **kwargs)\u001b[0m\n\u001b[1;32m   1563\u001b[0m     \u001b[0;32mdef\u001b[0m \u001b[0minner\u001b[0m\u001b[0;34m(\u001b[0m\u001b[0max\u001b[0m\u001b[0;34m,\u001b[0m \u001b[0;34m*\u001b[0m\u001b[0margs\u001b[0m\u001b[0;34m,\u001b[0m \u001b[0mdata\u001b[0m\u001b[0;34m=\u001b[0m\u001b[0;32mNone\u001b[0m\u001b[0;34m,\u001b[0m \u001b[0;34m**\u001b[0m\u001b[0mkwargs\u001b[0m\u001b[0;34m)\u001b[0m\u001b[0;34m:\u001b[0m\u001b[0;34m\u001b[0m\u001b[0;34m\u001b[0m\u001b[0m\n\u001b[1;32m   1564\u001b[0m         \u001b[0;32mif\u001b[0m \u001b[0mdata\u001b[0m \u001b[0;32mis\u001b[0m \u001b[0;32mNone\u001b[0m\u001b[0;34m:\u001b[0m\u001b[0;34m\u001b[0m\u001b[0;34m\u001b[0m\u001b[0m\n\u001b[0;32m-> 1565\u001b[0;31m             \u001b[0;32mreturn\u001b[0m \u001b[0mfunc\u001b[0m\u001b[0;34m(\u001b[0m\u001b[0max\u001b[0m\u001b[0;34m,\u001b[0m \u001b[0;34m*\u001b[0m\u001b[0mmap\u001b[0m\u001b[0;34m(\u001b[0m\u001b[0msanitize_sequence\u001b[0m\u001b[0;34m,\u001b[0m \u001b[0margs\u001b[0m\u001b[0;34m)\u001b[0m\u001b[0;34m,\u001b[0m \u001b[0;34m**\u001b[0m\u001b[0mkwargs\u001b[0m\u001b[0;34m)\u001b[0m\u001b[0;34m\u001b[0m\u001b[0;34m\u001b[0m\u001b[0m\n\u001b[0m\u001b[1;32m   1566\u001b[0m \u001b[0;34m\u001b[0m\u001b[0m\n\u001b[1;32m   1567\u001b[0m         \u001b[0mbound\u001b[0m \u001b[0;34m=\u001b[0m \u001b[0mnew_sig\u001b[0m\u001b[0;34m.\u001b[0m\u001b[0mbind\u001b[0m\u001b[0;34m(\u001b[0m\u001b[0max\u001b[0m\u001b[0;34m,\u001b[0m \u001b[0;34m*\u001b[0m\u001b[0margs\u001b[0m\u001b[0;34m,\u001b[0m \u001b[0;34m**\u001b[0m\u001b[0mkwargs\u001b[0m\u001b[0;34m)\u001b[0m\u001b[0;34m\u001b[0m\u001b[0;34m\u001b[0m\u001b[0m\n",
            "\u001b[0;32m/usr/local/lib/python3.8/dist-packages/matplotlib/axes/_axes.py\u001b[0m in \u001b[0;36mbar\u001b[0;34m(self, x, height, width, bottom, align, **kwargs)\u001b[0m\n\u001b[1;32m   2402\u001b[0m             \u001b[0;32melif\u001b[0m \u001b[0morientation\u001b[0m \u001b[0;34m==\u001b[0m \u001b[0;34m'horizontal'\u001b[0m\u001b[0;34m:\u001b[0m\u001b[0;34m\u001b[0m\u001b[0;34m\u001b[0m\u001b[0m\n\u001b[1;32m   2403\u001b[0m                 \u001b[0mr\u001b[0m\u001b[0;34m.\u001b[0m\u001b[0msticky_edges\u001b[0m\u001b[0;34m.\u001b[0m\u001b[0mx\u001b[0m\u001b[0;34m.\u001b[0m\u001b[0mappend\u001b[0m\u001b[0;34m(\u001b[0m\u001b[0ml\u001b[0m\u001b[0;34m)\u001b[0m\u001b[0;34m\u001b[0m\u001b[0;34m\u001b[0m\u001b[0m\n\u001b[0;32m-> 2404\u001b[0;31m             \u001b[0mself\u001b[0m\u001b[0;34m.\u001b[0m\u001b[0madd_patch\u001b[0m\u001b[0;34m(\u001b[0m\u001b[0mr\u001b[0m\u001b[0;34m)\u001b[0m\u001b[0;34m\u001b[0m\u001b[0;34m\u001b[0m\u001b[0m\n\u001b[0m\u001b[1;32m   2405\u001b[0m             \u001b[0mpatches\u001b[0m\u001b[0;34m.\u001b[0m\u001b[0mappend\u001b[0m\u001b[0;34m(\u001b[0m\u001b[0mr\u001b[0m\u001b[0;34m)\u001b[0m\u001b[0;34m\u001b[0m\u001b[0;34m\u001b[0m\u001b[0m\n\u001b[1;32m   2406\u001b[0m \u001b[0;34m\u001b[0m\u001b[0m\n",
            "\u001b[0;32m/usr/local/lib/python3.8/dist-packages/matplotlib/axes/_base.py\u001b[0m in \u001b[0;36madd_patch\u001b[0;34m(self, p)\u001b[0m\n\u001b[1;32m   1917\u001b[0m         \u001b[0;32mif\u001b[0m \u001b[0mp\u001b[0m\u001b[0;34m.\u001b[0m\u001b[0mget_clip_path\u001b[0m\u001b[0;34m(\u001b[0m\u001b[0;34m)\u001b[0m \u001b[0;32mis\u001b[0m \u001b[0;32mNone\u001b[0m\u001b[0;34m:\u001b[0m\u001b[0;34m\u001b[0m\u001b[0;34m\u001b[0m\u001b[0m\n\u001b[1;32m   1918\u001b[0m             \u001b[0mp\u001b[0m\u001b[0;34m.\u001b[0m\u001b[0mset_clip_path\u001b[0m\u001b[0;34m(\u001b[0m\u001b[0mself\u001b[0m\u001b[0;34m.\u001b[0m\u001b[0mpatch\u001b[0m\u001b[0;34m)\u001b[0m\u001b[0;34m\u001b[0m\u001b[0;34m\u001b[0m\u001b[0m\n\u001b[0;32m-> 1919\u001b[0;31m         \u001b[0mself\u001b[0m\u001b[0;34m.\u001b[0m\u001b[0m_update_patch_limits\u001b[0m\u001b[0;34m(\u001b[0m\u001b[0mp\u001b[0m\u001b[0;34m)\u001b[0m\u001b[0;34m\u001b[0m\u001b[0;34m\u001b[0m\u001b[0m\n\u001b[0m\u001b[1;32m   1920\u001b[0m         \u001b[0mself\u001b[0m\u001b[0;34m.\u001b[0m\u001b[0mpatches\u001b[0m\u001b[0;34m.\u001b[0m\u001b[0mappend\u001b[0m\u001b[0;34m(\u001b[0m\u001b[0mp\u001b[0m\u001b[0;34m)\u001b[0m\u001b[0;34m\u001b[0m\u001b[0;34m\u001b[0m\u001b[0m\n\u001b[1;32m   1921\u001b[0m         \u001b[0mp\u001b[0m\u001b[0;34m.\u001b[0m\u001b[0m_remove_method\u001b[0m \u001b[0;34m=\u001b[0m \u001b[0mself\u001b[0m\u001b[0;34m.\u001b[0m\u001b[0mpatches\u001b[0m\u001b[0;34m.\u001b[0m\u001b[0mremove\u001b[0m\u001b[0;34m\u001b[0m\u001b[0;34m\u001b[0m\u001b[0m\n",
            "\u001b[0;32m/usr/local/lib/python3.8/dist-packages/matplotlib/axes/_base.py\u001b[0m in \u001b[0;36m_update_patch_limits\u001b[0;34m(self, patch)\u001b[0m\n\u001b[1;32m   1937\u001b[0m         \u001b[0mvertices\u001b[0m \u001b[0;34m=\u001b[0m \u001b[0mpatch\u001b[0m\u001b[0;34m.\u001b[0m\u001b[0mget_path\u001b[0m\u001b[0;34m(\u001b[0m\u001b[0;34m)\u001b[0m\u001b[0;34m.\u001b[0m\u001b[0mvertices\u001b[0m\u001b[0;34m\u001b[0m\u001b[0;34m\u001b[0m\u001b[0m\n\u001b[1;32m   1938\u001b[0m         \u001b[0;32mif\u001b[0m \u001b[0mvertices\u001b[0m\u001b[0;34m.\u001b[0m\u001b[0msize\u001b[0m \u001b[0;34m>\u001b[0m \u001b[0;36m0\u001b[0m\u001b[0;34m:\u001b[0m\u001b[0;34m\u001b[0m\u001b[0;34m\u001b[0m\u001b[0m\n\u001b[0;32m-> 1939\u001b[0;31m             \u001b[0mxys\u001b[0m \u001b[0;34m=\u001b[0m \u001b[0mpatch\u001b[0m\u001b[0;34m.\u001b[0m\u001b[0mget_patch_transform\u001b[0m\u001b[0;34m(\u001b[0m\u001b[0;34m)\u001b[0m\u001b[0;34m.\u001b[0m\u001b[0mtransform\u001b[0m\u001b[0;34m(\u001b[0m\u001b[0mvertices\u001b[0m\u001b[0;34m)\u001b[0m\u001b[0;34m\u001b[0m\u001b[0;34m\u001b[0m\u001b[0m\n\u001b[0m\u001b[1;32m   1940\u001b[0m             \u001b[0;32mif\u001b[0m \u001b[0mpatch\u001b[0m\u001b[0;34m.\u001b[0m\u001b[0mget_data_transform\u001b[0m\u001b[0;34m(\u001b[0m\u001b[0;34m)\u001b[0m \u001b[0;34m!=\u001b[0m \u001b[0mself\u001b[0m\u001b[0;34m.\u001b[0m\u001b[0mtransData\u001b[0m\u001b[0;34m:\u001b[0m\u001b[0;34m\u001b[0m\u001b[0;34m\u001b[0m\u001b[0m\n\u001b[1;32m   1941\u001b[0m                 patch_to_data = (patch.get_data_transform() -\n",
            "\u001b[0;32m/usr/local/lib/python3.8/dist-packages/matplotlib/patches.py\u001b[0m in \u001b[0;36mget_patch_transform\u001b[0;34m(self)\u001b[0m\n\u001b[1;32m    775\u001b[0m \u001b[0;34m\u001b[0m\u001b[0m\n\u001b[1;32m    776\u001b[0m     \u001b[0;32mdef\u001b[0m \u001b[0mget_patch_transform\u001b[0m\u001b[0;34m(\u001b[0m\u001b[0mself\u001b[0m\u001b[0;34m)\u001b[0m\u001b[0;34m:\u001b[0m\u001b[0;34m\u001b[0m\u001b[0;34m\u001b[0m\u001b[0m\n\u001b[0;32m--> 777\u001b[0;31m         \u001b[0mself\u001b[0m\u001b[0;34m.\u001b[0m\u001b[0m_update_patch_transform\u001b[0m\u001b[0;34m(\u001b[0m\u001b[0;34m)\u001b[0m\u001b[0;34m\u001b[0m\u001b[0;34m\u001b[0m\u001b[0m\n\u001b[0m\u001b[1;32m    778\u001b[0m         \u001b[0;32mreturn\u001b[0m \u001b[0mself\u001b[0m\u001b[0;34m.\u001b[0m\u001b[0m_rect_transform\u001b[0m\u001b[0;34m\u001b[0m\u001b[0;34m\u001b[0m\u001b[0m\n\u001b[1;32m    779\u001b[0m \u001b[0;34m\u001b[0m\u001b[0m\n",
            "\u001b[0;32m/usr/local/lib/python3.8/dist-packages/matplotlib/patches.py\u001b[0m in \u001b[0;36m_update_patch_transform\u001b[0;34m(self)\u001b[0m\n\u001b[1;32m    758\u001b[0m         \u001b[0mrot_trans\u001b[0m\u001b[0;34m.\u001b[0m\u001b[0mrotate_deg_around\u001b[0m\u001b[0;34m(\u001b[0m\u001b[0mx0\u001b[0m\u001b[0;34m,\u001b[0m \u001b[0my0\u001b[0m\u001b[0;34m,\u001b[0m \u001b[0mself\u001b[0m\u001b[0;34m.\u001b[0m\u001b[0mangle\u001b[0m\u001b[0;34m)\u001b[0m\u001b[0;34m\u001b[0m\u001b[0;34m\u001b[0m\u001b[0m\n\u001b[1;32m    759\u001b[0m         \u001b[0mself\u001b[0m\u001b[0;34m.\u001b[0m\u001b[0m_rect_transform\u001b[0m \u001b[0;34m=\u001b[0m \u001b[0mtransforms\u001b[0m\u001b[0;34m.\u001b[0m\u001b[0mBboxTransformTo\u001b[0m\u001b[0;34m(\u001b[0m\u001b[0mbbox\u001b[0m\u001b[0;34m)\u001b[0m\u001b[0;34m\u001b[0m\u001b[0;34m\u001b[0m\u001b[0m\n\u001b[0;32m--> 760\u001b[0;31m         \u001b[0mself\u001b[0m\u001b[0;34m.\u001b[0m\u001b[0m_rect_transform\u001b[0m \u001b[0;34m+=\u001b[0m \u001b[0mrot_trans\u001b[0m\u001b[0;34m\u001b[0m\u001b[0;34m\u001b[0m\u001b[0m\n\u001b[0m\u001b[1;32m    761\u001b[0m \u001b[0;34m\u001b[0m\u001b[0m\n\u001b[1;32m    762\u001b[0m     \u001b[0;32mdef\u001b[0m \u001b[0m_update_x1\u001b[0m\u001b[0;34m(\u001b[0m\u001b[0mself\u001b[0m\u001b[0;34m)\u001b[0m\u001b[0;34m:\u001b[0m\u001b[0;34m\u001b[0m\u001b[0;34m\u001b[0m\u001b[0m\n",
            "\u001b[0;32m/usr/local/lib/python3.8/dist-packages/matplotlib/transforms.py\u001b[0m in \u001b[0;36m__add__\u001b[0;34m(self, other)\u001b[0m\n\u001b[1;32m   1251\u001b[0m         \"\"\"\n\u001b[1;32m   1252\u001b[0m         \u001b[0;32mif\u001b[0m \u001b[0misinstance\u001b[0m\u001b[0;34m(\u001b[0m\u001b[0mother\u001b[0m\u001b[0;34m,\u001b[0m \u001b[0mTransform\u001b[0m\u001b[0;34m)\u001b[0m\u001b[0;34m:\u001b[0m\u001b[0;34m\u001b[0m\u001b[0;34m\u001b[0m\u001b[0m\n\u001b[0;32m-> 1253\u001b[0;31m             \u001b[0;32mreturn\u001b[0m \u001b[0mcomposite_transform_factory\u001b[0m\u001b[0;34m(\u001b[0m\u001b[0mself\u001b[0m\u001b[0;34m,\u001b[0m \u001b[0mother\u001b[0m\u001b[0;34m)\u001b[0m\u001b[0;34m\u001b[0m\u001b[0;34m\u001b[0m\u001b[0m\n\u001b[0m\u001b[1;32m   1254\u001b[0m         raise TypeError(\n\u001b[1;32m   1255\u001b[0m             \"Can not add Transform to object of type '%s'\" % type(other))\n",
            "\u001b[0;32m/usr/local/lib/python3.8/dist-packages/matplotlib/transforms.py\u001b[0m in \u001b[0;36mcomposite_transform_factory\u001b[0;34m(a, b)\u001b[0m\n\u001b[1;32m   2484\u001b[0m     \u001b[0;32melif\u001b[0m \u001b[0misinstance\u001b[0m\u001b[0;34m(\u001b[0m\u001b[0ma\u001b[0m\u001b[0;34m,\u001b[0m \u001b[0mAffine2D\u001b[0m\u001b[0;34m)\u001b[0m \u001b[0;32mand\u001b[0m \u001b[0misinstance\u001b[0m\u001b[0;34m(\u001b[0m\u001b[0mb\u001b[0m\u001b[0;34m,\u001b[0m \u001b[0mAffine2D\u001b[0m\u001b[0;34m)\u001b[0m\u001b[0;34m:\u001b[0m\u001b[0;34m\u001b[0m\u001b[0;34m\u001b[0m\u001b[0m\n\u001b[1;32m   2485\u001b[0m         \u001b[0;32mreturn\u001b[0m \u001b[0mCompositeAffine2D\u001b[0m\u001b[0;34m(\u001b[0m\u001b[0ma\u001b[0m\u001b[0;34m,\u001b[0m \u001b[0mb\u001b[0m\u001b[0;34m)\u001b[0m\u001b[0;34m\u001b[0m\u001b[0;34m\u001b[0m\u001b[0m\n\u001b[0;32m-> 2486\u001b[0;31m     \u001b[0;32mreturn\u001b[0m \u001b[0mCompositeGenericTransform\u001b[0m\u001b[0;34m(\u001b[0m\u001b[0ma\u001b[0m\u001b[0;34m,\u001b[0m \u001b[0mb\u001b[0m\u001b[0;34m)\u001b[0m\u001b[0;34m\u001b[0m\u001b[0;34m\u001b[0m\u001b[0m\n\u001b[0m\u001b[1;32m   2487\u001b[0m \u001b[0;34m\u001b[0m\u001b[0m\n\u001b[1;32m   2488\u001b[0m \u001b[0;34m\u001b[0m\u001b[0m\n",
            "\u001b[0;32m/usr/local/lib/python3.8/dist-packages/matplotlib/transforms.py\u001b[0m in \u001b[0;36m__init__\u001b[0;34m(self, a, b, **kwargs)\u001b[0m\n\u001b[1;32m   2306\u001b[0m         \u001b[0mself\u001b[0m\u001b[0;34m.\u001b[0m\u001b[0m_a\u001b[0m \u001b[0;34m=\u001b[0m \u001b[0ma\u001b[0m\u001b[0;34m\u001b[0m\u001b[0;34m\u001b[0m\u001b[0m\n\u001b[1;32m   2307\u001b[0m         \u001b[0mself\u001b[0m\u001b[0;34m.\u001b[0m\u001b[0m_b\u001b[0m \u001b[0;34m=\u001b[0m \u001b[0mb\u001b[0m\u001b[0;34m\u001b[0m\u001b[0;34m\u001b[0m\u001b[0m\n\u001b[0;32m-> 2308\u001b[0;31m         \u001b[0mself\u001b[0m\u001b[0;34m.\u001b[0m\u001b[0mset_children\u001b[0m\u001b[0;34m(\u001b[0m\u001b[0ma\u001b[0m\u001b[0;34m,\u001b[0m \u001b[0mb\u001b[0m\u001b[0;34m)\u001b[0m\u001b[0;34m\u001b[0m\u001b[0;34m\u001b[0m\u001b[0m\n\u001b[0m\u001b[1;32m   2309\u001b[0m \u001b[0;34m\u001b[0m\u001b[0m\n\u001b[1;32m   2310\u001b[0m     \u001b[0;32mdef\u001b[0m \u001b[0mfrozen\u001b[0m\u001b[0;34m(\u001b[0m\u001b[0mself\u001b[0m\u001b[0;34m)\u001b[0m\u001b[0;34m:\u001b[0m\u001b[0;34m\u001b[0m\u001b[0;34m\u001b[0m\u001b[0m\n",
            "\u001b[0;32m/usr/local/lib/python3.8/dist-packages/matplotlib/transforms.py\u001b[0m in \u001b[0;36mset_children\u001b[0;34m(self, *children)\u001b[0m\n\u001b[1;32m    175\u001b[0m             \u001b[0;31m# alive; the callback deletes the dictionary entry. This is a\u001b[0m\u001b[0;34m\u001b[0m\u001b[0;34m\u001b[0m\u001b[0;34m\u001b[0m\u001b[0m\n\u001b[1;32m    176\u001b[0m             \u001b[0;31m# performance improvement over using WeakValueDictionary.\u001b[0m\u001b[0;34m\u001b[0m\u001b[0;34m\u001b[0m\u001b[0;34m\u001b[0m\u001b[0m\n\u001b[0;32m--> 177\u001b[0;31m             ref = weakref.ref(self, lambda ref, sid=id(self),\n\u001b[0m\u001b[1;32m    178\u001b[0m                                         target=child._parents: target.pop(sid))\n\u001b[1;32m    179\u001b[0m             \u001b[0mchild\u001b[0m\u001b[0;34m.\u001b[0m\u001b[0m_parents\u001b[0m\u001b[0;34m[\u001b[0m\u001b[0mid\u001b[0m\u001b[0;34m(\u001b[0m\u001b[0mself\u001b[0m\u001b[0;34m)\u001b[0m\u001b[0;34m]\u001b[0m \u001b[0;34m=\u001b[0m \u001b[0mref\u001b[0m\u001b[0;34m\u001b[0m\u001b[0;34m\u001b[0m\u001b[0m\n",
            "\u001b[0;31mKeyboardInterrupt\u001b[0m: "
          ]
        },
        {
          "output_type": "stream",
          "name": "stdout",
          "text": [
            "Error in callback <function install_repl_displayhook.<locals>.post_execute at 0x7fab21f8e8b0> (for post_execute):\n"
          ]
        },
        {
          "output_type": "error",
          "ename": "KeyboardInterrupt",
          "evalue": "ignored",
          "traceback": [
            "\u001b[0;31m---------------------------------------------------------------------------\u001b[0m",
            "\u001b[0;31mKeyboardInterrupt\u001b[0m                         Traceback (most recent call last)",
            "\u001b[0;32m/usr/local/lib/python3.8/dist-packages/matplotlib/pyplot.py\u001b[0m in \u001b[0;36mpost_execute\u001b[0;34m()\u001b[0m\n\u001b[1;32m    107\u001b[0m             \u001b[0;32mdef\u001b[0m \u001b[0mpost_execute\u001b[0m\u001b[0;34m(\u001b[0m\u001b[0;34m)\u001b[0m\u001b[0;34m:\u001b[0m\u001b[0;34m\u001b[0m\u001b[0;34m\u001b[0m\u001b[0m\n\u001b[1;32m    108\u001b[0m                 \u001b[0;32mif\u001b[0m \u001b[0mmatplotlib\u001b[0m\u001b[0;34m.\u001b[0m\u001b[0mis_interactive\u001b[0m\u001b[0;34m(\u001b[0m\u001b[0;34m)\u001b[0m\u001b[0;34m:\u001b[0m\u001b[0;34m\u001b[0m\u001b[0;34m\u001b[0m\u001b[0m\n\u001b[0;32m--> 109\u001b[0;31m                     \u001b[0mdraw_all\u001b[0m\u001b[0;34m(\u001b[0m\u001b[0;34m)\u001b[0m\u001b[0;34m\u001b[0m\u001b[0;34m\u001b[0m\u001b[0m\n\u001b[0m\u001b[1;32m    110\u001b[0m \u001b[0;34m\u001b[0m\u001b[0m\n\u001b[1;32m    111\u001b[0m             \u001b[0;31m# IPython >= 2\u001b[0m\u001b[0;34m\u001b[0m\u001b[0;34m\u001b[0m\u001b[0;34m\u001b[0m\u001b[0m\n",
            "\u001b[0;32m/usr/local/lib/python3.8/dist-packages/matplotlib/_pylab_helpers.py\u001b[0m in \u001b[0;36mdraw_all\u001b[0;34m(cls, force)\u001b[0m\n\u001b[1;32m    125\u001b[0m         \u001b[0;32mfor\u001b[0m \u001b[0mf_mgr\u001b[0m \u001b[0;32min\u001b[0m \u001b[0mcls\u001b[0m\u001b[0;34m.\u001b[0m\u001b[0mget_all_fig_managers\u001b[0m\u001b[0;34m(\u001b[0m\u001b[0;34m)\u001b[0m\u001b[0;34m:\u001b[0m\u001b[0;34m\u001b[0m\u001b[0;34m\u001b[0m\u001b[0m\n\u001b[1;32m    126\u001b[0m             \u001b[0;32mif\u001b[0m \u001b[0mforce\u001b[0m \u001b[0;32mor\u001b[0m \u001b[0mf_mgr\u001b[0m\u001b[0;34m.\u001b[0m\u001b[0mcanvas\u001b[0m\u001b[0;34m.\u001b[0m\u001b[0mfigure\u001b[0m\u001b[0;34m.\u001b[0m\u001b[0mstale\u001b[0m\u001b[0;34m:\u001b[0m\u001b[0;34m\u001b[0m\u001b[0;34m\u001b[0m\u001b[0m\n\u001b[0;32m--> 127\u001b[0;31m                 \u001b[0mf_mgr\u001b[0m\u001b[0;34m.\u001b[0m\u001b[0mcanvas\u001b[0m\u001b[0;34m.\u001b[0m\u001b[0mdraw_idle\u001b[0m\u001b[0;34m(\u001b[0m\u001b[0;34m)\u001b[0m\u001b[0;34m\u001b[0m\u001b[0;34m\u001b[0m\u001b[0m\n\u001b[0m\u001b[1;32m    128\u001b[0m \u001b[0;34m\u001b[0m\u001b[0m\n\u001b[1;32m    129\u001b[0m \u001b[0matexit\u001b[0m\u001b[0;34m.\u001b[0m\u001b[0mregister\u001b[0m\u001b[0;34m(\u001b[0m\u001b[0mGcf\u001b[0m\u001b[0;34m.\u001b[0m\u001b[0mdestroy_all\u001b[0m\u001b[0;34m)\u001b[0m\u001b[0;34m\u001b[0m\u001b[0;34m\u001b[0m\u001b[0m\n",
            "\u001b[0;32m/usr/local/lib/python3.8/dist-packages/matplotlib/backend_bases.py\u001b[0m in \u001b[0;36mdraw_idle\u001b[0;34m(self, *args, **kwargs)\u001b[0m\n\u001b[1;32m   1945\u001b[0m         \u001b[0;32mif\u001b[0m \u001b[0;32mnot\u001b[0m \u001b[0mself\u001b[0m\u001b[0;34m.\u001b[0m\u001b[0m_is_idle_drawing\u001b[0m\u001b[0;34m:\u001b[0m\u001b[0;34m\u001b[0m\u001b[0;34m\u001b[0m\u001b[0m\n\u001b[1;32m   1946\u001b[0m             \u001b[0;32mwith\u001b[0m \u001b[0mself\u001b[0m\u001b[0;34m.\u001b[0m\u001b[0m_idle_draw_cntx\u001b[0m\u001b[0;34m(\u001b[0m\u001b[0;34m)\u001b[0m\u001b[0;34m:\u001b[0m\u001b[0;34m\u001b[0m\u001b[0;34m\u001b[0m\u001b[0m\n\u001b[0;32m-> 1947\u001b[0;31m                 \u001b[0mself\u001b[0m\u001b[0;34m.\u001b[0m\u001b[0mdraw\u001b[0m\u001b[0;34m(\u001b[0m\u001b[0;34m*\u001b[0m\u001b[0margs\u001b[0m\u001b[0;34m,\u001b[0m \u001b[0;34m**\u001b[0m\u001b[0mkwargs\u001b[0m\u001b[0;34m)\u001b[0m\u001b[0;34m\u001b[0m\u001b[0;34m\u001b[0m\u001b[0m\n\u001b[0m\u001b[1;32m   1948\u001b[0m \u001b[0;34m\u001b[0m\u001b[0m\n\u001b[1;32m   1949\u001b[0m     \u001b[0;34m@\u001b[0m\u001b[0mcbook\u001b[0m\u001b[0;34m.\u001b[0m\u001b[0mdeprecated\u001b[0m\u001b[0;34m(\u001b[0m\u001b[0;34m\"3.2\"\u001b[0m\u001b[0;34m)\u001b[0m\u001b[0;34m\u001b[0m\u001b[0;34m\u001b[0m\u001b[0m\n",
            "\u001b[0;32m/usr/local/lib/python3.8/dist-packages/matplotlib/backends/backend_agg.py\u001b[0m in \u001b[0;36mdraw\u001b[0;34m(self)\u001b[0m\n\u001b[1;32m    391\u001b[0m              (self.toolbar._wait_cursor_for_draw_cm() if self.toolbar\n\u001b[1;32m    392\u001b[0m               else nullcontext()):\n\u001b[0;32m--> 393\u001b[0;31m             \u001b[0mself\u001b[0m\u001b[0;34m.\u001b[0m\u001b[0mfigure\u001b[0m\u001b[0;34m.\u001b[0m\u001b[0mdraw\u001b[0m\u001b[0;34m(\u001b[0m\u001b[0mself\u001b[0m\u001b[0;34m.\u001b[0m\u001b[0mrenderer\u001b[0m\u001b[0;34m)\u001b[0m\u001b[0;34m\u001b[0m\u001b[0;34m\u001b[0m\u001b[0m\n\u001b[0m\u001b[1;32m    394\u001b[0m             \u001b[0;31m# A GUI class may be need to update a window using this draw, so\u001b[0m\u001b[0;34m\u001b[0m\u001b[0;34m\u001b[0m\u001b[0;34m\u001b[0m\u001b[0m\n\u001b[1;32m    395\u001b[0m             \u001b[0;31m# don't forget to call the superclass.\u001b[0m\u001b[0;34m\u001b[0m\u001b[0;34m\u001b[0m\u001b[0;34m\u001b[0m\u001b[0m\n",
            "\u001b[0;32m/usr/local/lib/python3.8/dist-packages/matplotlib/artist.py\u001b[0m in \u001b[0;36mdraw_wrapper\u001b[0;34m(artist, renderer, *args, **kwargs)\u001b[0m\n\u001b[1;32m     36\u001b[0m                 \u001b[0mrenderer\u001b[0m\u001b[0;34m.\u001b[0m\u001b[0mstart_filter\u001b[0m\u001b[0;34m(\u001b[0m\u001b[0;34m)\u001b[0m\u001b[0;34m\u001b[0m\u001b[0;34m\u001b[0m\u001b[0m\n\u001b[1;32m     37\u001b[0m \u001b[0;34m\u001b[0m\u001b[0m\n\u001b[0;32m---> 38\u001b[0;31m             \u001b[0;32mreturn\u001b[0m \u001b[0mdraw\u001b[0m\u001b[0;34m(\u001b[0m\u001b[0martist\u001b[0m\u001b[0;34m,\u001b[0m \u001b[0mrenderer\u001b[0m\u001b[0;34m,\u001b[0m \u001b[0;34m*\u001b[0m\u001b[0margs\u001b[0m\u001b[0;34m,\u001b[0m \u001b[0;34m**\u001b[0m\u001b[0mkwargs\u001b[0m\u001b[0;34m)\u001b[0m\u001b[0;34m\u001b[0m\u001b[0;34m\u001b[0m\u001b[0m\n\u001b[0m\u001b[1;32m     39\u001b[0m         \u001b[0;32mfinally\u001b[0m\u001b[0;34m:\u001b[0m\u001b[0;34m\u001b[0m\u001b[0;34m\u001b[0m\u001b[0m\n\u001b[1;32m     40\u001b[0m             \u001b[0;32mif\u001b[0m \u001b[0martist\u001b[0m\u001b[0;34m.\u001b[0m\u001b[0mget_agg_filter\u001b[0m\u001b[0;34m(\u001b[0m\u001b[0;34m)\u001b[0m \u001b[0;32mis\u001b[0m \u001b[0;32mnot\u001b[0m \u001b[0;32mNone\u001b[0m\u001b[0;34m:\u001b[0m\u001b[0;34m\u001b[0m\u001b[0;34m\u001b[0m\u001b[0m\n",
            "\u001b[0;32m/usr/local/lib/python3.8/dist-packages/matplotlib/figure.py\u001b[0m in \u001b[0;36mdraw\u001b[0;34m(self, renderer)\u001b[0m\n\u001b[1;32m   1733\u001b[0m \u001b[0;34m\u001b[0m\u001b[0m\n\u001b[1;32m   1734\u001b[0m             \u001b[0mself\u001b[0m\u001b[0;34m.\u001b[0m\u001b[0mpatch\u001b[0m\u001b[0;34m.\u001b[0m\u001b[0mdraw\u001b[0m\u001b[0;34m(\u001b[0m\u001b[0mrenderer\u001b[0m\u001b[0;34m)\u001b[0m\u001b[0;34m\u001b[0m\u001b[0;34m\u001b[0m\u001b[0m\n\u001b[0;32m-> 1735\u001b[0;31m             mimage._draw_list_compositing_images(\n\u001b[0m\u001b[1;32m   1736\u001b[0m                 renderer, self, artists, self.suppressComposite)\n\u001b[1;32m   1737\u001b[0m \u001b[0;34m\u001b[0m\u001b[0m\n",
            "\u001b[0;32m/usr/local/lib/python3.8/dist-packages/matplotlib/image.py\u001b[0m in \u001b[0;36m_draw_list_compositing_images\u001b[0;34m(renderer, parent, artists, suppress_composite)\u001b[0m\n\u001b[1;32m    135\u001b[0m     \u001b[0;32mif\u001b[0m \u001b[0mnot_composite\u001b[0m \u001b[0;32mor\u001b[0m \u001b[0;32mnot\u001b[0m \u001b[0mhas_images\u001b[0m\u001b[0;34m:\u001b[0m\u001b[0;34m\u001b[0m\u001b[0;34m\u001b[0m\u001b[0m\n\u001b[1;32m    136\u001b[0m         \u001b[0;32mfor\u001b[0m \u001b[0ma\u001b[0m \u001b[0;32min\u001b[0m \u001b[0martists\u001b[0m\u001b[0;34m:\u001b[0m\u001b[0;34m\u001b[0m\u001b[0;34m\u001b[0m\u001b[0m\n\u001b[0;32m--> 137\u001b[0;31m             \u001b[0ma\u001b[0m\u001b[0;34m.\u001b[0m\u001b[0mdraw\u001b[0m\u001b[0;34m(\u001b[0m\u001b[0mrenderer\u001b[0m\u001b[0;34m)\u001b[0m\u001b[0;34m\u001b[0m\u001b[0;34m\u001b[0m\u001b[0m\n\u001b[0m\u001b[1;32m    138\u001b[0m     \u001b[0;32melse\u001b[0m\u001b[0;34m:\u001b[0m\u001b[0;34m\u001b[0m\u001b[0;34m\u001b[0m\u001b[0m\n\u001b[1;32m    139\u001b[0m         \u001b[0;31m# Composite any adjacent images together\u001b[0m\u001b[0;34m\u001b[0m\u001b[0;34m\u001b[0m\u001b[0;34m\u001b[0m\u001b[0m\n",
            "\u001b[0;32m/usr/local/lib/python3.8/dist-packages/matplotlib/artist.py\u001b[0m in \u001b[0;36mdraw_wrapper\u001b[0;34m(artist, renderer, *args, **kwargs)\u001b[0m\n\u001b[1;32m     36\u001b[0m                 \u001b[0mrenderer\u001b[0m\u001b[0;34m.\u001b[0m\u001b[0mstart_filter\u001b[0m\u001b[0;34m(\u001b[0m\u001b[0;34m)\u001b[0m\u001b[0;34m\u001b[0m\u001b[0;34m\u001b[0m\u001b[0m\n\u001b[1;32m     37\u001b[0m \u001b[0;34m\u001b[0m\u001b[0m\n\u001b[0;32m---> 38\u001b[0;31m             \u001b[0;32mreturn\u001b[0m \u001b[0mdraw\u001b[0m\u001b[0;34m(\u001b[0m\u001b[0martist\u001b[0m\u001b[0;34m,\u001b[0m \u001b[0mrenderer\u001b[0m\u001b[0;34m,\u001b[0m \u001b[0;34m*\u001b[0m\u001b[0margs\u001b[0m\u001b[0;34m,\u001b[0m \u001b[0;34m**\u001b[0m\u001b[0mkwargs\u001b[0m\u001b[0;34m)\u001b[0m\u001b[0;34m\u001b[0m\u001b[0;34m\u001b[0m\u001b[0m\n\u001b[0m\u001b[1;32m     39\u001b[0m         \u001b[0;32mfinally\u001b[0m\u001b[0;34m:\u001b[0m\u001b[0;34m\u001b[0m\u001b[0;34m\u001b[0m\u001b[0m\n\u001b[1;32m     40\u001b[0m             \u001b[0;32mif\u001b[0m \u001b[0martist\u001b[0m\u001b[0;34m.\u001b[0m\u001b[0mget_agg_filter\u001b[0m\u001b[0;34m(\u001b[0m\u001b[0;34m)\u001b[0m \u001b[0;32mis\u001b[0m \u001b[0;32mnot\u001b[0m \u001b[0;32mNone\u001b[0m\u001b[0;34m:\u001b[0m\u001b[0;34m\u001b[0m\u001b[0;34m\u001b[0m\u001b[0m\n",
            "\u001b[0;32m/usr/local/lib/python3.8/dist-packages/matplotlib/axes/_base.py\u001b[0m in \u001b[0;36mdraw\u001b[0;34m(self, renderer, inframe)\u001b[0m\n\u001b[1;32m   2628\u001b[0m             \u001b[0mrenderer\u001b[0m\u001b[0;34m.\u001b[0m\u001b[0mstop_rasterizing\u001b[0m\u001b[0;34m(\u001b[0m\u001b[0;34m)\u001b[0m\u001b[0;34m\u001b[0m\u001b[0;34m\u001b[0m\u001b[0m\n\u001b[1;32m   2629\u001b[0m \u001b[0;34m\u001b[0m\u001b[0m\n\u001b[0;32m-> 2630\u001b[0;31m         \u001b[0mmimage\u001b[0m\u001b[0;34m.\u001b[0m\u001b[0m_draw_list_compositing_images\u001b[0m\u001b[0;34m(\u001b[0m\u001b[0mrenderer\u001b[0m\u001b[0;34m,\u001b[0m \u001b[0mself\u001b[0m\u001b[0;34m,\u001b[0m \u001b[0martists\u001b[0m\u001b[0;34m)\u001b[0m\u001b[0;34m\u001b[0m\u001b[0;34m\u001b[0m\u001b[0m\n\u001b[0m\u001b[1;32m   2631\u001b[0m \u001b[0;34m\u001b[0m\u001b[0m\n\u001b[1;32m   2632\u001b[0m         \u001b[0mrenderer\u001b[0m\u001b[0;34m.\u001b[0m\u001b[0mclose_group\u001b[0m\u001b[0;34m(\u001b[0m\u001b[0;34m'axes'\u001b[0m\u001b[0;34m)\u001b[0m\u001b[0;34m\u001b[0m\u001b[0;34m\u001b[0m\u001b[0m\n",
            "\u001b[0;32m/usr/local/lib/python3.8/dist-packages/matplotlib/image.py\u001b[0m in \u001b[0;36m_draw_list_compositing_images\u001b[0;34m(renderer, parent, artists, suppress_composite)\u001b[0m\n\u001b[1;32m    135\u001b[0m     \u001b[0;32mif\u001b[0m \u001b[0mnot_composite\u001b[0m \u001b[0;32mor\u001b[0m \u001b[0;32mnot\u001b[0m \u001b[0mhas_images\u001b[0m\u001b[0;34m:\u001b[0m\u001b[0;34m\u001b[0m\u001b[0;34m\u001b[0m\u001b[0m\n\u001b[1;32m    136\u001b[0m         \u001b[0;32mfor\u001b[0m \u001b[0ma\u001b[0m \u001b[0;32min\u001b[0m \u001b[0martists\u001b[0m\u001b[0;34m:\u001b[0m\u001b[0;34m\u001b[0m\u001b[0;34m\u001b[0m\u001b[0m\n\u001b[0;32m--> 137\u001b[0;31m             \u001b[0ma\u001b[0m\u001b[0;34m.\u001b[0m\u001b[0mdraw\u001b[0m\u001b[0;34m(\u001b[0m\u001b[0mrenderer\u001b[0m\u001b[0;34m)\u001b[0m\u001b[0;34m\u001b[0m\u001b[0;34m\u001b[0m\u001b[0m\n\u001b[0m\u001b[1;32m    138\u001b[0m     \u001b[0;32melse\u001b[0m\u001b[0;34m:\u001b[0m\u001b[0;34m\u001b[0m\u001b[0;34m\u001b[0m\u001b[0m\n\u001b[1;32m    139\u001b[0m         \u001b[0;31m# Composite any adjacent images together\u001b[0m\u001b[0;34m\u001b[0m\u001b[0;34m\u001b[0m\u001b[0;34m\u001b[0m\u001b[0m\n",
            "\u001b[0;32m/usr/local/lib/python3.8/dist-packages/matplotlib/artist.py\u001b[0m in \u001b[0;36mdraw_wrapper\u001b[0;34m(artist, renderer, *args, **kwargs)\u001b[0m\n\u001b[1;32m     36\u001b[0m                 \u001b[0mrenderer\u001b[0m\u001b[0;34m.\u001b[0m\u001b[0mstart_filter\u001b[0m\u001b[0;34m(\u001b[0m\u001b[0;34m)\u001b[0m\u001b[0;34m\u001b[0m\u001b[0;34m\u001b[0m\u001b[0m\n\u001b[1;32m     37\u001b[0m \u001b[0;34m\u001b[0m\u001b[0m\n\u001b[0;32m---> 38\u001b[0;31m             \u001b[0;32mreturn\u001b[0m \u001b[0mdraw\u001b[0m\u001b[0;34m(\u001b[0m\u001b[0martist\u001b[0m\u001b[0;34m,\u001b[0m \u001b[0mrenderer\u001b[0m\u001b[0;34m,\u001b[0m \u001b[0;34m*\u001b[0m\u001b[0margs\u001b[0m\u001b[0;34m,\u001b[0m \u001b[0;34m**\u001b[0m\u001b[0mkwargs\u001b[0m\u001b[0;34m)\u001b[0m\u001b[0;34m\u001b[0m\u001b[0;34m\u001b[0m\u001b[0m\n\u001b[0m\u001b[1;32m     39\u001b[0m         \u001b[0;32mfinally\u001b[0m\u001b[0;34m:\u001b[0m\u001b[0;34m\u001b[0m\u001b[0;34m\u001b[0m\u001b[0m\n\u001b[1;32m     40\u001b[0m             \u001b[0;32mif\u001b[0m \u001b[0martist\u001b[0m\u001b[0;34m.\u001b[0m\u001b[0mget_agg_filter\u001b[0m\u001b[0;34m(\u001b[0m\u001b[0;34m)\u001b[0m \u001b[0;32mis\u001b[0m \u001b[0;32mnot\u001b[0m \u001b[0;32mNone\u001b[0m\u001b[0;34m:\u001b[0m\u001b[0;34m\u001b[0m\u001b[0;34m\u001b[0m\u001b[0m\n",
            "\u001b[0;32m/usr/local/lib/python3.8/dist-packages/matplotlib/patches.py\u001b[0m in \u001b[0;36mdraw\u001b[0;34m(self, renderer)\u001b[0m\n\u001b[1;32m    596\u001b[0m             \u001b[0mtpath\u001b[0m \u001b[0;34m=\u001b[0m \u001b[0mtransform\u001b[0m\u001b[0;34m.\u001b[0m\u001b[0mtransform_path_non_affine\u001b[0m\u001b[0;34m(\u001b[0m\u001b[0mpath\u001b[0m\u001b[0;34m)\u001b[0m\u001b[0;34m\u001b[0m\u001b[0;34m\u001b[0m\u001b[0m\n\u001b[1;32m    597\u001b[0m             \u001b[0maffine\u001b[0m \u001b[0;34m=\u001b[0m \u001b[0mtransform\u001b[0m\u001b[0;34m.\u001b[0m\u001b[0mget_affine\u001b[0m\u001b[0;34m(\u001b[0m\u001b[0;34m)\u001b[0m\u001b[0;34m\u001b[0m\u001b[0;34m\u001b[0m\u001b[0m\n\u001b[0;32m--> 598\u001b[0;31m             draw_path(tpath, affine,\n\u001b[0m\u001b[1;32m    599\u001b[0m                       \u001b[0;31m# Work around a bug in the PDF and SVG renderers, which\u001b[0m\u001b[0;34m\u001b[0m\u001b[0;34m\u001b[0m\u001b[0;34m\u001b[0m\u001b[0m\n\u001b[1;32m    600\u001b[0m                       \u001b[0;31m# do not draw the hatches if the facecolor is fully\u001b[0m\u001b[0;34m\u001b[0m\u001b[0;34m\u001b[0m\u001b[0;34m\u001b[0m\u001b[0m\n",
            "\u001b[0;32m/usr/local/lib/python3.8/dist-packages/matplotlib/backends/backend_agg.py\u001b[0m in \u001b[0;36mdraw_path\u001b[0;34m(self, gc, path, transform, rgbFace)\u001b[0m\n\u001b[1;32m    150\u001b[0m         \u001b[0;32melse\u001b[0m\u001b[0;34m:\u001b[0m\u001b[0;34m\u001b[0m\u001b[0;34m\u001b[0m\u001b[0m\n\u001b[1;32m    151\u001b[0m             \u001b[0;32mtry\u001b[0m\u001b[0;34m:\u001b[0m\u001b[0;34m\u001b[0m\u001b[0;34m\u001b[0m\u001b[0m\n\u001b[0;32m--> 152\u001b[0;31m                 \u001b[0mself\u001b[0m\u001b[0;34m.\u001b[0m\u001b[0m_renderer\u001b[0m\u001b[0;34m.\u001b[0m\u001b[0mdraw_path\u001b[0m\u001b[0;34m(\u001b[0m\u001b[0mgc\u001b[0m\u001b[0;34m,\u001b[0m \u001b[0mpath\u001b[0m\u001b[0;34m,\u001b[0m \u001b[0mtransform\u001b[0m\u001b[0;34m,\u001b[0m \u001b[0mrgbFace\u001b[0m\u001b[0;34m)\u001b[0m\u001b[0;34m\u001b[0m\u001b[0;34m\u001b[0m\u001b[0m\n\u001b[0m\u001b[1;32m    153\u001b[0m             \u001b[0;32mexcept\u001b[0m \u001b[0mOverflowError\u001b[0m\u001b[0;34m:\u001b[0m\u001b[0;34m\u001b[0m\u001b[0;34m\u001b[0m\u001b[0m\n\u001b[1;32m    154\u001b[0m                 raise OverflowError(\"Exceeded cell block limit (set \"\n",
            "\u001b[0;32m/usr/local/lib/python3.8/dist-packages/matplotlib/transforms.py\u001b[0m in \u001b[0;36m__array__\u001b[0;34m(self, *args, **kwargs)\u001b[0m\n\u001b[1;32m    277\u001b[0m \u001b[0;34m\u001b[0m\u001b[0m\n\u001b[1;32m    278\u001b[0m     \u001b[0;32mdef\u001b[0m \u001b[0m__array__\u001b[0m\u001b[0;34m(\u001b[0m\u001b[0mself\u001b[0m\u001b[0;34m,\u001b[0m \u001b[0;34m*\u001b[0m\u001b[0margs\u001b[0m\u001b[0;34m,\u001b[0m \u001b[0;34m**\u001b[0m\u001b[0mkwargs\u001b[0m\u001b[0;34m)\u001b[0m\u001b[0;34m:\u001b[0m\u001b[0;34m\u001b[0m\u001b[0;34m\u001b[0m\u001b[0m\n\u001b[0;32m--> 279\u001b[0;31m         \u001b[0;32mreturn\u001b[0m \u001b[0mself\u001b[0m\u001b[0;34m.\u001b[0m\u001b[0mget_points\u001b[0m\u001b[0;34m(\u001b[0m\u001b[0;34m)\u001b[0m\u001b[0;34m\u001b[0m\u001b[0;34m\u001b[0m\u001b[0m\n\u001b[0m\u001b[1;32m    280\u001b[0m \u001b[0;34m\u001b[0m\u001b[0m\n\u001b[1;32m    281\u001b[0m     \u001b[0;34m@\u001b[0m\u001b[0mcbook\u001b[0m\u001b[0;34m.\u001b[0m\u001b[0mdeprecated\u001b[0m\u001b[0;34m(\u001b[0m\u001b[0;34m\"3.2\"\u001b[0m\u001b[0;34m)\u001b[0m\u001b[0;34m\u001b[0m\u001b[0;34m\u001b[0m\u001b[0m\n",
            "\u001b[0;32m/usr/local/lib/python3.8/dist-packages/matplotlib/transforms.py\u001b[0m in \u001b[0;36mget_points\u001b[0;34m(self)\u001b[0m\n\u001b[1;32m   1020\u001b[0m             \u001b[0;31m# from the result, taking care to make the orientation the\u001b[0m\u001b[0;34m\u001b[0m\u001b[0;34m\u001b[0m\u001b[0;34m\u001b[0m\u001b[0m\n\u001b[1;32m   1021\u001b[0m             \u001b[0;31m# same.\u001b[0m\u001b[0;34m\u001b[0m\u001b[0;34m\u001b[0m\u001b[0;34m\u001b[0m\u001b[0m\n\u001b[0;32m-> 1022\u001b[0;31m             points = self._transform.transform(\n\u001b[0m\u001b[1;32m   1023\u001b[0m                 [[p[0, 0], p[0, 1]],\n\u001b[1;32m   1024\u001b[0m                  \u001b[0;34m[\u001b[0m\u001b[0mp\u001b[0m\u001b[0;34m[\u001b[0m\u001b[0;36m1\u001b[0m\u001b[0;34m,\u001b[0m \u001b[0;36m0\u001b[0m\u001b[0;34m]\u001b[0m\u001b[0;34m,\u001b[0m \u001b[0mp\u001b[0m\u001b[0;34m[\u001b[0m\u001b[0;36m0\u001b[0m\u001b[0;34m,\u001b[0m \u001b[0;36m1\u001b[0m\u001b[0;34m]\u001b[0m\u001b[0;34m]\u001b[0m\u001b[0;34m,\u001b[0m\u001b[0;34m\u001b[0m\u001b[0;34m\u001b[0m\u001b[0m\n",
            "\u001b[0;32m/usr/local/lib/python3.8/dist-packages/matplotlib/transforms.py\u001b[0m in \u001b[0;36mtransform\u001b[0;34m(self, values)\u001b[0m\n\u001b[1;32m   1403\u001b[0m \u001b[0;34m\u001b[0m\u001b[0m\n\u001b[1;32m   1404\u001b[0m         \u001b[0;31m# Transform the values\u001b[0m\u001b[0;34m\u001b[0m\u001b[0;34m\u001b[0m\u001b[0;34m\u001b[0m\u001b[0m\n\u001b[0;32m-> 1405\u001b[0;31m         \u001b[0mres\u001b[0m \u001b[0;34m=\u001b[0m \u001b[0mself\u001b[0m\u001b[0;34m.\u001b[0m\u001b[0mtransform_affine\u001b[0m\u001b[0;34m(\u001b[0m\u001b[0mself\u001b[0m\u001b[0;34m.\u001b[0m\u001b[0mtransform_non_affine\u001b[0m\u001b[0;34m(\u001b[0m\u001b[0mvalues\u001b[0m\u001b[0;34m)\u001b[0m\u001b[0;34m)\u001b[0m\u001b[0;34m\u001b[0m\u001b[0;34m\u001b[0m\u001b[0m\n\u001b[0m\u001b[1;32m   1406\u001b[0m \u001b[0;34m\u001b[0m\u001b[0m\n\u001b[1;32m   1407\u001b[0m         \u001b[0;31m# Convert the result back to the shape of the input values.\u001b[0m\u001b[0;34m\u001b[0m\u001b[0;34m\u001b[0m\u001b[0;34m\u001b[0m\u001b[0m\n",
            "\u001b[0;32m/usr/local/lib/python3.8/dist-packages/matplotlib/transforms.py\u001b[0m in \u001b[0;36mtransform_affine\u001b[0;34m(self, points)\u001b[0m\n\u001b[1;32m   2363\u001b[0m     \u001b[0;32mdef\u001b[0m \u001b[0mtransform_affine\u001b[0m\u001b[0;34m(\u001b[0m\u001b[0mself\u001b[0m\u001b[0;34m,\u001b[0m \u001b[0mpoints\u001b[0m\u001b[0;34m)\u001b[0m\u001b[0;34m:\u001b[0m\u001b[0;34m\u001b[0m\u001b[0;34m\u001b[0m\u001b[0m\n\u001b[1;32m   2364\u001b[0m         \u001b[0;31m# docstring inherited\u001b[0m\u001b[0;34m\u001b[0m\u001b[0;34m\u001b[0m\u001b[0;34m\u001b[0m\u001b[0m\n\u001b[0;32m-> 2365\u001b[0;31m         \u001b[0;32mreturn\u001b[0m \u001b[0mself\u001b[0m\u001b[0;34m.\u001b[0m\u001b[0mget_affine\u001b[0m\u001b[0;34m(\u001b[0m\u001b[0;34m)\u001b[0m\u001b[0;34m.\u001b[0m\u001b[0mtransform\u001b[0m\u001b[0;34m(\u001b[0m\u001b[0mpoints\u001b[0m\u001b[0;34m)\u001b[0m\u001b[0;34m\u001b[0m\u001b[0;34m\u001b[0m\u001b[0m\n\u001b[0m\u001b[1;32m   2366\u001b[0m \u001b[0;34m\u001b[0m\u001b[0m\n\u001b[1;32m   2367\u001b[0m     \u001b[0;32mdef\u001b[0m \u001b[0mtransform_non_affine\u001b[0m\u001b[0;34m(\u001b[0m\u001b[0mself\u001b[0m\u001b[0;34m,\u001b[0m \u001b[0mpoints\u001b[0m\u001b[0;34m)\u001b[0m\u001b[0;34m:\u001b[0m\u001b[0;34m\u001b[0m\u001b[0;34m\u001b[0m\u001b[0m\n",
            "\u001b[0;32m/usr/local/lib/python3.8/dist-packages/matplotlib/transforms.py\u001b[0m in \u001b[0;36mget_affine\u001b[0;34m(self)\u001b[0m\n\u001b[1;32m   2391\u001b[0m         \u001b[0;32melse\u001b[0m\u001b[0;34m:\u001b[0m\u001b[0;34m\u001b[0m\u001b[0;34m\u001b[0m\u001b[0m\n\u001b[1;32m   2392\u001b[0m             return Affine2D(np.dot(self._b.get_affine().get_matrix(),\n\u001b[0;32m-> 2393\u001b[0;31m                                 self._a.get_affine().get_matrix()))\n\u001b[0m\u001b[1;32m   2394\u001b[0m \u001b[0;34m\u001b[0m\u001b[0m\n\u001b[1;32m   2395\u001b[0m     \u001b[0;32mdef\u001b[0m \u001b[0minverted\u001b[0m\u001b[0;34m(\u001b[0m\u001b[0mself\u001b[0m\u001b[0;34m)\u001b[0m\u001b[0;34m:\u001b[0m\u001b[0;34m\u001b[0m\u001b[0;34m\u001b[0m\u001b[0m\n",
            "\u001b[0;32m/usr/local/lib/python3.8/dist-packages/matplotlib/transforms.py\u001b[0m in \u001b[0;36mget_affine\u001b[0;34m(self)\u001b[0m\n\u001b[1;32m   2391\u001b[0m         \u001b[0;32melse\u001b[0m\u001b[0;34m:\u001b[0m\u001b[0;34m\u001b[0m\u001b[0;34m\u001b[0m\u001b[0m\n\u001b[1;32m   2392\u001b[0m             return Affine2D(np.dot(self._b.get_affine().get_matrix(),\n\u001b[0;32m-> 2393\u001b[0;31m                                 self._a.get_affine().get_matrix()))\n\u001b[0m\u001b[1;32m   2394\u001b[0m \u001b[0;34m\u001b[0m\u001b[0m\n\u001b[1;32m   2395\u001b[0m     \u001b[0;32mdef\u001b[0m \u001b[0minverted\u001b[0m\u001b[0;34m(\u001b[0m\u001b[0mself\u001b[0m\u001b[0;34m)\u001b[0m\u001b[0;34m:\u001b[0m\u001b[0;34m\u001b[0m\u001b[0;34m\u001b[0m\u001b[0m\n",
            "\u001b[0;32m/usr/local/lib/python3.8/dist-packages/matplotlib/transforms.py\u001b[0m in \u001b[0;36mget_matrix\u001b[0;34m(self)\u001b[0m\n\u001b[1;32m   2568\u001b[0m             \u001b[0;32mif\u001b[0m \u001b[0mDEBUG\u001b[0m \u001b[0;32mand\u001b[0m \u001b[0;34m(\u001b[0m\u001b[0moutw\u001b[0m \u001b[0;34m==\u001b[0m \u001b[0;36m0\u001b[0m \u001b[0;32mor\u001b[0m \u001b[0mouth\u001b[0m \u001b[0;34m==\u001b[0m \u001b[0;36m0\u001b[0m\u001b[0;34m)\u001b[0m\u001b[0;34m:\u001b[0m\u001b[0;34m\u001b[0m\u001b[0;34m\u001b[0m\u001b[0m\n\u001b[1;32m   2569\u001b[0m                 \u001b[0;32mraise\u001b[0m \u001b[0mValueError\u001b[0m\u001b[0;34m(\u001b[0m\u001b[0;34m\"Transforming to a singular bounding box.\"\u001b[0m\u001b[0;34m)\u001b[0m\u001b[0;34m\u001b[0m\u001b[0;34m\u001b[0m\u001b[0m\n\u001b[0;32m-> 2570\u001b[0;31m             self._mtx = np.array([[outw,  0.0, outl],\n\u001b[0m\u001b[1;32m   2571\u001b[0m                                   \u001b[0;34m[\u001b[0m \u001b[0;36m0.0\u001b[0m\u001b[0;34m,\u001b[0m \u001b[0mouth\u001b[0m\u001b[0;34m,\u001b[0m \u001b[0moutb\u001b[0m\u001b[0;34m]\u001b[0m\u001b[0;34m,\u001b[0m\u001b[0;34m\u001b[0m\u001b[0;34m\u001b[0m\u001b[0m\n\u001b[1;32m   2572\u001b[0m                                   [ 0.0,  0.0,  1.0]],\n",
            "\u001b[0;31mKeyboardInterrupt\u001b[0m: "
          ]
        },
        {
          "output_type": "stream",
          "name": "stdout",
          "text": [
            "Error in callback <function flush_figures at 0x7fab20e7c4c0> (for post_execute):\n"
          ]
        },
        {
          "output_type": "error",
          "ename": "KeyboardInterrupt",
          "evalue": "ignored",
          "traceback": [
            "\u001b[0;31m---------------------------------------------------------------------------\u001b[0m",
            "\u001b[0;31mKeyboardInterrupt\u001b[0m                         Traceback (most recent call last)",
            "\u001b[0;32m/usr/local/lib/python3.8/dist-packages/ipykernel/pylab/backend_inline.py\u001b[0m in \u001b[0;36mflush_figures\u001b[0;34m()\u001b[0m\n\u001b[1;32m    119\u001b[0m         \u001b[0;31m# ignore the tracking, just draw and close all figures\u001b[0m\u001b[0;34m\u001b[0m\u001b[0;34m\u001b[0m\u001b[0;34m\u001b[0m\u001b[0m\n\u001b[1;32m    120\u001b[0m         \u001b[0;32mtry\u001b[0m\u001b[0;34m:\u001b[0m\u001b[0;34m\u001b[0m\u001b[0;34m\u001b[0m\u001b[0m\n\u001b[0;32m--> 121\u001b[0;31m             \u001b[0;32mreturn\u001b[0m \u001b[0mshow\u001b[0m\u001b[0;34m(\u001b[0m\u001b[0;32mTrue\u001b[0m\u001b[0;34m)\u001b[0m\u001b[0;34m\u001b[0m\u001b[0;34m\u001b[0m\u001b[0m\n\u001b[0m\u001b[1;32m    122\u001b[0m         \u001b[0;32mexcept\u001b[0m \u001b[0mException\u001b[0m \u001b[0;32mas\u001b[0m \u001b[0me\u001b[0m\u001b[0;34m:\u001b[0m\u001b[0;34m\u001b[0m\u001b[0;34m\u001b[0m\u001b[0m\n\u001b[1;32m    123\u001b[0m             \u001b[0;31m# safely show traceback if in IPython, else raise\u001b[0m\u001b[0;34m\u001b[0m\u001b[0;34m\u001b[0m\u001b[0;34m\u001b[0m\u001b[0m\n",
            "\u001b[0;32m/usr/local/lib/python3.8/dist-packages/ipykernel/pylab/backend_inline.py\u001b[0m in \u001b[0;36mshow\u001b[0;34m(close, block)\u001b[0m\n\u001b[1;32m     39\u001b[0m     \u001b[0;32mtry\u001b[0m\u001b[0;34m:\u001b[0m\u001b[0;34m\u001b[0m\u001b[0;34m\u001b[0m\u001b[0m\n\u001b[1;32m     40\u001b[0m         \u001b[0;32mfor\u001b[0m \u001b[0mfigure_manager\u001b[0m \u001b[0;32min\u001b[0m \u001b[0mGcf\u001b[0m\u001b[0;34m.\u001b[0m\u001b[0mget_all_fig_managers\u001b[0m\u001b[0;34m(\u001b[0m\u001b[0;34m)\u001b[0m\u001b[0;34m:\u001b[0m\u001b[0;34m\u001b[0m\u001b[0;34m\u001b[0m\u001b[0m\n\u001b[0;32m---> 41\u001b[0;31m             display(\n\u001b[0m\u001b[1;32m     42\u001b[0m                 \u001b[0mfigure_manager\u001b[0m\u001b[0;34m.\u001b[0m\u001b[0mcanvas\u001b[0m\u001b[0;34m.\u001b[0m\u001b[0mfigure\u001b[0m\u001b[0;34m,\u001b[0m\u001b[0;34m\u001b[0m\u001b[0;34m\u001b[0m\u001b[0m\n\u001b[1;32m     43\u001b[0m                 \u001b[0mmetadata\u001b[0m\u001b[0;34m=\u001b[0m\u001b[0m_fetch_figure_metadata\u001b[0m\u001b[0;34m(\u001b[0m\u001b[0mfigure_manager\u001b[0m\u001b[0;34m.\u001b[0m\u001b[0mcanvas\u001b[0m\u001b[0;34m.\u001b[0m\u001b[0mfigure\u001b[0m\u001b[0;34m)\u001b[0m\u001b[0;34m\u001b[0m\u001b[0;34m\u001b[0m\u001b[0m\n",
            "\u001b[0;32m/usr/local/lib/python3.8/dist-packages/IPython/core/display.py\u001b[0m in \u001b[0;36mdisplay\u001b[0;34m(include, exclude, metadata, transient, display_id, *objs, **kwargs)\u001b[0m\n\u001b[1;32m    311\u001b[0m             \u001b[0mpublish_display_data\u001b[0m\u001b[0;34m(\u001b[0m\u001b[0mdata\u001b[0m\u001b[0;34m=\u001b[0m\u001b[0mobj\u001b[0m\u001b[0;34m,\u001b[0m \u001b[0mmetadata\u001b[0m\u001b[0;34m=\u001b[0m\u001b[0mmetadata\u001b[0m\u001b[0;34m,\u001b[0m \u001b[0;34m**\u001b[0m\u001b[0mkwargs\u001b[0m\u001b[0;34m)\u001b[0m\u001b[0;34m\u001b[0m\u001b[0;34m\u001b[0m\u001b[0m\n\u001b[1;32m    312\u001b[0m         \u001b[0;32melse\u001b[0m\u001b[0;34m:\u001b[0m\u001b[0;34m\u001b[0m\u001b[0;34m\u001b[0m\u001b[0m\n\u001b[0;32m--> 313\u001b[0;31m             \u001b[0mformat_dict\u001b[0m\u001b[0;34m,\u001b[0m \u001b[0mmd_dict\u001b[0m \u001b[0;34m=\u001b[0m \u001b[0mformat\u001b[0m\u001b[0;34m(\u001b[0m\u001b[0mobj\u001b[0m\u001b[0;34m,\u001b[0m \u001b[0minclude\u001b[0m\u001b[0;34m=\u001b[0m\u001b[0minclude\u001b[0m\u001b[0;34m,\u001b[0m \u001b[0mexclude\u001b[0m\u001b[0;34m=\u001b[0m\u001b[0mexclude\u001b[0m\u001b[0;34m)\u001b[0m\u001b[0;34m\u001b[0m\u001b[0;34m\u001b[0m\u001b[0m\n\u001b[0m\u001b[1;32m    314\u001b[0m             \u001b[0;32mif\u001b[0m \u001b[0;32mnot\u001b[0m \u001b[0mformat_dict\u001b[0m\u001b[0;34m:\u001b[0m\u001b[0;34m\u001b[0m\u001b[0;34m\u001b[0m\u001b[0m\n\u001b[1;32m    315\u001b[0m                 \u001b[0;31m# nothing to display (e.g. _ipython_display_ took over)\u001b[0m\u001b[0;34m\u001b[0m\u001b[0;34m\u001b[0m\u001b[0;34m\u001b[0m\u001b[0m\n",
            "\u001b[0;32m/usr/local/lib/python3.8/dist-packages/IPython/core/formatters.py\u001b[0m in \u001b[0;36mformat\u001b[0;34m(self, obj, include, exclude)\u001b[0m\n\u001b[1;32m    178\u001b[0m             \u001b[0mmd\u001b[0m \u001b[0;34m=\u001b[0m \u001b[0;32mNone\u001b[0m\u001b[0;34m\u001b[0m\u001b[0;34m\u001b[0m\u001b[0m\n\u001b[1;32m    179\u001b[0m             \u001b[0;32mtry\u001b[0m\u001b[0;34m:\u001b[0m\u001b[0;34m\u001b[0m\u001b[0;34m\u001b[0m\u001b[0m\n\u001b[0;32m--> 180\u001b[0;31m                 \u001b[0mdata\u001b[0m \u001b[0;34m=\u001b[0m \u001b[0mformatter\u001b[0m\u001b[0;34m(\u001b[0m\u001b[0mobj\u001b[0m\u001b[0;34m)\u001b[0m\u001b[0;34m\u001b[0m\u001b[0;34m\u001b[0m\u001b[0m\n\u001b[0m\u001b[1;32m    181\u001b[0m             \u001b[0;32mexcept\u001b[0m\u001b[0;34m:\u001b[0m\u001b[0;34m\u001b[0m\u001b[0;34m\u001b[0m\u001b[0m\n\u001b[1;32m    182\u001b[0m                 \u001b[0;31m# FIXME: log the exception\u001b[0m\u001b[0;34m\u001b[0m\u001b[0;34m\u001b[0m\u001b[0;34m\u001b[0m\u001b[0m\n",
            "\u001b[0;32m<decorator-gen-2>\u001b[0m in \u001b[0;36m__call__\u001b[0;34m(self, obj)\u001b[0m\n",
            "\u001b[0;32m/usr/local/lib/python3.8/dist-packages/IPython/core/formatters.py\u001b[0m in \u001b[0;36mcatch_format_error\u001b[0;34m(method, self, *args, **kwargs)\u001b[0m\n\u001b[1;32m    222\u001b[0m     \u001b[0;34m\"\"\"show traceback on failed format call\"\"\"\u001b[0m\u001b[0;34m\u001b[0m\u001b[0;34m\u001b[0m\u001b[0m\n\u001b[1;32m    223\u001b[0m     \u001b[0;32mtry\u001b[0m\u001b[0;34m:\u001b[0m\u001b[0;34m\u001b[0m\u001b[0;34m\u001b[0m\u001b[0m\n\u001b[0;32m--> 224\u001b[0;31m         \u001b[0mr\u001b[0m \u001b[0;34m=\u001b[0m \u001b[0mmethod\u001b[0m\u001b[0;34m(\u001b[0m\u001b[0mself\u001b[0m\u001b[0;34m,\u001b[0m \u001b[0;34m*\u001b[0m\u001b[0margs\u001b[0m\u001b[0;34m,\u001b[0m \u001b[0;34m**\u001b[0m\u001b[0mkwargs\u001b[0m\u001b[0;34m)\u001b[0m\u001b[0;34m\u001b[0m\u001b[0;34m\u001b[0m\u001b[0m\n\u001b[0m\u001b[1;32m    225\u001b[0m     \u001b[0;32mexcept\u001b[0m \u001b[0mNotImplementedError\u001b[0m\u001b[0;34m:\u001b[0m\u001b[0;34m\u001b[0m\u001b[0;34m\u001b[0m\u001b[0m\n\u001b[1;32m    226\u001b[0m         \u001b[0;31m# don't warn on NotImplementedErrors\u001b[0m\u001b[0;34m\u001b[0m\u001b[0;34m\u001b[0m\u001b[0;34m\u001b[0m\u001b[0m\n",
            "\u001b[0;32m/usr/local/lib/python3.8/dist-packages/IPython/core/formatters.py\u001b[0m in \u001b[0;36m__call__\u001b[0;34m(self, obj)\u001b[0m\n\u001b[1;32m    339\u001b[0m                 \u001b[0;32mpass\u001b[0m\u001b[0;34m\u001b[0m\u001b[0;34m\u001b[0m\u001b[0m\n\u001b[1;32m    340\u001b[0m             \u001b[0;32melse\u001b[0m\u001b[0;34m:\u001b[0m\u001b[0;34m\u001b[0m\u001b[0;34m\u001b[0m\u001b[0m\n\u001b[0;32m--> 341\u001b[0;31m                 \u001b[0;32mreturn\u001b[0m \u001b[0mprinter\u001b[0m\u001b[0;34m(\u001b[0m\u001b[0mobj\u001b[0m\u001b[0;34m)\u001b[0m\u001b[0;34m\u001b[0m\u001b[0;34m\u001b[0m\u001b[0m\n\u001b[0m\u001b[1;32m    342\u001b[0m             \u001b[0;31m# Finally look for special method names\u001b[0m\u001b[0;34m\u001b[0m\u001b[0;34m\u001b[0m\u001b[0;34m\u001b[0m\u001b[0m\n\u001b[1;32m    343\u001b[0m             \u001b[0mmethod\u001b[0m \u001b[0;34m=\u001b[0m \u001b[0mget_real_method\u001b[0m\u001b[0;34m(\u001b[0m\u001b[0mobj\u001b[0m\u001b[0;34m,\u001b[0m \u001b[0mself\u001b[0m\u001b[0;34m.\u001b[0m\u001b[0mprint_method\u001b[0m\u001b[0;34m)\u001b[0m\u001b[0;34m\u001b[0m\u001b[0;34m\u001b[0m\u001b[0m\n",
            "\u001b[0;32m/usr/local/lib/python3.8/dist-packages/IPython/core/pylabtools.py\u001b[0m in \u001b[0;36m<lambda>\u001b[0;34m(fig)\u001b[0m\n\u001b[1;32m    242\u001b[0m \u001b[0;34m\u001b[0m\u001b[0m\n\u001b[1;32m    243\u001b[0m     \u001b[0;32mif\u001b[0m \u001b[0;34m'png'\u001b[0m \u001b[0;32min\u001b[0m \u001b[0mformats\u001b[0m\u001b[0;34m:\u001b[0m\u001b[0;34m\u001b[0m\u001b[0;34m\u001b[0m\u001b[0m\n\u001b[0;32m--> 244\u001b[0;31m         \u001b[0mpng_formatter\u001b[0m\u001b[0;34m.\u001b[0m\u001b[0mfor_type\u001b[0m\u001b[0;34m(\u001b[0m\u001b[0mFigure\u001b[0m\u001b[0;34m,\u001b[0m \u001b[0;32mlambda\u001b[0m \u001b[0mfig\u001b[0m\u001b[0;34m:\u001b[0m \u001b[0mprint_figure\u001b[0m\u001b[0;34m(\u001b[0m\u001b[0mfig\u001b[0m\u001b[0;34m,\u001b[0m \u001b[0;34m'png'\u001b[0m\u001b[0;34m,\u001b[0m \u001b[0;34m**\u001b[0m\u001b[0mkwargs\u001b[0m\u001b[0;34m)\u001b[0m\u001b[0;34m)\u001b[0m\u001b[0;34m\u001b[0m\u001b[0;34m\u001b[0m\u001b[0m\n\u001b[0m\u001b[1;32m    245\u001b[0m     \u001b[0;32mif\u001b[0m \u001b[0;34m'retina'\u001b[0m \u001b[0;32min\u001b[0m \u001b[0mformats\u001b[0m \u001b[0;32mor\u001b[0m \u001b[0;34m'png2x'\u001b[0m \u001b[0;32min\u001b[0m \u001b[0mformats\u001b[0m\u001b[0;34m:\u001b[0m\u001b[0;34m\u001b[0m\u001b[0;34m\u001b[0m\u001b[0m\n\u001b[1;32m    246\u001b[0m         \u001b[0mpng_formatter\u001b[0m\u001b[0;34m.\u001b[0m\u001b[0mfor_type\u001b[0m\u001b[0;34m(\u001b[0m\u001b[0mFigure\u001b[0m\u001b[0;34m,\u001b[0m \u001b[0;32mlambda\u001b[0m \u001b[0mfig\u001b[0m\u001b[0;34m:\u001b[0m \u001b[0mretina_figure\u001b[0m\u001b[0;34m(\u001b[0m\u001b[0mfig\u001b[0m\u001b[0;34m,\u001b[0m \u001b[0;34m**\u001b[0m\u001b[0mkwargs\u001b[0m\u001b[0;34m)\u001b[0m\u001b[0;34m)\u001b[0m\u001b[0;34m\u001b[0m\u001b[0;34m\u001b[0m\u001b[0m\n",
            "\u001b[0;32m/usr/local/lib/python3.8/dist-packages/IPython/core/pylabtools.py\u001b[0m in \u001b[0;36mprint_figure\u001b[0;34m(fig, fmt, bbox_inches, **kwargs)\u001b[0m\n\u001b[1;32m    126\u001b[0m \u001b[0;34m\u001b[0m\u001b[0m\n\u001b[1;32m    127\u001b[0m     \u001b[0mbytes_io\u001b[0m \u001b[0;34m=\u001b[0m \u001b[0mBytesIO\u001b[0m\u001b[0;34m(\u001b[0m\u001b[0;34m)\u001b[0m\u001b[0;34m\u001b[0m\u001b[0;34m\u001b[0m\u001b[0m\n\u001b[0;32m--> 128\u001b[0;31m     \u001b[0mfig\u001b[0m\u001b[0;34m.\u001b[0m\u001b[0mcanvas\u001b[0m\u001b[0;34m.\u001b[0m\u001b[0mprint_figure\u001b[0m\u001b[0;34m(\u001b[0m\u001b[0mbytes_io\u001b[0m\u001b[0;34m,\u001b[0m \u001b[0;34m**\u001b[0m\u001b[0mkw\u001b[0m\u001b[0;34m)\u001b[0m\u001b[0;34m\u001b[0m\u001b[0;34m\u001b[0m\u001b[0m\n\u001b[0m\u001b[1;32m    129\u001b[0m     \u001b[0mdata\u001b[0m \u001b[0;34m=\u001b[0m \u001b[0mbytes_io\u001b[0m\u001b[0;34m.\u001b[0m\u001b[0mgetvalue\u001b[0m\u001b[0;34m(\u001b[0m\u001b[0;34m)\u001b[0m\u001b[0;34m\u001b[0m\u001b[0;34m\u001b[0m\u001b[0m\n\u001b[1;32m    130\u001b[0m     \u001b[0;32mif\u001b[0m \u001b[0mfmt\u001b[0m \u001b[0;34m==\u001b[0m \u001b[0;34m'svg'\u001b[0m\u001b[0;34m:\u001b[0m\u001b[0;34m\u001b[0m\u001b[0;34m\u001b[0m\u001b[0m\n",
            "\u001b[0;32m/usr/local/lib/python3.8/dist-packages/matplotlib/backend_bases.py\u001b[0m in \u001b[0;36mprint_figure\u001b[0;34m(self, filename, dpi, facecolor, edgecolor, orientation, format, bbox_inches, **kwargs)\u001b[0m\n\u001b[1;32m   2098\u001b[0m                            else suppress())\n\u001b[1;32m   2099\u001b[0m                     \u001b[0;32mwith\u001b[0m \u001b[0mctx\u001b[0m\u001b[0;34m:\u001b[0m\u001b[0;34m\u001b[0m\u001b[0;34m\u001b[0m\u001b[0m\n\u001b[0;32m-> 2100\u001b[0;31m                         \u001b[0mself\u001b[0m\u001b[0;34m.\u001b[0m\u001b[0mfigure\u001b[0m\u001b[0;34m.\u001b[0m\u001b[0mdraw\u001b[0m\u001b[0;34m(\u001b[0m\u001b[0mrenderer\u001b[0m\u001b[0;34m)\u001b[0m\u001b[0;34m\u001b[0m\u001b[0;34m\u001b[0m\u001b[0m\n\u001b[0m\u001b[1;32m   2101\u001b[0m                     \u001b[0mbbox_artists\u001b[0m \u001b[0;34m=\u001b[0m \u001b[0mkwargs\u001b[0m\u001b[0;34m.\u001b[0m\u001b[0mpop\u001b[0m\u001b[0;34m(\u001b[0m\u001b[0;34m\"bbox_extra_artists\"\u001b[0m\u001b[0;34m,\u001b[0m \u001b[0;32mNone\u001b[0m\u001b[0;34m)\u001b[0m\u001b[0;34m\u001b[0m\u001b[0;34m\u001b[0m\u001b[0m\n\u001b[1;32m   2102\u001b[0m                     bbox_inches = self.figure.get_tightbbox(renderer,\n",
            "\u001b[0;32m/usr/local/lib/python3.8/dist-packages/matplotlib/artist.py\u001b[0m in \u001b[0;36mdraw_wrapper\u001b[0;34m(artist, renderer, *args, **kwargs)\u001b[0m\n\u001b[1;32m     36\u001b[0m                 \u001b[0mrenderer\u001b[0m\u001b[0;34m.\u001b[0m\u001b[0mstart_filter\u001b[0m\u001b[0;34m(\u001b[0m\u001b[0;34m)\u001b[0m\u001b[0;34m\u001b[0m\u001b[0;34m\u001b[0m\u001b[0m\n\u001b[1;32m     37\u001b[0m \u001b[0;34m\u001b[0m\u001b[0m\n\u001b[0;32m---> 38\u001b[0;31m             \u001b[0;32mreturn\u001b[0m \u001b[0mdraw\u001b[0m\u001b[0;34m(\u001b[0m\u001b[0martist\u001b[0m\u001b[0;34m,\u001b[0m \u001b[0mrenderer\u001b[0m\u001b[0;34m,\u001b[0m \u001b[0;34m*\u001b[0m\u001b[0margs\u001b[0m\u001b[0;34m,\u001b[0m \u001b[0;34m**\u001b[0m\u001b[0mkwargs\u001b[0m\u001b[0;34m)\u001b[0m\u001b[0;34m\u001b[0m\u001b[0;34m\u001b[0m\u001b[0m\n\u001b[0m\u001b[1;32m     39\u001b[0m         \u001b[0;32mfinally\u001b[0m\u001b[0;34m:\u001b[0m\u001b[0;34m\u001b[0m\u001b[0;34m\u001b[0m\u001b[0m\n\u001b[1;32m     40\u001b[0m             \u001b[0;32mif\u001b[0m \u001b[0martist\u001b[0m\u001b[0;34m.\u001b[0m\u001b[0mget_agg_filter\u001b[0m\u001b[0;34m(\u001b[0m\u001b[0;34m)\u001b[0m \u001b[0;32mis\u001b[0m \u001b[0;32mnot\u001b[0m \u001b[0;32mNone\u001b[0m\u001b[0;34m:\u001b[0m\u001b[0;34m\u001b[0m\u001b[0;34m\u001b[0m\u001b[0m\n",
            "\u001b[0;32m/usr/local/lib/python3.8/dist-packages/matplotlib/figure.py\u001b[0m in \u001b[0;36mdraw\u001b[0;34m(self, renderer)\u001b[0m\n\u001b[1;32m   1733\u001b[0m \u001b[0;34m\u001b[0m\u001b[0m\n\u001b[1;32m   1734\u001b[0m             \u001b[0mself\u001b[0m\u001b[0;34m.\u001b[0m\u001b[0mpatch\u001b[0m\u001b[0;34m.\u001b[0m\u001b[0mdraw\u001b[0m\u001b[0;34m(\u001b[0m\u001b[0mrenderer\u001b[0m\u001b[0;34m)\u001b[0m\u001b[0;34m\u001b[0m\u001b[0;34m\u001b[0m\u001b[0m\n\u001b[0;32m-> 1735\u001b[0;31m             mimage._draw_list_compositing_images(\n\u001b[0m\u001b[1;32m   1736\u001b[0m                 renderer, self, artists, self.suppressComposite)\n\u001b[1;32m   1737\u001b[0m \u001b[0;34m\u001b[0m\u001b[0m\n",
            "\u001b[0;32m/usr/local/lib/python3.8/dist-packages/matplotlib/image.py\u001b[0m in \u001b[0;36m_draw_list_compositing_images\u001b[0;34m(renderer, parent, artists, suppress_composite)\u001b[0m\n\u001b[1;32m    135\u001b[0m     \u001b[0;32mif\u001b[0m \u001b[0mnot_composite\u001b[0m \u001b[0;32mor\u001b[0m \u001b[0;32mnot\u001b[0m \u001b[0mhas_images\u001b[0m\u001b[0;34m:\u001b[0m\u001b[0;34m\u001b[0m\u001b[0;34m\u001b[0m\u001b[0m\n\u001b[1;32m    136\u001b[0m         \u001b[0;32mfor\u001b[0m \u001b[0ma\u001b[0m \u001b[0;32min\u001b[0m \u001b[0martists\u001b[0m\u001b[0;34m:\u001b[0m\u001b[0;34m\u001b[0m\u001b[0;34m\u001b[0m\u001b[0m\n\u001b[0;32m--> 137\u001b[0;31m             \u001b[0ma\u001b[0m\u001b[0;34m.\u001b[0m\u001b[0mdraw\u001b[0m\u001b[0;34m(\u001b[0m\u001b[0mrenderer\u001b[0m\u001b[0;34m)\u001b[0m\u001b[0;34m\u001b[0m\u001b[0;34m\u001b[0m\u001b[0m\n\u001b[0m\u001b[1;32m    138\u001b[0m     \u001b[0;32melse\u001b[0m\u001b[0;34m:\u001b[0m\u001b[0;34m\u001b[0m\u001b[0;34m\u001b[0m\u001b[0m\n\u001b[1;32m    139\u001b[0m         \u001b[0;31m# Composite any adjacent images together\u001b[0m\u001b[0;34m\u001b[0m\u001b[0;34m\u001b[0m\u001b[0;34m\u001b[0m\u001b[0m\n",
            "\u001b[0;32m/usr/local/lib/python3.8/dist-packages/matplotlib/artist.py\u001b[0m in \u001b[0;36mdraw_wrapper\u001b[0;34m(artist, renderer, *args, **kwargs)\u001b[0m\n\u001b[1;32m     36\u001b[0m                 \u001b[0mrenderer\u001b[0m\u001b[0;34m.\u001b[0m\u001b[0mstart_filter\u001b[0m\u001b[0;34m(\u001b[0m\u001b[0;34m)\u001b[0m\u001b[0;34m\u001b[0m\u001b[0;34m\u001b[0m\u001b[0m\n\u001b[1;32m     37\u001b[0m \u001b[0;34m\u001b[0m\u001b[0m\n\u001b[0;32m---> 38\u001b[0;31m             \u001b[0;32mreturn\u001b[0m \u001b[0mdraw\u001b[0m\u001b[0;34m(\u001b[0m\u001b[0martist\u001b[0m\u001b[0;34m,\u001b[0m \u001b[0mrenderer\u001b[0m\u001b[0;34m,\u001b[0m \u001b[0;34m*\u001b[0m\u001b[0margs\u001b[0m\u001b[0;34m,\u001b[0m \u001b[0;34m**\u001b[0m\u001b[0mkwargs\u001b[0m\u001b[0;34m)\u001b[0m\u001b[0;34m\u001b[0m\u001b[0;34m\u001b[0m\u001b[0m\n\u001b[0m\u001b[1;32m     39\u001b[0m         \u001b[0;32mfinally\u001b[0m\u001b[0;34m:\u001b[0m\u001b[0;34m\u001b[0m\u001b[0;34m\u001b[0m\u001b[0m\n\u001b[1;32m     40\u001b[0m             \u001b[0;32mif\u001b[0m \u001b[0martist\u001b[0m\u001b[0;34m.\u001b[0m\u001b[0mget_agg_filter\u001b[0m\u001b[0;34m(\u001b[0m\u001b[0;34m)\u001b[0m \u001b[0;32mis\u001b[0m \u001b[0;32mnot\u001b[0m \u001b[0;32mNone\u001b[0m\u001b[0;34m:\u001b[0m\u001b[0;34m\u001b[0m\u001b[0;34m\u001b[0m\u001b[0m\n",
            "\u001b[0;32m/usr/local/lib/python3.8/dist-packages/matplotlib/axes/_base.py\u001b[0m in \u001b[0;36mdraw\u001b[0;34m(self, renderer, inframe)\u001b[0m\n\u001b[1;32m   2628\u001b[0m             \u001b[0mrenderer\u001b[0m\u001b[0;34m.\u001b[0m\u001b[0mstop_rasterizing\u001b[0m\u001b[0;34m(\u001b[0m\u001b[0;34m)\u001b[0m\u001b[0;34m\u001b[0m\u001b[0;34m\u001b[0m\u001b[0m\n\u001b[1;32m   2629\u001b[0m \u001b[0;34m\u001b[0m\u001b[0m\n\u001b[0;32m-> 2630\u001b[0;31m         \u001b[0mmimage\u001b[0m\u001b[0;34m.\u001b[0m\u001b[0m_draw_list_compositing_images\u001b[0m\u001b[0;34m(\u001b[0m\u001b[0mrenderer\u001b[0m\u001b[0;34m,\u001b[0m \u001b[0mself\u001b[0m\u001b[0;34m,\u001b[0m \u001b[0martists\u001b[0m\u001b[0;34m)\u001b[0m\u001b[0;34m\u001b[0m\u001b[0;34m\u001b[0m\u001b[0m\n\u001b[0m\u001b[1;32m   2631\u001b[0m \u001b[0;34m\u001b[0m\u001b[0m\n\u001b[1;32m   2632\u001b[0m         \u001b[0mrenderer\u001b[0m\u001b[0;34m.\u001b[0m\u001b[0mclose_group\u001b[0m\u001b[0;34m(\u001b[0m\u001b[0;34m'axes'\u001b[0m\u001b[0;34m)\u001b[0m\u001b[0;34m\u001b[0m\u001b[0;34m\u001b[0m\u001b[0m\n",
            "\u001b[0;32m/usr/local/lib/python3.8/dist-packages/matplotlib/image.py\u001b[0m in \u001b[0;36m_draw_list_compositing_images\u001b[0;34m(renderer, parent, artists, suppress_composite)\u001b[0m\n\u001b[1;32m    135\u001b[0m     \u001b[0;32mif\u001b[0m \u001b[0mnot_composite\u001b[0m \u001b[0;32mor\u001b[0m \u001b[0;32mnot\u001b[0m \u001b[0mhas_images\u001b[0m\u001b[0;34m:\u001b[0m\u001b[0;34m\u001b[0m\u001b[0;34m\u001b[0m\u001b[0m\n\u001b[1;32m    136\u001b[0m         \u001b[0;32mfor\u001b[0m \u001b[0ma\u001b[0m \u001b[0;32min\u001b[0m \u001b[0martists\u001b[0m\u001b[0;34m:\u001b[0m\u001b[0;34m\u001b[0m\u001b[0;34m\u001b[0m\u001b[0m\n\u001b[0;32m--> 137\u001b[0;31m             \u001b[0ma\u001b[0m\u001b[0;34m.\u001b[0m\u001b[0mdraw\u001b[0m\u001b[0;34m(\u001b[0m\u001b[0mrenderer\u001b[0m\u001b[0;34m)\u001b[0m\u001b[0;34m\u001b[0m\u001b[0;34m\u001b[0m\u001b[0m\n\u001b[0m\u001b[1;32m    138\u001b[0m     \u001b[0;32melse\u001b[0m\u001b[0;34m:\u001b[0m\u001b[0;34m\u001b[0m\u001b[0;34m\u001b[0m\u001b[0m\n\u001b[1;32m    139\u001b[0m         \u001b[0;31m# Composite any adjacent images together\u001b[0m\u001b[0;34m\u001b[0m\u001b[0;34m\u001b[0m\u001b[0;34m\u001b[0m\u001b[0m\n",
            "\u001b[0;32m/usr/local/lib/python3.8/dist-packages/matplotlib/artist.py\u001b[0m in \u001b[0;36mdraw_wrapper\u001b[0;34m(artist, renderer, *args, **kwargs)\u001b[0m\n\u001b[1;32m     36\u001b[0m                 \u001b[0mrenderer\u001b[0m\u001b[0;34m.\u001b[0m\u001b[0mstart_filter\u001b[0m\u001b[0;34m(\u001b[0m\u001b[0;34m)\u001b[0m\u001b[0;34m\u001b[0m\u001b[0;34m\u001b[0m\u001b[0m\n\u001b[1;32m     37\u001b[0m \u001b[0;34m\u001b[0m\u001b[0m\n\u001b[0;32m---> 38\u001b[0;31m             \u001b[0;32mreturn\u001b[0m \u001b[0mdraw\u001b[0m\u001b[0;34m(\u001b[0m\u001b[0martist\u001b[0m\u001b[0;34m,\u001b[0m \u001b[0mrenderer\u001b[0m\u001b[0;34m,\u001b[0m \u001b[0;34m*\u001b[0m\u001b[0margs\u001b[0m\u001b[0;34m,\u001b[0m \u001b[0;34m**\u001b[0m\u001b[0mkwargs\u001b[0m\u001b[0;34m)\u001b[0m\u001b[0;34m\u001b[0m\u001b[0;34m\u001b[0m\u001b[0m\n\u001b[0m\u001b[1;32m     39\u001b[0m         \u001b[0;32mfinally\u001b[0m\u001b[0;34m:\u001b[0m\u001b[0;34m\u001b[0m\u001b[0;34m\u001b[0m\u001b[0m\n\u001b[1;32m     40\u001b[0m             \u001b[0;32mif\u001b[0m \u001b[0martist\u001b[0m\u001b[0;34m.\u001b[0m\u001b[0mget_agg_filter\u001b[0m\u001b[0;34m(\u001b[0m\u001b[0;34m)\u001b[0m \u001b[0;32mis\u001b[0m \u001b[0;32mnot\u001b[0m \u001b[0;32mNone\u001b[0m\u001b[0;34m:\u001b[0m\u001b[0;34m\u001b[0m\u001b[0;34m\u001b[0m\u001b[0m\n",
            "\u001b[0;32m/usr/local/lib/python3.8/dist-packages/matplotlib/patches.py\u001b[0m in \u001b[0;36mdraw\u001b[0;34m(self, renderer)\u001b[0m\n\u001b[1;32m    593\u001b[0m                 \u001b[0mself\u001b[0m\u001b[0;34m.\u001b[0m\u001b[0m_bind_draw_path_function\u001b[0m\u001b[0;34m(\u001b[0m\u001b[0mrenderer\u001b[0m\u001b[0;34m)\u001b[0m \u001b[0;32mas\u001b[0m \u001b[0mdraw_path\u001b[0m\u001b[0;34m:\u001b[0m\u001b[0;34m\u001b[0m\u001b[0;34m\u001b[0m\u001b[0m\n\u001b[1;32m    594\u001b[0m             \u001b[0mpath\u001b[0m \u001b[0;34m=\u001b[0m \u001b[0mself\u001b[0m\u001b[0;34m.\u001b[0m\u001b[0mget_path\u001b[0m\u001b[0;34m(\u001b[0m\u001b[0;34m)\u001b[0m\u001b[0;34m\u001b[0m\u001b[0;34m\u001b[0m\u001b[0m\n\u001b[0;32m--> 595\u001b[0;31m             \u001b[0mtransform\u001b[0m \u001b[0;34m=\u001b[0m \u001b[0mself\u001b[0m\u001b[0;34m.\u001b[0m\u001b[0mget_transform\u001b[0m\u001b[0;34m(\u001b[0m\u001b[0;34m)\u001b[0m\u001b[0;34m\u001b[0m\u001b[0;34m\u001b[0m\u001b[0m\n\u001b[0m\u001b[1;32m    596\u001b[0m             \u001b[0mtpath\u001b[0m \u001b[0;34m=\u001b[0m \u001b[0mtransform\u001b[0m\u001b[0;34m.\u001b[0m\u001b[0mtransform_path_non_affine\u001b[0m\u001b[0;34m(\u001b[0m\u001b[0mpath\u001b[0m\u001b[0;34m)\u001b[0m\u001b[0;34m\u001b[0m\u001b[0;34m\u001b[0m\u001b[0m\n\u001b[1;32m    597\u001b[0m             \u001b[0maffine\u001b[0m \u001b[0;34m=\u001b[0m \u001b[0mtransform\u001b[0m\u001b[0;34m.\u001b[0m\u001b[0mget_affine\u001b[0m\u001b[0;34m(\u001b[0m\u001b[0;34m)\u001b[0m\u001b[0;34m\u001b[0m\u001b[0;34m\u001b[0m\u001b[0m\n",
            "\u001b[0;32m/usr/local/lib/python3.8/dist-packages/matplotlib/patches.py\u001b[0m in \u001b[0;36mget_transform\u001b[0;34m(self)\u001b[0m\n\u001b[1;32m    260\u001b[0m     \u001b[0;32mdef\u001b[0m \u001b[0mget_transform\u001b[0m\u001b[0;34m(\u001b[0m\u001b[0mself\u001b[0m\u001b[0;34m)\u001b[0m\u001b[0;34m:\u001b[0m\u001b[0;34m\u001b[0m\u001b[0;34m\u001b[0m\u001b[0m\n\u001b[1;32m    261\u001b[0m         \u001b[0;34m\"\"\"Return the `~.transforms.Transform` applied to the `Patch`.\"\"\"\u001b[0m\u001b[0;34m\u001b[0m\u001b[0;34m\u001b[0m\u001b[0m\n\u001b[0;32m--> 262\u001b[0;31m         \u001b[0;32mreturn\u001b[0m \u001b[0mself\u001b[0m\u001b[0;34m.\u001b[0m\u001b[0mget_patch_transform\u001b[0m\u001b[0;34m(\u001b[0m\u001b[0;34m)\u001b[0m \u001b[0;34m+\u001b[0m \u001b[0martist\u001b[0m\u001b[0;34m.\u001b[0m\u001b[0mArtist\u001b[0m\u001b[0;34m.\u001b[0m\u001b[0mget_transform\u001b[0m\u001b[0;34m(\u001b[0m\u001b[0mself\u001b[0m\u001b[0;34m)\u001b[0m\u001b[0;34m\u001b[0m\u001b[0;34m\u001b[0m\u001b[0m\n\u001b[0m\u001b[1;32m    263\u001b[0m \u001b[0;34m\u001b[0m\u001b[0m\n\u001b[1;32m    264\u001b[0m     \u001b[0;32mdef\u001b[0m \u001b[0mget_data_transform\u001b[0m\u001b[0;34m(\u001b[0m\u001b[0mself\u001b[0m\u001b[0;34m)\u001b[0m\u001b[0;34m:\u001b[0m\u001b[0;34m\u001b[0m\u001b[0;34m\u001b[0m\u001b[0m\n",
            "\u001b[0;32m/usr/local/lib/python3.8/dist-packages/matplotlib/patches.py\u001b[0m in \u001b[0;36mget_patch_transform\u001b[0;34m(self)\u001b[0m\n\u001b[1;32m    775\u001b[0m \u001b[0;34m\u001b[0m\u001b[0m\n\u001b[1;32m    776\u001b[0m     \u001b[0;32mdef\u001b[0m \u001b[0mget_patch_transform\u001b[0m\u001b[0;34m(\u001b[0m\u001b[0mself\u001b[0m\u001b[0;34m)\u001b[0m\u001b[0;34m:\u001b[0m\u001b[0;34m\u001b[0m\u001b[0;34m\u001b[0m\u001b[0m\n\u001b[0;32m--> 777\u001b[0;31m         \u001b[0mself\u001b[0m\u001b[0;34m.\u001b[0m\u001b[0m_update_patch_transform\u001b[0m\u001b[0;34m(\u001b[0m\u001b[0;34m)\u001b[0m\u001b[0;34m\u001b[0m\u001b[0;34m\u001b[0m\u001b[0m\n\u001b[0m\u001b[1;32m    778\u001b[0m         \u001b[0;32mreturn\u001b[0m \u001b[0mself\u001b[0m\u001b[0;34m.\u001b[0m\u001b[0m_rect_transform\u001b[0m\u001b[0;34m\u001b[0m\u001b[0;34m\u001b[0m\u001b[0m\n\u001b[1;32m    779\u001b[0m \u001b[0;34m\u001b[0m\u001b[0m\n",
            "\u001b[0;32m/usr/local/lib/python3.8/dist-packages/matplotlib/patches.py\u001b[0m in \u001b[0;36m_update_patch_transform\u001b[0;34m(self)\u001b[0m\n\u001b[1;32m    756\u001b[0m         \u001b[0mbbox\u001b[0m \u001b[0;34m=\u001b[0m \u001b[0mtransforms\u001b[0m\u001b[0;34m.\u001b[0m\u001b[0mBbox\u001b[0m\u001b[0;34m.\u001b[0m\u001b[0mfrom_extents\u001b[0m\u001b[0;34m(\u001b[0m\u001b[0mx0\u001b[0m\u001b[0;34m,\u001b[0m \u001b[0my0\u001b[0m\u001b[0;34m,\u001b[0m \u001b[0mx1\u001b[0m\u001b[0;34m,\u001b[0m \u001b[0my1\u001b[0m\u001b[0;34m)\u001b[0m\u001b[0;34m\u001b[0m\u001b[0;34m\u001b[0m\u001b[0m\n\u001b[1;32m    757\u001b[0m         \u001b[0mrot_trans\u001b[0m \u001b[0;34m=\u001b[0m \u001b[0mtransforms\u001b[0m\u001b[0;34m.\u001b[0m\u001b[0mAffine2D\u001b[0m\u001b[0;34m(\u001b[0m\u001b[0;34m)\u001b[0m\u001b[0;34m\u001b[0m\u001b[0;34m\u001b[0m\u001b[0m\n\u001b[0;32m--> 758\u001b[0;31m         \u001b[0mrot_trans\u001b[0m\u001b[0;34m.\u001b[0m\u001b[0mrotate_deg_around\u001b[0m\u001b[0;34m(\u001b[0m\u001b[0mx0\u001b[0m\u001b[0;34m,\u001b[0m \u001b[0my0\u001b[0m\u001b[0;34m,\u001b[0m \u001b[0mself\u001b[0m\u001b[0;34m.\u001b[0m\u001b[0mangle\u001b[0m\u001b[0;34m)\u001b[0m\u001b[0;34m\u001b[0m\u001b[0;34m\u001b[0m\u001b[0m\n\u001b[0m\u001b[1;32m    759\u001b[0m         \u001b[0mself\u001b[0m\u001b[0;34m.\u001b[0m\u001b[0m_rect_transform\u001b[0m \u001b[0;34m=\u001b[0m \u001b[0mtransforms\u001b[0m\u001b[0;34m.\u001b[0m\u001b[0mBboxTransformTo\u001b[0m\u001b[0;34m(\u001b[0m\u001b[0mbbox\u001b[0m\u001b[0;34m)\u001b[0m\u001b[0;34m\u001b[0m\u001b[0;34m\u001b[0m\u001b[0m\n\u001b[1;32m    760\u001b[0m         \u001b[0mself\u001b[0m\u001b[0;34m.\u001b[0m\u001b[0m_rect_transform\u001b[0m \u001b[0;34m+=\u001b[0m \u001b[0mrot_trans\u001b[0m\u001b[0;34m\u001b[0m\u001b[0;34m\u001b[0m\u001b[0m\n",
            "\u001b[0;32m/usr/local/lib/python3.8/dist-packages/matplotlib/transforms.py\u001b[0m in \u001b[0;36mrotate_deg_around\u001b[0;34m(self, x, y, degrees)\u001b[0m\n\u001b[1;32m   1968\u001b[0m         \u001b[0;31m# Cast to float to avoid wraparound issues with uint8's\u001b[0m\u001b[0;34m\u001b[0m\u001b[0;34m\u001b[0m\u001b[0;34m\u001b[0m\u001b[0m\n\u001b[1;32m   1969\u001b[0m         \u001b[0mx\u001b[0m\u001b[0;34m,\u001b[0m \u001b[0my\u001b[0m \u001b[0;34m=\u001b[0m \u001b[0mfloat\u001b[0m\u001b[0;34m(\u001b[0m\u001b[0mx\u001b[0m\u001b[0;34m)\u001b[0m\u001b[0;34m,\u001b[0m \u001b[0mfloat\u001b[0m\u001b[0;34m(\u001b[0m\u001b[0my\u001b[0m\u001b[0;34m)\u001b[0m\u001b[0;34m\u001b[0m\u001b[0;34m\u001b[0m\u001b[0m\n\u001b[0;32m-> 1970\u001b[0;31m         \u001b[0;32mreturn\u001b[0m \u001b[0mself\u001b[0m\u001b[0;34m.\u001b[0m\u001b[0mtranslate\u001b[0m\u001b[0;34m(\u001b[0m\u001b[0;34m-\u001b[0m\u001b[0mx\u001b[0m\u001b[0;34m,\u001b[0m \u001b[0;34m-\u001b[0m\u001b[0my\u001b[0m\u001b[0;34m)\u001b[0m\u001b[0;34m.\u001b[0m\u001b[0mrotate_deg\u001b[0m\u001b[0;34m(\u001b[0m\u001b[0mdegrees\u001b[0m\u001b[0;34m)\u001b[0m\u001b[0;34m.\u001b[0m\u001b[0mtranslate\u001b[0m\u001b[0;34m(\u001b[0m\u001b[0mx\u001b[0m\u001b[0;34m,\u001b[0m \u001b[0my\u001b[0m\u001b[0;34m)\u001b[0m\u001b[0;34m\u001b[0m\u001b[0;34m\u001b[0m\u001b[0m\n\u001b[0m\u001b[1;32m   1971\u001b[0m \u001b[0;34m\u001b[0m\u001b[0m\n\u001b[1;32m   1972\u001b[0m     \u001b[0;32mdef\u001b[0m \u001b[0mtranslate\u001b[0m\u001b[0;34m(\u001b[0m\u001b[0mself\u001b[0m\u001b[0;34m,\u001b[0m \u001b[0mtx\u001b[0m\u001b[0;34m,\u001b[0m \u001b[0mty\u001b[0m\u001b[0;34m)\u001b[0m\u001b[0;34m:\u001b[0m\u001b[0;34m\u001b[0m\u001b[0;34m\u001b[0m\u001b[0m\n",
            "\u001b[0;32m/usr/local/lib/python3.8/dist-packages/matplotlib/transforms.py\u001b[0m in \u001b[0;36mtranslate\u001b[0;34m(self, tx, ty)\u001b[0m\n\u001b[1;32m   1980\u001b[0m         translate_mtx = np.array(\n\u001b[1;32m   1981\u001b[0m             [[1.0, 0.0, tx], [0.0, 1.0, ty], [0.0, 0.0, 1.0]], float)\n\u001b[0;32m-> 1982\u001b[0;31m         \u001b[0mself\u001b[0m\u001b[0;34m.\u001b[0m\u001b[0m_mtx\u001b[0m \u001b[0;34m=\u001b[0m \u001b[0mnp\u001b[0m\u001b[0;34m.\u001b[0m\u001b[0mdot\u001b[0m\u001b[0;34m(\u001b[0m\u001b[0mtranslate_mtx\u001b[0m\u001b[0;34m,\u001b[0m \u001b[0mself\u001b[0m\u001b[0;34m.\u001b[0m\u001b[0m_mtx\u001b[0m\u001b[0;34m)\u001b[0m\u001b[0;34m\u001b[0m\u001b[0;34m\u001b[0m\u001b[0m\n\u001b[0m\u001b[1;32m   1983\u001b[0m         \u001b[0mself\u001b[0m\u001b[0;34m.\u001b[0m\u001b[0minvalidate\u001b[0m\u001b[0;34m(\u001b[0m\u001b[0;34m)\u001b[0m\u001b[0;34m\u001b[0m\u001b[0;34m\u001b[0m\u001b[0m\n\u001b[1;32m   1984\u001b[0m         \u001b[0;32mreturn\u001b[0m \u001b[0mself\u001b[0m\u001b[0;34m\u001b[0m\u001b[0;34m\u001b[0m\u001b[0m\n",
            "\u001b[0;32m<__array_function__ internals>\u001b[0m in \u001b[0;36mdot\u001b[0;34m(*args, **kwargs)\u001b[0m\n",
            "\u001b[0;31mKeyboardInterrupt\u001b[0m: "
          ]
        }
      ],
      "source": [
        "sns.pairplot(df)\n"
      ]
    },
    {
      "cell_type": "markdown",
      "metadata": {
        "id": "mhCgOc5Lcr2s"
      },
      "source": [
        "Observations from this pairplot:\n",
        "  1) Most cars on sale were produced after 1990\n",
        "  2) CO2 emission and displacement are positively correlated \n",
        "  3) Price and production year are positvely strongly correlated \n",
        "  4) Horse power and production year are positively correlated\n",
        "  5) Mileage has a very low variance \n",
        "  6) Displacement and production year are positively correlated\n",
        "  7) Horse power and price are positively correlated\n",
        "  8) Horse Power and displacement are positively related"
      ]
    },
    {
      "cell_type": "markdown",
      "source": [
        "Correlation Matrix"
      ],
      "metadata": {
        "id": "rRz9iU3VZIk3"
      }
    },
    {
      "cell_type": "code",
      "source": [
        "corr = df.corr()\n",
        "\n",
        "mask = np.triu(np.ones_like(corr))\n",
        "\n",
        "# Set up the matplotlib figure\n",
        "f, ax = plt.subplots(figsize=(11, 9))\n",
        "\n",
        "# Draw the heatmap with the mask and correct aspect ratio\n",
        "sns.heatmap(corr, mask=mask, cmap=\"crest\", vmax=1, center=0,\n",
        "            annot=True, square=True, linewidths=0.5, cbar_kws={\"shrink\": .5})\n"
      ],
      "metadata": {
        "colab": {
          "base_uri": "https://localhost:8080/",
          "height": 639
        },
        "id": "AiG0LMSEZKsf",
        "outputId": "0bc2b1df-705e-4dc7-fadb-5db6856936a8"
      },
      "execution_count": null,
      "outputs": [
        {
          "output_type": "execute_result",
          "data": {
            "text/plain": [
              "<matplotlib.axes._subplots.AxesSubplot at 0x7fab0e1486a0>"
            ]
          },
          "metadata": {},
          "execution_count": 15
        },
        {
          "output_type": "display_data",
          "data": {
            "text/plain": [
              "<Figure size 792x648 with 2 Axes>"
            ],
            "image/png": "[encoded data removed]"
          },
          "metadata": {
            "needs_background": "light"
          }
        }
      ]
    },
    {
      "cell_type": "markdown",
      "metadata": {
        "id": "PCQwuPHcUu81"
      },
      "source": [
        "Outliers"
      ]
    },
    {
      "cell_type": "markdown",
      "metadata": {
        "id": "jv8Gx2N8VzVH"
      },
      "source": [
        "Upon a scan of the data I noticed a few values that could be outliers especially in the mileage attribute - they were too low ( eg: 1 or 5 km)compared to an average of:"
      ]
    },
    {
      "cell_type": "code",
      "execution_count": null,
      "metadata": {
        "colab": {
          "base_uri": "https://localhost:8080/"
        },
        "id": "duMyURpaWCKw",
        "outputId": "e474334b-11a0-4427-a5d4-6e73d2c12c2b"
      },
      "outputs": [
        {
          "output_type": "execute_result",
          "data": {
            "text/plain": [
              "150249.81449708118"
            ]
          },
          "metadata": {},
          "execution_count": 16
        }
      ],
      "source": [
        "df.Mileage_km.mean()"
      ]
    },
    {
      "cell_type": "code",
      "source": [
        "outliers=[]\n",
        "def detect_outlier(data_1):\n",
        "    \n",
        "    threshold=3\n",
        "    mean_1 = np.mean(data_1)\n",
        "    std_1 =np.std(data_1)\n",
        "    \n",
        "    \n",
        "    for y in data_1:\n",
        "        z_score= (y - mean_1)/std_1 \n",
        "        if np.abs(z_score) > threshold:\n",
        "            outliers.append(y)\n",
        "    return outliers"
      ],
      "metadata": {
        "id": "Y65AbN98MjKw"
      },
      "execution_count": null,
      "outputs": []
    },
    {
      "cell_type": "code",
      "execution_count": null,
      "metadata": {
        "colab": {
          "base_uri": "https://localhost:8080/"
        },
        "id": "w7I4rygXUxgO",
        "outputId": "52d008a5-ecee-4391-831e-4bf1e6aee062"
      },
      "outputs": [
        {
          "output_type": "execute_result",
          "data": {
            "text/plain": [
              "[11111111.0,\n",
              " 10000000.0,\n",
              " 99999999.0,\n",
              " 1111111111.0,\n",
              " 500000000.0,\n",
              " 9999999.0,\n",
              " 206549168.0,\n",
              " 500000000.0]"
            ]
          },
          "metadata": {},
          "execution_count": 18
        }
      ],
      "source": [
        "detect_outlier(df.Mileage_km)"
      ]
    },
    {
      "cell_type": "code",
      "execution_count": null,
      "metadata": {
        "id": "rEJ8mA3yVqck"
      },
      "outputs": [],
      "source": [
        "sorted(df.Mileage_km)\n",
        "q1, q3= np.percentile(df.Mileage_km,[25,75])"
      ]
    },
    {
      "cell_type": "code",
      "execution_count": null,
      "metadata": {
        "colab": {
          "base_uri": "https://localhost:8080/",
          "height": 36
        },
        "id": "BORPRFpSWha-",
        "outputId": "94b5e5ab-2e0f-420a-baf7-f9e7a7fb09a1"
      },
      "outputs": [
        {
          "output_type": "execute_result",
          "data": {
            "text/plain": [
              "'1st quartile: 53588.75 and 3rd quartile: 205697.5 '"
            ],
            "application/vnd.google.colaboratory.intrinsic+json": {
              "type": "string"
            }
          },
          "metadata": {},
          "execution_count": 20
        }
      ],
      "source": [
        "f\"1st quartile: {q1} and 3rd quartile: {q3} \""
      ]
    },
    {
      "cell_type": "code",
      "execution_count": null,
      "metadata": {
        "colab": {
          "base_uri": "https://localhost:8080/"
        },
        "id": "fLr-WvyBZBio",
        "outputId": "f281b1fc-58e1-4e25-a9aa-afb1e1ba3f56"
      },
      "outputs": [
        {
          "output_type": "stream",
          "name": "stdout",
          "text": [
            "152108.75\n"
          ]
        }
      ],
      "source": [
        "iqr = q3 - q1\n",
        "print(iqr)"
      ]
    },
    {
      "cell_type": "code",
      "execution_count": null,
      "metadata": {
        "id": "zfjlwfz9Ziv-"
      },
      "outputs": [],
      "source": [
        "lower_bound = q1 -(1.5 * iqr) \n",
        "upper_bound = q3 +(1.5 * iqr) \n"
      ]
    },
    {
      "cell_type": "code",
      "execution_count": null,
      "metadata": {
        "colab": {
          "base_uri": "https://localhost:8080/"
        },
        "id": "NDafF3O5Zp9v",
        "outputId": "6e4d944e-91f4-4b97-868b-a21c7439a9ee"
      },
      "outputs": [
        {
          "output_type": "execute_result",
          "data": {
            "text/plain": [
              "-174574.375"
            ]
          },
          "metadata": {},
          "execution_count": 23
        }
      ],
      "source": [
        "lower_bound"
      ]
    },
    {
      "cell_type": "code",
      "execution_count": null,
      "metadata": {
        "colab": {
          "base_uri": "https://localhost:8080/"
        },
        "id": "knc-e4NhZ6fT",
        "outputId": "c21ed43c-9d10-49ae-c668-534218c6c85b"
      },
      "outputs": [
        {
          "output_type": "execute_result",
          "data": {
            "text/plain": [
              "433860.625"
            ]
          },
          "metadata": {},
          "execution_count": 24
        }
      ],
      "source": [
        "upper_bound"
      ]
    },
    {
      "cell_type": "markdown",
      "metadata": {
        "id": "h1Rjn2NcilLg"
      },
      "source": [
        "Apparently the calculations show that the low numbers are still within acceptable range and not outliers, so I will check for maximum outliers"
      ]
    },
    {
      "cell_type": "code",
      "execution_count": null,
      "metadata": {
        "colab": {
          "base_uri": "https://localhost:8080/",
          "height": 1000
        },
        "id": "Yps-bvigbxcM",
        "outputId": "26dfdf52-311e-43b6-dbe1-82cf21a8fa9a"
      },
      "outputs": [
        {
          "output_type": "execute_result",
          "data": {
            "text/plain": [
              "         Index  Price Currency Condition Vehicle_brand Vehicle_model  \\\n",
              "261        261  11999      PLN      Used    Alfa Romeo           159   \n",
              "1552      1552   5000      PLN      Used          Audi           100   \n",
              "4577      4577   2950      PLN      Used          Audi            A4   \n",
              "4863      4863  13200      PLN      Used          Audi            A4   \n",
              "5503      5503   3399      PLN      Used          Audi            A4   \n",
              "...        ...    ...      ...       ...           ...           ...   \n",
              "206796  206796  10900      PLN      Used         Volvo           V70   \n",
              "207478  207478   9500      PLN      Used         Volvo           V70   \n",
              "208029  208029  15800      PLN      Used         Volvo           965   \n",
              "208195  208195  12915      PLN      Used         Volvo           V70   \n",
              "208293  208293  33333      PLN      Used     Zaporożec         Other   \n",
              "\n",
              "           Vehicle_version Vehicle_generation  Production_year   Mileage_km  \\\n",
              "261     1.9JTDM Impression                NaN             2007    2025931.0   \n",
              "1552           Avant 2.6 E     C4 (1991-1994)             1993     500000.0   \n",
              "4577         Avant 1.9 TDI     B5 (1995-2001)             1996     496000.0   \n",
              "4863            Avant 1.8T     B6 (2000-2004)             2003    1234567.0   \n",
              "5503                   NaN     B6 (2000-2004)             2001     520000.0   \n",
              "...                    ...                ...              ...          ...   \n",
              "206796                 2.4     II (1999-2007)             2004     495000.0   \n",
              "207478       2.4D Momentum     II (1999-2007)             2007     550800.0   \n",
              "208029                 NaN                NaN             1991    1550000.0   \n",
              "208195      II (1999-2007)     II (1999-2007)             2005     519450.0   \n",
              "208293                 NaN                NaN             2020  500000000.0   \n",
              "\n",
              "        ...  Transmission           Type Doors_number  Colour Origin_country  \\\n",
              "261     ...        Manual  station_wagon          4.0   other        Germany   \n",
              "1552    ...        Manual  station_wagon          5.0   green            NaN   \n",
              "4577    ...        Manual  station_wagon          5.0  silver            NaN   \n",
              "4863    ...        Manual  station_wagon          5.0   other        Germany   \n",
              "5503    ...        Manual          sedan          5.0   other            NaN   \n",
              "...     ...           ...            ...          ...     ...            ...   \n",
              "206796  ...        Manual  station_wagon          5.0    gray            NaN   \n",
              "207478  ...        Manual  station_wagon          5.0   black            NaN   \n",
              "208029  ...     Automatic        compact          5.0   white            NaN   \n",
              "208195  ...     Automatic  station_wagon          5.0   black        Germany   \n",
              "208293  ...        Manual     small_cars          4.0   brown            NaN   \n",
              "\n",
              "       First_owner First_registration_date  Offer_publication_date  \\\n",
              "261             No                     NaN              01/05/2021   \n",
              "1552            No                     NaN              02/05/2021   \n",
              "4577            No                     NaN              03/05/2021   \n",
              "4863            No                     NaN              30/04/2021   \n",
              "5503            No                     NaN              25/04/2021   \n",
              "...            ...                     ...                     ...   \n",
              "206796          No                     NaN              30/04/2021   \n",
              "207478          No              04/07/2007              04/05/2021   \n",
              "208029          No                     NaN              30/04/2021   \n",
              "208195          No              30/03/2005              29/04/2021   \n",
              "208293          No                     NaN              28/04/2021   \n",
              "\n",
              "                                           Offer_location  \\\n",
              "261                                    Płock, Mazowieckie   \n",
              "1552                        Lubań, lubański, Dolnośląskie   \n",
              "4577                            Toruń, Kujawsko-pomorskie   \n",
              "4863    ul. Leśna 15 - 87-148 Łysomice, toruński, Kuja...   \n",
              "5503    Stary Brześć 23 B - 87-880 Brześć Kujawski, wł...   \n",
              "...                                                   ...   \n",
              "206796  Przasnyska 91a - 06-200 Maków Mazowiecki, mako...   \n",
              "207478                    Jemna, ząbkowicki, Dolnośląskie   \n",
              "208029  kanonierska12 - 04-425 Warszawa, Rembertów (Po...   \n",
              "208195                 Skarszewy, starogardzki, Pomorskie   \n",
              "208293  liberdade - 1999 Bochnia, bocheński, Małopolsk...   \n",
              "\n",
              "                                                 Features  \n",
              "261     ['ABS', 'Electric front windows', 'Passengers ...  \n",
              "1552    ['ABS', 'Central locking', 'Power steering', '...  \n",
              "4577    ['ABS', 'Drivers airbag', 'Automatic air condi...  \n",
              "4863    ['ABS', 'Electric front windows', 'Drivers air...  \n",
              "5503    ['ABS', 'Electrically adjustable mirrors', 'Pa...  \n",
              "...                                                   ...  \n",
              "206796  ['ABS', 'Electric front windows', 'Drivers air...  \n",
              "207478  ['ABS', 'Electric front windows', 'Drivers air...  \n",
              "208029  ['Electric front windows', 'Passengers airbag'...  \n",
              "208195  ['ABS', 'Electric front windows', 'Drivers air...  \n",
              "208293                                                 []  \n",
              "\n",
              "[273 rows x 25 columns]"
            ],
            "text/html": [
              "\n",
              "  <div id=\"df-e8e5a3c2-64a4-4aec-8352-329263823c52\">\n",
              "    <div class=\"colab-df-container\">\n",
              "      <div>\n",
              "<style scoped>\n",
              "    .dataframe tbody tr th:only-of-type {\n",
              "        vertical-align: middle;\n",
              "    }\n",
              "\n",
              "    .dataframe tbody tr th {\n",
              "        vertical-align: top;\n",
              "    }\n",
              "\n",
              "    .dataframe thead th {\n",
              "        text-align: right;\n",
              "    }\n",
              "</style>\n",
              "<table border=\"1\" class=\"dataframe\">\n",
              "  <thead>\n",
              "    <tr style=\"text-align: right;\">\n",
              "      <th></th>\n",
              "      <th>Index</th>\n",
              "      <th>Price</th>\n",
              "      <th>Currency</th>\n",
              "      <th>Condition</th>\n",
              "      <th>Vehicle_brand</th>\n",
              "      <th>Vehicle_model</th>\n",
              "      <th>Vehicle_version</th>\n",
              "      <th>Vehicle_generation</th>\n",
              "      <th>Production_year</th>\n",
              "      <th>Mileage_km</th>\n",
              "      <th>...</th>\n",
              "      <th>Transmission</th>\n",
              "      <th>Type</th>\n",
              "      <th>Doors_number</th>\n",
              "      <th>Colour</th>\n",
              "      <th>Origin_country</th>\n",
              "      <th>First_owner</th>\n",
              "      <th>First_registration_date</th>\n",
              "      <th>Offer_publication_date</th>\n",
              "      <th>Offer_location</th>\n",
              "      <th>Features</th>\n",
              "    </tr>\n",
              "  </thead>\n",
              "  <tbody>\n",
              "    <tr>\n",
              "      <th>261</th>\n",
              "      <td>261</td>\n",
              "      <td>11999</td>\n",
              "      <td>PLN</td>\n",
              "      <td>Used</td>\n",
              "      <td>Alfa Romeo</td>\n",
              "      <td>159</td>\n",
              "      <td>1.9JTDM Impression</td>\n",
              "      <td>NaN</td>\n",
              "      <td>2007</td>\n",
              "      <td>2025931.0</td>\n",
              "      <td>...</td>\n",
              "      <td>Manual</td>\n",
              "      <td>station_wagon</td>\n",
              "      <td>4.0</td>\n",
              "      <td>other</td>\n",
              "      <td>Germany</td>\n",
              "      <td>No</td>\n",
              "      <td>NaN</td>\n",
              "      <td>01/05/2021</td>\n",
              "      <td>Płock, Mazowieckie</td>\n",
              "      <td>['ABS', 'Electric front windows', 'Passengers ...</td>\n",
              "    </tr>\n",
              "    <tr>\n",
              "      <th>1552</th>\n",
              "      <td>1552</td>\n",
              "      <td>5000</td>\n",
              "      <td>PLN</td>\n",
              "      <td>Used</td>\n",
              "      <td>Audi</td>\n",
              "      <td>100</td>\n",
              "      <td>Avant 2.6 E</td>\n",
              "      <td>C4 (1991-1994)</td>\n",
              "      <td>1993</td>\n",
              "      <td>500000.0</td>\n",
              "      <td>...</td>\n",
              "      <td>Manual</td>\n",
              "      <td>station_wagon</td>\n",
              "      <td>5.0</td>\n",
              "      <td>green</td>\n",
              "      <td>NaN</td>\n",
              "      <td>No</td>\n",
              "      <td>NaN</td>\n",
              "      <td>02/05/2021</td>\n",
              "      <td>Lubań, lubański, Dolnośląskie</td>\n",
              "      <td>['ABS', 'Central locking', 'Power steering', '...</td>\n",
              "    </tr>\n",
              "    <tr>\n",
              "      <th>4577</th>\n",
              "      <td>4577</td>\n",
              "      <td>2950</td>\n",
              "      <td>PLN</td>\n",
              "      <td>Used</td>\n",
              "      <td>Audi</td>\n",
              "      <td>A4</td>\n",
              "      <td>Avant 1.9 TDI</td>\n",
              "      <td>B5 (1995-2001)</td>\n",
              "      <td>1996</td>\n",
              "      <td>496000.0</td>\n",
              "      <td>...</td>\n",
              "      <td>Manual</td>\n",
              "      <td>station_wagon</td>\n",
              "      <td>5.0</td>\n",
              "      <td>silver</td>\n",
              "      <td>NaN</td>\n",
              "      <td>No</td>\n",
              "      <td>NaN</td>\n",
              "      <td>03/05/2021</td>\n",
              "      <td>Toruń, Kujawsko-pomorskie</td>\n",
              "      <td>['ABS', 'Drivers airbag', 'Automatic air condi...</td>\n",
              "    </tr>\n",
              "    <tr>\n",
              "      <th>4863</th>\n",
              "      <td>4863</td>\n",
              "      <td>13200</td>\n",
              "      <td>PLN</td>\n",
              "      <td>Used</td>\n",
              "      <td>Audi</td>\n",
              "      <td>A4</td>\n",
              "      <td>Avant 1.8T</td>\n",
              "      <td>B6 (2000-2004)</td>\n",
              "      <td>2003</td>\n",
              "      <td>1234567.0</td>\n",
              "      <td>...</td>\n",
              "      <td>Manual</td>\n",
              "      <td>station_wagon</td>\n",
              "      <td>5.0</td>\n",
              "      <td>other</td>\n",
              "      <td>Germany</td>\n",
              "      <td>No</td>\n",
              "      <td>NaN</td>\n",
              "      <td>30/04/2021</td>\n",
              "      <td>ul. Leśna 15 - 87-148 Łysomice, toruński, Kuja...</td>\n",
              "      <td>['ABS', 'Electric front windows', 'Drivers air...</td>\n",
              "    </tr>\n",
              "    <tr>\n",
              "      <th>5503</th>\n",
              "      <td>5503</td>\n",
              "      <td>3399</td>\n",
              "      <td>PLN</td>\n",
              "      <td>Used</td>\n",
              "      <td>Audi</td>\n",
              "      <td>A4</td>\n",
              "      <td>NaN</td>\n",
              "      <td>B6 (2000-2004)</td>\n",
              "      <td>2001</td>\n",
              "      <td>520000.0</td>\n",
              "      <td>...</td>\n",
              "      <td>Manual</td>\n",
              "      <td>sedan</td>\n",
              "      <td>5.0</td>\n",
              "      <td>other</td>\n",
              "      <td>NaN</td>\n",
              "      <td>No</td>\n",
              "      <td>NaN</td>\n",
              "      <td>25/04/2021</td>\n",
              "      <td>Stary Brześć 23 B - 87-880 Brześć Kujawski, wł...</td>\n",
              "      <td>['ABS', 'Electrically adjustable mirrors', 'Pa...</td>\n",
              "    </tr>\n",
              "    <tr>\n",
              "      <th>...</th>\n",
              "      <td>...</td>\n",
              "      <td>...</td>\n",
              "      <td>...</td>\n",
              "      <td>...</td>\n",
              "      <td>...</td>\n",
              "      <td>...</td>\n",
              "      <td>...</td>\n",
              "      <td>...</td>\n",
              "      <td>...</td>\n",
              "      <td>...</td>\n",
              "      <td>...</td>\n",
              "      <td>...</td>\n",
              "      <td>...</td>\n",
              "      <td>...</td>\n",
              "      <td>...</td>\n",
              "      <td>...</td>\n",
              "      <td>...</td>\n",
              "      <td>...</td>\n",
              "      <td>...</td>\n",
              "      <td>...</td>\n",
              "      <td>...</td>\n",
              "    </tr>\n",
              "    <tr>\n",
              "      <th>206796</th>\n",
              "      <td>206796</td>\n",
              "      <td>10900</td>\n",
              "      <td>PLN</td>\n",
              "      <td>Used</td>\n",
              "      <td>Volvo</td>\n",
              "      <td>V70</td>\n",
              "      <td>2.4</td>\n",
              "      <td>II (1999-2007)</td>\n",
              "      <td>2004</td>\n",
              "      <td>495000.0</td>\n",
              "      <td>...</td>\n",
              "      <td>Manual</td>\n",
              "      <td>station_wagon</td>\n",
              "      <td>5.0</td>\n",
              "      <td>gray</td>\n",
              "      <td>NaN</td>\n",
              "      <td>No</td>\n",
              "      <td>NaN</td>\n",
              "      <td>30/04/2021</td>\n",
              "      <td>Przasnyska 91a - 06-200 Maków Mazowiecki, mako...</td>\n",
              "      <td>['ABS', 'Electric front windows', 'Drivers air...</td>\n",
              "    </tr>\n",
              "    <tr>\n",
              "      <th>207478</th>\n",
              "      <td>207478</td>\n",
              "      <td>9500</td>\n",
              "      <td>PLN</td>\n",
              "      <td>Used</td>\n",
              "      <td>Volvo</td>\n",
              "      <td>V70</td>\n",
              "      <td>2.4D Momentum</td>\n",
              "      <td>II (1999-2007)</td>\n",
              "      <td>2007</td>\n",
              "      <td>550800.0</td>\n",
              "      <td>...</td>\n",
              "      <td>Manual</td>\n",
              "      <td>station_wagon</td>\n",
              "      <td>5.0</td>\n",
              "      <td>black</td>\n",
              "      <td>NaN</td>\n",
              "      <td>No</td>\n",
              "      <td>04/07/2007</td>\n",
              "      <td>04/05/2021</td>\n",
              "      <td>Jemna, ząbkowicki, Dolnośląskie</td>\n",
              "      <td>['ABS', 'Electric front windows', 'Drivers air...</td>\n",
              "    </tr>\n",
              "    <tr>\n",
              "      <th>208029</th>\n",
              "      <td>208029</td>\n",
              "      <td>15800</td>\n",
              "      <td>PLN</td>\n",
              "      <td>Used</td>\n",
              "      <td>Volvo</td>\n",
              "      <td>965</td>\n",
              "      <td>NaN</td>\n",
              "      <td>NaN</td>\n",
              "      <td>1991</td>\n",
              "      <td>1550000.0</td>\n",
              "      <td>...</td>\n",
              "      <td>Automatic</td>\n",
              "      <td>compact</td>\n",
              "      <td>5.0</td>\n",
              "      <td>white</td>\n",
              "      <td>NaN</td>\n",
              "      <td>No</td>\n",
              "      <td>NaN</td>\n",
              "      <td>30/04/2021</td>\n",
              "      <td>kanonierska12 - 04-425 Warszawa, Rembertów (Po...</td>\n",
              "      <td>['Electric front windows', 'Passengers airbag'...</td>\n",
              "    </tr>\n",
              "    <tr>\n",
              "      <th>208195</th>\n",
              "      <td>208195</td>\n",
              "      <td>12915</td>\n",
              "      <td>PLN</td>\n",
              "      <td>Used</td>\n",
              "      <td>Volvo</td>\n",
              "      <td>V70</td>\n",
              "      <td>II (1999-2007)</td>\n",
              "      <td>II (1999-2007)</td>\n",
              "      <td>2005</td>\n",
              "      <td>519450.0</td>\n",
              "      <td>...</td>\n",
              "      <td>Automatic</td>\n",
              "      <td>station_wagon</td>\n",
              "      <td>5.0</td>\n",
              "      <td>black</td>\n",
              "      <td>Germany</td>\n",
              "      <td>No</td>\n",
              "      <td>30/03/2005</td>\n",
              "      <td>29/04/2021</td>\n",
              "      <td>Skarszewy, starogardzki, Pomorskie</td>\n",
              "      <td>['ABS', 'Electric front windows', 'Drivers air...</td>\n",
              "    </tr>\n",
              "    <tr>\n",
              "      <th>208293</th>\n",
              "      <td>208293</td>\n",
              "      <td>33333</td>\n",
              "      <td>PLN</td>\n",
              "      <td>Used</td>\n",
              "      <td>Zaporożec</td>\n",
              "      <td>Other</td>\n",
              "      <td>NaN</td>\n",
              "      <td>NaN</td>\n",
              "      <td>2020</td>\n",
              "      <td>500000000.0</td>\n",
              "      <td>...</td>\n",
              "      <td>Manual</td>\n",
              "      <td>small_cars</td>\n",
              "      <td>4.0</td>\n",
              "      <td>brown</td>\n",
              "      <td>NaN</td>\n",
              "      <td>No</td>\n",
              "      <td>NaN</td>\n",
              "      <td>28/04/2021</td>\n",
              "      <td>liberdade - 1999 Bochnia, bocheński, Małopolsk...</td>\n",
              "      <td>[]</td>\n",
              "    </tr>\n",
              "  </tbody>\n",
              "</table>\n",
              "<p>273 rows × 25 columns</p>\n",
              "</div>\n",
              "      <button class=\"colab-df-convert\" onclick=\"convertToInteractive('df-e8e5a3c2-64a4-4aec-8352-329263823c52')\"\n",
              "              title=\"Convert this dataframe to an interactive table.\"\n",
              "              style=\"display:none;\">\n",
              "        \n",
              "  <svg xmlns=\"http://www.w3.org/2000/svg\" height=\"24px\"viewBox=\"0 0 24 24\"\n",
              "       width=\"24px\">\n",
              "    <path d=\"M0 0h24v24H0V0z\" fill=\"none\"/>\n",
              "    <path d=\"M18.56 5.44l.94 2.06.94-2.06 2.06-.94-2.06-.94-.94-2.06-.94 2.06-2.06.94zm-11 1L8.5 8.5l.94-2.06 2.06-.94-2.06-.94L8.5 2.5l-.94 2.06-2.06.94zm10 10l.94 2.06.94-2.06 2.06-.94-2.06-.94-.94-2.06-.94 2.06-2.06.94z\"/><path d=\"M17.41 7.96l-1.37-1.37c-.4-.4-.92-.59-1.43-.59-.52 0-1.04.2-1.43.59L10.3 9.45l-7.72 7.72c-.78.78-.78 2.05 0 2.83L4 21.41c.39.39.9.59 1.41.59.51 0 1.02-.2 1.41-.59l7.78-7.78 2.81-2.81c.8-.78.8-2.07 0-2.86zM5.41 20L4 18.59l7.72-7.72 1.47 1.35L5.41 20z\"/>\n",
              "  </svg>\n",
              "      </button>\n",
              "      \n",
              "  <style>\n",
              "    .colab-df-container {\n",
              "      display:flex;\n",
              "      flex-wrap:wrap;\n",
              "      gap: 12px;\n",
              "    }\n",
              "\n",
              "    .colab-df-convert {\n",
              "      background-color: #E8F0FE;\n",
              "      border: none;\n",
              "      border-radius: 50%;\n",
              "      cursor: pointer;\n",
              "      display: none;\n",
              "      fill: #1967D2;\n",
              "      height: 32px;\n",
              "      padding: 0 0 0 0;\n",
              "      width: 32px;\n",
              "    }\n",
              "\n",
              "    .colab-df-convert:hover {\n",
              "      background-color: #E2EBFA;\n",
              "      box-shadow: 0px 1px 2px rgba(60, 64, 67, 0.3), 0px 1px 3px 1px rgba(60, 64, 67, 0.15);\n",
              "      fill: #174EA6;\n",
              "    }\n",
              "\n",
              "    [theme=dark] .colab-df-convert {\n",
              "      background-color: #3B4455;\n",
              "      fill: #D2E3FC;\n",
              "    }\n",
              "\n",
              "    [theme=dark] .colab-df-convert:hover {\n",
              "      background-color: #434B5C;\n",
              "      box-shadow: 0px 1px 3px 1px rgba(0, 0, 0, 0.15);\n",
              "      filter: drop-shadow(0px 1px 2px rgba(0, 0, 0, 0.3));\n",
              "      fill: #FFFFFF;\n",
              "    }\n",
              "  </style>\n",
              "\n",
              "      <script>\n",
              "        const buttonEl =\n",
              "          document.querySelector('#df-e8e5a3c2-64a4-4aec-8352-329263823c52 button.colab-df-convert');\n",
              "        buttonEl.style.display =\n",
              "          google.colab.kernel.accessAllowed ? 'block' : 'none';\n",
              "\n",
              "        async function convertToInteractive(key) {\n",
              "          const element = document.querySelector('#df-e8e5a3c2-64a4-4aec-8352-329263823c52');\n",
              "          const dataTable =\n",
              "            await google.colab.kernel.invokeFunction('convertToInteractive',\n",
              "                                                     [key], {});\n",
              "          if (!dataTable) return;\n",
              "\n",
              "          const docLinkHtml = 'Like what you see? Visit the ' +\n",
              "            '<a target=\"_blank\" href=https://colab.research.google.com/notebooks/data_table.ipynb>data table notebook</a>'\n",
              "            + ' to learn more about interactive tables.';\n",
              "          element.innerHTML = '';\n",
              "          dataTable['output_type'] = 'display_data';\n",
              "          await google.colab.output.renderOutput(dataTable, element);\n",
              "          const docLink = document.createElement('div');\n",
              "          docLink.innerHTML = docLinkHtml;\n",
              "          element.appendChild(docLink);\n",
              "        }\n",
              "      </script>\n",
              "    </div>\n",
              "  </div>\n",
              "  "
            ]
          },
          "metadata": {},
          "execution_count": 25
        }
      ],
      "source": [
        "df.loc[df['Mileage_km']>491434.75]\n"
      ]
    },
    {
      "cell_type": "markdown",
      "source": [
        "The highest mileage:"
      ],
      "metadata": {
        "id": "KznEjW3zwHYv"
      }
    },
    {
      "cell_type": "code",
      "execution_count": null,
      "metadata": {
        "id": "Urt0kIUXfzRS"
      },
      "outputs": [],
      "source": [
        "print(df['Mileage_km'].max())\n",
        "print(df.Index[df['Mileage_km']==df['Mileage_km'].max()])"
      ]
    },
    {
      "cell_type": "code",
      "execution_count": null,
      "metadata": {
        "id": "Vqn2y1DedVN7"
      },
      "outputs": [],
      "source": [
        "fig = plt.figure(figsize =(7, 7))\n",
        " \n",
        "ax = fig.add_axes([0, 0, 1, 1])\n",
        " \n",
        "bp = ax.boxplot(sorted(df.Mileage_km))\n",
        " \n",
        "plt.show()"
      ]
    },
    {
      "cell_type": "code",
      "source": [
        "import statistics\n",
        "statistics.variance(df.Mileage_km)"
      ],
      "metadata": {
        "colab": {
          "base_uri": "https://localhost:8080/"
        },
        "id": "fnEtRHvsHB07",
        "outputId": "904b5d4c-f745-4bb4-f80e-139e0ec7b12e"
      },
      "execution_count": null,
      "outputs": [
        {
          "output_type": "execute_result",
          "data": {
            "text/plain": [
              "8587874802511.051"
            ]
          },
          "metadata": {},
          "execution_count": 26
        }
      ]
    },
    {
      "cell_type": "markdown",
      "source": [
        "incredibly high variance - sign of extreme outliers in the data"
      ],
      "metadata": {
        "id": "3a57C1BEHWRp"
      }
    },
    {
      "cell_type": "code",
      "source": [
        "detect_outlier(df.Price)"
      ],
      "metadata": {
        "id": "9FYLBnRhKxoa",
        "outputId": "e20dedc3-1372-416d-d51b-31fe8c16b557",
        "colab": {
          "base_uri": "https://localhost:8080/"
        }
      },
      "execution_count": null,
      "outputs": [
        {
          "output_type": "execute_result",
          "data": {
            "text/plain": [
              "[11111111.0,\n",
              " 10000000.0,\n",
              " 99999999.0,\n",
              " 1111111111.0,\n",
              " 500000000.0,\n",
              " 9999999.0,\n",
              " 206549168.0,\n",
              " 500000000.0,\n",
              " 385000,\n",
              " 369000,\n",
              " 399890,\n",
              " 399890,\n",
              " 399890,\n",
              " 445890,\n",
              " 389890,\n",
              " 406540,\n",
              " 410399,\n",
              " 429900,\n",
              " 523016,\n",
              " 495239,\n",
              " 466900,\n",
              " 403900,\n",
              " 429000,\n",
              " 391062,\n",
              " 405494,\n",
              " 342900,\n",
              " 389900,\n",
              " 369000,\n",
              " 342699,\n",
              " 335450,\n",
              " 330663,\n",
              " 799000,\n",
              " 1199900,\n",
              " 349900,\n",
              " 948900,\n",
              " 599000,\n",
              " 490700,\n",
              " 949698,\n",
              " 1267949,\n",
              " 329900,\n",
              " 339850,\n",
              " 372819,\n",
              " 400900,\n",
              " 400900,\n",
              " 400900,\n",
              " 359900,\n",
              " 458000,\n",
              " 349900,\n",
              " 339900,\n",
              " 341736,\n",
              " 477300,\n",
              " 374450,\n",
              " 444644,\n",
              " 339900,\n",
              " 354035,\n",
              " 374400,\n",
              " 364930,\n",
              " 368396,\n",
              " 430900,\n",
              " 339900,\n",
              " 349000,\n",
              " 367930,\n",
              " 331382,\n",
              " 437360,\n",
              " 441347,\n",
              " 441347,\n",
              " 326744,\n",
              " 441347,\n",
              " 327554,\n",
              " 324896,\n",
              " 324896,\n",
              " 367050,\n",
              " 396490,\n",
              " 345388,\n",
              " 324900,\n",
              " 341100,\n",
              " 340400,\n",
              " 325000,\n",
              " 327000,\n",
              " 337894,\n",
              " 329900,\n",
              " 327677,\n",
              " 337894,\n",
              " 348700,\n",
              " 358450,\n",
              " 459131,\n",
              " 326900,\n",
              " 345000,\n",
              " 325600,\n",
              " 450192,\n",
              " 332605,\n",
              " 329900,\n",
              " 450299,\n",
              " 368623,\n",
              " 329900,\n",
              " 325900,\n",
              " 379403,\n",
              " 323649,\n",
              " 379051,\n",
              " 375654,\n",
              " 375654,\n",
              " 328600,\n",
              " 332000,\n",
              " 369900,\n",
              " 379900,\n",
              " 496500,\n",
              " 429000,\n",
              " 334560,\n",
              " 369500,\n",
              " 369900,\n",
              " 729900,\n",
              " 359900,\n",
              " 496247,\n",
              " 329900,\n",
              " 329900,\n",
              " 335000,\n",
              " 445000,\n",
              " 533541,\n",
              " 369900,\n",
              " 399900,\n",
              " 359900,\n",
              " 429960,\n",
              " 329000,\n",
              " 330000,\n",
              " 369900,\n",
              " 329900,\n",
              " 336900,\n",
              " 345900,\n",
              " 335000,\n",
              " 458855,\n",
              " 339900,\n",
              " 365000,\n",
              " 334900,\n",
              " 379900,\n",
              " 369900,\n",
              " 334900,\n",
              " 749000,\n",
              " 520142,\n",
              " 345900,\n",
              " 324000,\n",
              " 353000,\n",
              " 365900,\n",
              " 329900,\n",
              " 339900,\n",
              " 354900,\n",
              " 339000,\n",
              " 514160,\n",
              " 443400,\n",
              " 349900,\n",
              " 349900,\n",
              " 334900,\n",
              " 329900,\n",
              " 354900,\n",
              " 339900,\n",
              " 344900,\n",
              " 355000,\n",
              " 339000,\n",
              " 344900,\n",
              " 359900,\n",
              " 350000,\n",
              " 349900,\n",
              " 369900,\n",
              " 359900,\n",
              " 335000,\n",
              " 369900,\n",
              " 334900,\n",
              " 339900,\n",
              " 749000,\n",
              " 334900,\n",
              " 329900,\n",
              " 339900,\n",
              " 332900,\n",
              " 485661,\n",
              " 433952,\n",
              " 427761,\n",
              " 443400,\n",
              " 441499,\n",
              " 449000,\n",
              " 348900,\n",
              " 463718,\n",
              " 329000,\n",
              " 349935,\n",
              " 539970,\n",
              " 429900,\n",
              " 449900,\n",
              " 325000,\n",
              " 450160,\n",
              " 366000,\n",
              " 349991,\n",
              " 598390,\n",
              " 391301,\n",
              " 385000,\n",
              " 499910,\n",
              " 462528,\n",
              " 459677,\n",
              " 359000,\n",
              " 725200,\n",
              " 389800,\n",
              " 330000,\n",
              " 363836,\n",
              " 347960,\n",
              " 359900,\n",
              " 438997,\n",
              " 384700,\n",
              " 377700,\n",
              " 324700,\n",
              " 376610,\n",
              " 381895,\n",
              " 585410,\n",
              " 329900,\n",
              " 358750,\n",
              " 346300,\n",
              " 580840,\n",
              " 381894,\n",
              " 473500,\n",
              " 409700,\n",
              " 429238,\n",
              " 433708,\n",
              " 379900,\n",
              " 369900,\n",
              " 357900,\n",
              " 399900,\n",
              " 364900,\n",
              " 390000,\n",
              " 694690,\n",
              " 586800,\n",
              " 338043,\n",
              " 353800,\n",
              " 327990,\n",
              " 331223,\n",
              " 325071,\n",
              " 324826,\n",
              " 324826,\n",
              " 467535,\n",
              " 369900,\n",
              " 374900,\n",
              " 334560,\n",
              " 337900,\n",
              " 369000,\n",
              " 397800,\n",
              " 449038,\n",
              " 352000,\n",
              " 451792,\n",
              " 356800,\n",
              " 334900,\n",
              " 338900,\n",
              " 349900,\n",
              " 389900,\n",
              " 329900,\n",
              " 348465,\n",
              " 338000,\n",
              " 375000,\n",
              " 465000,\n",
              " 455000,\n",
              " 416231,\n",
              " 338900,\n",
              " 374900,\n",
              " 329900,\n",
              " 422620,\n",
              " 404571,\n",
              " 450463,\n",
              " 445447,\n",
              " 449038,\n",
              " 367800,\n",
              " 332890,\n",
              " 449000,\n",
              " 349900,\n",
              " 441000,\n",
              " 337900,\n",
              " 335900,\n",
              " 378290,\n",
              " 326200,\n",
              " 339000,\n",
              " 349000,\n",
              " 369900,\n",
              " 375500,\n",
              " 440971,\n",
              " 451590,\n",
              " 374900,\n",
              " 349900,\n",
              " 339900,\n",
              " 349900,\n",
              " 358800,\n",
              " 349900,\n",
              " 431297,\n",
              " 480845,\n",
              " 471513,\n",
              " 349900,\n",
              " 329900,\n",
              " 450460,\n",
              " 445445,\n",
              " 452670,\n",
              " 369000,\n",
              " 349900,\n",
              " 471513,\n",
              " 344400,\n",
              " 439900,\n",
              " 399000,\n",
              " 372499,\n",
              " 375900,\n",
              " 462740,\n",
              " 460700,\n",
              " 464200,\n",
              " 351650,\n",
              " 376430,\n",
              " 447075,\n",
              " 476088,\n",
              " 339900,\n",
              " 339900,\n",
              " 399000,\n",
              " 399900,\n",
              " 412000,\n",
              " 399900,\n",
              " 334900,\n",
              " 436322,\n",
              " 390000,\n",
              " 346860,\n",
              " 325000,\n",
              " 377484,\n",
              " 769900,\n",
              " 384470,\n",
              " 359900,\n",
              " 414900,\n",
              " 412400,\n",
              " 439000,\n",
              " 412000,\n",
              " 407800,\n",
              " 386800,\n",
              " 439900,\n",
              " 359900,\n",
              " 339900,\n",
              " 369900,\n",
              " 327000,\n",
              " 422603,\n",
              " 449900,\n",
              " 383741,\n",
              " 421170,\n",
              " 449900,\n",
              " 382450,\n",
              " 411000,\n",
              " 403500,\n",
              " 399750,\n",
              " 473700,\n",
              " 496736,\n",
              " 369000,\n",
              " 383740,\n",
              " 473500,\n",
              " 437942,\n",
              " 324900,\n",
              " 399000,\n",
              " 399900,\n",
              " 429334,\n",
              " 420210,\n",
              " 433620,\n",
              " 399000,\n",
              " 383330,\n",
              " 415900,\n",
              " 488750,\n",
              " 462160,\n",
              " 399000,\n",
              " 435700,\n",
              " 389898,\n",
              " 369000,\n",
              " 466022,\n",
              " 399900,\n",
              " 482563,\n",
              " 383750,\n",
              " 485891,\n",
              " 429334,\n",
              " 400534,\n",
              " 457604,\n",
              " 441740,\n",
              " 488100,\n",
              " 464323,\n",
              " 441742,\n",
              " 492254,\n",
              " 495062,\n",
              " 379900,\n",
              " 398900,\n",
              " 342900,\n",
              " 470900,\n",
              " 398520,\n",
              " 422500,\n",
              " 383900,\n",
              " 385900,\n",
              " 418000,\n",
              " 349999,\n",
              " 456000,\n",
              " 399000,\n",
              " 389900,\n",
              " 329000,\n",
              " 729000,\n",
              " 790230,\n",
              " 738650,\n",
              " 859900,\n",
              " 550000,\n",
              " 329900,\n",
              " 495999,\n",
              " 616460,\n",
              " 609859,\n",
              " 745000,\n",
              " 895000,\n",
              " 629900,\n",
              " 758229,\n",
              " 569900,\n",
              " 876585,\n",
              " 479000,\n",
              " 450000,\n",
              " 334899,\n",
              " 332100,\n",
              " 339900,\n",
              " 364541,\n",
              " 352900,\n",
              " 399500,\n",
              " 358046,\n",
              " 335880,\n",
              " 363648,\n",
              " 367530,\n",
              " 358046,\n",
              " 325334,\n",
              " 349332,\n",
              " 325334,\n",
              " 334900,\n",
              " 359437,\n",
              " 346390,\n",
              " 352885,\n",
              " 348627,\n",
              " 343138,\n",
              " 369476,\n",
              " 325900,\n",
              " 367531,\n",
              " 408289,\n",
              " 376423,\n",
              " 369824,\n",
              " 339900,\n",
              " 427430,\n",
              " 356410,\n",
              " 346600,\n",
              " 335881,\n",
              " 379170,\n",
              " 338500,\n",
              " 338000,\n",
              " 351000,\n",
              " 334500,\n",
              " 354900,\n",
              " 369476,\n",
              " 347850,\n",
              " 370500,\n",
              " 351730,\n",
              " 351730,\n",
              " 369500,\n",
              " 370900,\n",
              " 357000,\n",
              " 343000,\n",
              " 362500,\n",
              " 349332,\n",
              " 349390,\n",
              " 328427,\n",
              " 325334,\n",
              " 340430,\n",
              " 371535,\n",
              " 335960,\n",
              " 353000,\n",
              " 373290,\n",
              " 336500,\n",
              " 362830,\n",
              " 345535,\n",
              " 341300,\n",
              " 354200,\n",
              " 395250,\n",
              " 791900,\n",
              " 849900,\n",
              " 564480,\n",
              " 617650,\n",
              " 677900,\n",
              " 790000,\n",
              " 817880,\n",
              " 757037,\n",
              " 813040,\n",
              " 669000,\n",
              " 650566,\n",
              " 693563,\n",
              " 787283,\n",
              " 695746,\n",
              " 710961,\n",
              " 739007,\n",
              " 550000,\n",
              " 846799,\n",
              " 661612,\n",
              " 763814,\n",
              " 779363,\n",
              " 776767,\n",
              " 851264,\n",
              " 840021,\n",
              " 615410,\n",
              " 757038,\n",
              " 742465,\n",
              " 639900,\n",
              " 707100,\n",
              " 629900,\n",
              " 339900,\n",
              " 487863,\n",
              " 345000,\n",
              " 339900,\n",
              " 473400,\n",
              " 437254,\n",
              " 442710,\n",
              " 489400,\n",
              " 499000,\n",
              " 439000,\n",
              " 416682,\n",
              " 419000,\n",
              " 479000,\n",
              " 455150,\n",
              " 543655,\n",
              " 484000,\n",
              " 427850,\n",
              " 505900,\n",
              " 468116,\n",
              " 357900,\n",
              " 485700,\n",
              " 505874,\n",
              " 501651,\n",
              " 429000,\n",
              " 456808,\n",
              " 473898,\n",
              " 456808,\n",
              " 473897,\n",
              " 399900,\n",
              " 464000,\n",
              " 339000,\n",
              " 514900,\n",
              " 514900,\n",
              " 523000,\n",
              " 398400,\n",
              " 586000,\n",
              " 375000,\n",
              " 395000,\n",
              " 628000,\n",
              " 653420,\n",
              " 679000,\n",
              " 680250,\n",
              " 590638,\n",
              " 355470,\n",
              " 594933,\n",
              " 679677,\n",
              " 731400,\n",
              " 794341,\n",
              " 751634,\n",
              " 696714,\n",
              " 587000,\n",
              " 635624,\n",
              " 366540,\n",
              " 373000,\n",
              " 679000,\n",
              " 669600,\n",
              " 729900,\n",
              " 738725,\n",
              " 606470,\n",
              " 379900,\n",
              " 699900,\n",
              " 705900,\n",
              " 735900,\n",
              " 699028,\n",
              " 726616,\n",
              " 375000,\n",
              " 379900,\n",
              " 748980,\n",
              " 680250,\n",
              " 628634,\n",
              " 590638,\n",
              " 717877,\n",
              " 590638,\n",
              " 369900,\n",
              " 571000,\n",
              " 595276,\n",
              " 595276,\n",
              " 714830,\n",
              " 699520,\n",
              " 684800,\n",
              " 742400,\n",
              " 375000,\n",
              " 505100,\n",
              " 399012,\n",
              " 631025,\n",
              " 828900,\n",
              " 635800,\n",
              " 734694,\n",
              " 704035,\n",
              " 677301,\n",
              " 340000,\n",
              " 349900,\n",
              " 844000,\n",
              " 722500,\n",
              " 623000,\n",
              " 335000,\n",
              " 733383,\n",
              " 739000,\n",
              " 718400,\n",
              " 612788,\n",
              " 685260,\n",
              " 612788,\n",
              " 678080,\n",
              " 793010,\n",
              " 614099,\n",
              " 639900,\n",
              " 329900,\n",
              " 364900,\n",
              " 369900,\n",
              " 395190,\n",
              " 372065,\n",
              " 339900,\n",
              " 329900,\n",
              " 339900,\n",
              " 442147,\n",
              " 398147,\n",
              " 359900,\n",
              " 369900,\n",
              " 329900,\n",
              " 369900,\n",
              " 374900,\n",
              " 369900,\n",
              " 339900,\n",
              " 446000,\n",
              " 339900,\n",
              " 474800,\n",
              " 389900,\n",
              " 389900,\n",
              " 369900,\n",
              " 399900,\n",
              " 373000,\n",
              " 454203,\n",
              " 419900,\n",
              " 407240,\n",
              " 385900,\n",
              " 799900,\n",
              " 519900,\n",
              " 620847,\n",
              " 677740,\n",
              " 583692,\n",
              " 519900,\n",
              " 539900,\n",
              " 615000,\n",
              " 633660,\n",
              " 609065,\n",
              " 620850,\n",
              " 633660,\n",
              " 633660,\n",
              " 697000,\n",
              " 443926,\n",
              " 639000,\n",
              " 641300,\n",
              " 711809,\n",
              " 519900,\n",
              " 349000,\n",
              " 339900,\n",
              " 356393,\n",
              " 382000,\n",
              " 449000,\n",
              " 333350,\n",
              " 331800,\n",
              " 363400,\n",
              " 379000,\n",
              " 402555,\n",
              " 428734,\n",
              " 398006,\n",
              " 350200,\n",
              " 349900,\n",
              " 407900,\n",
              " 403739,\n",
              " 391914,\n",
              " 372830,\n",
              " 412969,\n",
              " 412444,\n",
              " 426046,\n",
              " 441264,\n",
              " 395885,\n",
              " 395718,\n",
              " 327000,\n",
              " 359000,\n",
              " 441264,\n",
              " 375602,\n",
              " 418084,\n",
              " 354816,\n",
              " 401377,\n",
              " 339000,\n",
              " 369900,\n",
              " 329000,\n",
              " 522201,\n",
              " 469900,\n",
              " 355000,\n",
              " 499000,\n",
              " 589000,\n",
              " 589000,\n",
              " 589000,\n",
              " 499000,\n",
              " 499900,\n",
              " 335000,\n",
              " 379000,\n",
              " 329999,\n",
              " 329000,\n",
              " 493979,\n",
              " 533150,\n",
              " 405900,\n",
              " 349000,\n",
              " 369850,\n",
              " 397850,\n",
              " 333000,\n",
              " 499999,\n",
              " 549055,\n",
              " 524900,\n",
              " 344000,\n",
              " 501803,\n",
              " 410000,\n",
              " 469000,\n",
              " 359900,\n",
              " 345689,\n",
              " 349900,\n",
              " 549000,\n",
              " 350000,\n",
              " 650716,\n",
              " 407900,\n",
              " 329900,\n",
              " 328900,\n",
              " 379900,\n",
              " 329900,\n",
              " 355000,\n",
              " 378900,\n",
              " 389900,\n",
              " 349900,\n",
              " 692908,\n",
              " 699000,\n",
              " 599000,\n",
              " 435500,\n",
              " 464250,\n",
              " 492588,\n",
              " 397700,\n",
              " 666776,\n",
              " 492588,\n",
              " 497999,\n",
              " 641089,\n",
              " 569900,\n",
              " 381681,\n",
              " 641088,\n",
              " 616035,\n",
              " 444900,\n",
              " 899000,\n",
              " 1579000,\n",
              " 792800,\n",
              " 359000,\n",
              " 809900,\n",
              " 809000,\n",
              " 1799900,\n",
              " 1299900,\n",
              " 722010,\n",
              " 880000,\n",
              " 1078000,\n",
              " 492006,\n",
              " 629700,\n",
              " 329900,\n",
              " 1730000,\n",
              " 1650000,\n",
              " 1555600,\n",
              " 1442000,\n",
              " 519900,\n",
              " 1155000,\n",
              " 1610000,\n",
              " 1690000,\n",
              " 825000,\n",
              " 1400000,\n",
              " 690568,\n",
              " 520000,\n",
              " 1550000,\n",
              " 1050000,\n",
              " 899000,\n",
              " 404000,\n",
              " 399900,\n",
              " 1388000,\n",
              " 1399000,\n",
              " 555900,\n",
              " 369000,\n",
              " 1413000,\n",
              " 429900,\n",
              " 569000,\n",
              " 613770,\n",
              " 399000,\n",
              " 349900,\n",
              " 349900,\n",
              " 348900,\n",
              " 332900,\n",
              " 329800,\n",
              " 394900,\n",
              " 379400,\n",
              " 491016,\n",
              " 459000,\n",
              " 384900,\n",
              " 399000,\n",
              " 335000,\n",
              " 340000,\n",
              " 384900,\n",
              " 329000,\n",
              " 339000,\n",
              " 429000,\n",
              " 425400,\n",
              " 528130,\n",
              " 601750,\n",
              " 469900,\n",
              " 387400,\n",
              " 359000,\n",
              " 449900,\n",
              " 553700,\n",
              " 535990,\n",
              " 559000,\n",
              " 528130,\n",
              " 495700,\n",
              " 360000,\n",
              " 505900,\n",
              " 584320,\n",
              " 539500,\n",
              " 349900,\n",
              " 549900,\n",
              " 539000,\n",
              " 481900,\n",
              " 555100,\n",
              " 499000,\n",
              " 558680,\n",
              " 499000,\n",
              " 561900,\n",
              " 513187,\n",
              " 392550,\n",
              " 555000,\n",
              " 480000,\n",
              " 829000,\n",
              " 591030,\n",
              " 469900,\n",
              " 410000,\n",
              " 560700,\n",
              " 634900,\n",
              " 459000,\n",
              " 555000,\n",
              " 350000,\n",
              " 655900,\n",
              " 434900,\n",
              " 622900,\n",
              " 439000,\n",
              " 419000,\n",
              " 509900,\n",
              " 555555,\n",
              " 659000,\n",
              " 679000,\n",
              " 669000,\n",
              " 679000,\n",
              " 589000,\n",
              " 599000,\n",
              " 619000,\n",
              " 599000,\n",
              " 599000,\n",
              " 492000,\n",
              " 719900,\n",
              " 479900,\n",
              " 652900,\n",
              " 685900,\n",
              " 599900,\n",
              " 659900,\n",
              " 632947,\n",
              " 479900,\n",
              " 499000,\n",
              " 375000,\n",
              " 449900,\n",
              " 574900,\n",
              " 728000,\n",
              " 576900,\n",
              " 509220,\n",
              " 599900,\n",
              " 545000,\n",
              " 419000,\n",
              " 584250,\n",
              " 666900,\n",
              " 595000,\n",
              " 488310,\n",
              " 634911,\n",
              " 449000,\n",
              " 629000,\n",
              " 679571,\n",
              " 679571,\n",
              " 547000,\n",
              " 589000,\n",
              " 413000,\n",
              " 529900,\n",
              " 350000,\n",
              " 719900,\n",
              " 739800,\n",
              " 698996,\n",
              " 795900,\n",
              " 466170,\n",
              " 943270,\n",
              " 799000,\n",
              " 856558,\n",
              " 769258,\n",
              " 765800,\n",
              " 765800,\n",
              " 771137,\n",
              " 709999,\n",
              " 812813,\n",
              " 739900,\n",
              " 739900,\n",
              " 739900,\n",
              " 739900,\n",
              " 759000,\n",
              " 739000,\n",
              " 739000,\n",
              " 739900,\n",
              " 739000,\n",
              " 739000,\n",
              " 749000,\n",
              " 739000,\n",
              " 867900,\n",
              " 825000,\n",
              " 779000,\n",
              " 779000,\n",
              " 914900,\n",
              " 854900,\n",
              " 878366,\n",
              " 859319,\n",
              " 738900,\n",
              " 950880,\n",
              " 749900,\n",
              " 729000,\n",
              " 744900,\n",
              " 797376,\n",
              " 797558,\n",
              " 659999,\n",
              " 720708,\n",
              " 719727,\n",
              " 729000,\n",
              " 599000,\n",
              " 949467,\n",
              " 697900,\n",
              " 548999,\n",
              " 928900,\n",
              " 892900,\n",
              " 856000,\n",
              " 723800,\n",
              " 779192,\n",
              " 779192,\n",
              " 844900,\n",
              " 599900,\n",
              " 759900,\n",
              " 699000,\n",
              " 809900,\n",
              " 739000,\n",
              " 327700,\n",
              " 369900,\n",
              " 374900,\n",
              " 329200,\n",
              " 414900,\n",
              " 409900,\n",
              " 479900,\n",
              " 399900,\n",
              " 395730,\n",
              " 334500,\n",
              " 327700,\n",
              " 393821,\n",
              " 484000,\n",
              " 379999,\n",
              " 348450,\n",
              " 339720,\n",
              " 359900,\n",
              " 358900,\n",
              " 369400,\n",
              " 375900,\n",
              " 373000,\n",
              " 455000,\n",
              " 390000,\n",
              " 390017,\n",
              " 339000,\n",
              " 435900,\n",
              " 336900,\n",
              " 544200,\n",
              " 418900,\n",
              " 351000,\n",
              " 405100,\n",
              " 406300,\n",
              " 367790,\n",
              " 450900,\n",
              " 337900,\n",
              " 329900,\n",
              " 330000,\n",
              " 361500,\n",
              " 352000,\n",
              " 337154,\n",
              " 336000,\n",
              " 381900,\n",
              " 357000,\n",
              " 337154,\n",
              " 372200,\n",
              " 332431,\n",
              " 349900,\n",
              " 419900,\n",
              " 366900,\n",
              " ...]"
            ]
          },
          "metadata": {},
          "execution_count": 27
        }
      ]
    },
    {
      "cell_type": "code",
      "source": [
        "fig = plt.figure(figsize =(4, 7))\n",
        " \n",
        "ax = fig.add_axes([0, 0, 1, 1])\n",
        " \n",
        "bp = ax.boxplot(sorted(df.Price))\n",
        " \n",
        "plt.show()"
      ],
      "metadata": {
        "colab": {
          "base_uri": "https://localhost:8080/",
          "height": 563
        },
        "id": "BNxLTm7GLyXj",
        "outputId": "b5ec6ff5-4586-4c7e-cfe7-b62e13a99a3e"
      },
      "execution_count": null,
      "outputs": [
        {
          "output_type": "display_data",
          "data": {
            "text/plain": [
              "<Figure size 288x504 with 1 Axes>"
            ],
            "image/png": "[encoded data removed]"
          },
          "metadata": {
            "needs_background": "light"
          }
        }
      ]
    },
    {
      "cell_type": "code",
      "source": [
        "df.Price.max()"
      ],
      "metadata": {
        "colab": {
          "base_uri": "https://localhost:8080/"
        },
        "id": "tsLKeyNONW9s",
        "outputId": "f5f53207-7b9a-41fb-a3ca-a669eca69e0b"
      },
      "execution_count": null,
      "outputs": [
        {
          "output_type": "execute_result",
          "data": {
            "text/plain": [
              "6999000"
            ]
          },
          "metadata": {},
          "execution_count": 29
        }
      ]
    },
    {
      "cell_type": "code",
      "source": [
        "most_exp = df[df['Price']==df.Price.max()]\n",
        "most_exp.Vehicle_brand"
      ],
      "metadata": {
        "colab": {
          "base_uri": "https://localhost:8080/"
        },
        "id": "gQJyHnWQOF5A",
        "outputId": "ed63fd2b-2f0b-498a-937b-b87ceee75f75"
      },
      "execution_count": null,
      "outputs": [
        {
          "output_type": "execute_result",
          "data": {
            "text/plain": [
              "32304    BMW\n",
              "Name: Vehicle_brand, dtype: object"
            ]
          },
          "metadata": {},
          "execution_count": 30
        }
      ]
    },
    {
      "cell_type": "code",
      "source": [
        "statistics.variance(df.Price)"
      ],
      "metadata": {
        "colab": {
          "base_uri": "https://localhost:8080/"
        },
        "id": "0ZxCgDVoMPAl",
        "outputId": "4c4dfc54-7a2a-455e-f068-845752e88ae4"
      },
      "execution_count": null,
      "outputs": [
        {
          "output_type": "execute_result",
          "data": {
            "text/plain": [
              "7509898870.706261"
            ]
          },
          "metadata": {},
          "execution_count": 31
        }
      ]
    },
    {
      "cell_type": "markdown",
      "source": [
        "High variance could be attributed to the vast range of lower tier cars and luxury highend cars - but could also signal that many price listings might be exaggerated which significantly reduces their chances of being sold. i.e it will be wasting server space, especially if these cases are many"
      ],
      "metadata": {
        "id": "PpPm8pJpM-NC"
      }
    },
    {
      "cell_type": "code",
      "execution_count": null,
      "metadata": {
        "colab": {
          "base_uri": "https://localhost:8080/",
          "height": 553
        },
        "id": "L-UnSirihnyp",
        "outputId": "a9cb53e5-0239-4184-bec1-285454153e17"
      },
      "outputs": [
        {
          "output_type": "execute_result",
          "data": {
            "text/plain": [
              "<matplotlib.axes._subplots.AxesSubplot at 0x7faaea927730>"
            ]
          },
          "metadata": {},
          "execution_count": 32
        },
        {
          "output_type": "display_data",
          "data": {
            "text/plain": [
              "<Figure size 800x600 with 1 Axes>"
            ],
            "image/png": "[encoded data removed]"
          },
          "metadata": {
            "needs_background": "light"
          }
        }
      ],
      "source": [
        "plt.figure(figsize=(8,6), dpi=100)\n",
        "df.Origin_country.value_counts().plot(kind=\"barh\", title=\"Countries of Origin\", ylabel=\"Units\", xlabel=\"Country of Origin\")"
      ]
    },
    {
      "cell_type": "markdown",
      "source": [
        "A pie chart is a better more concise representation"
      ],
      "metadata": {
        "id": "koIQWFUwnPpz"
      }
    },
    {
      "cell_type": "code",
      "source": [
        "plt.figure(figsize=(10,6), dpi=100)\n",
        "df.Origin_country.value_counts()[:10].plot(kind=\"pie\", autopct = '%1.1f%%', radius = 1.50, ylabel = \"\" \"\")\n"
      ],
      "metadata": {
        "colab": {
          "base_uri": "https://localhost:8080/",
          "height": 633
        },
        "id": "eD4yIYyQd5V6",
        "outputId": "905eda11-83c8-49e5-f210-214909fcfba7"
      },
      "execution_count": null,
      "outputs": [
        {
          "output_type": "execute_result",
          "data": {
            "text/plain": [
              "<matplotlib.axes._subplots.AxesSubplot at 0x7faaea9afca0>"
            ]
          },
          "metadata": {},
          "execution_count": 33
        },
        {
          "output_type": "display_data",
          "data": {
            "text/plain": [
              "<Figure size 1000x600 with 1 Axes>"
            ],
            "image/png": "[encoded data removed]"
          },
          "metadata": {}
        }
      ]
    },
    {
      "cell_type": "code",
      "execution_count": null,
      "metadata": {
        "colab": {
          "base_uri": "https://localhost:8080/",
          "height": 663
        },
        "id": "9-Xu0zE-qmME",
        "outputId": "a474e793-7c53-4832-b9d5-6428d872158e"
      },
      "outputs": [
        {
          "output_type": "execute_result",
          "data": {
            "text/plain": [
              "<matplotlib.axes._subplots.AxesSubplot at 0x7faaeae038e0>"
            ]
          },
          "metadata": {},
          "execution_count": 34
        },
        {
          "output_type": "display_data",
          "data": {
            "text/plain": [
              "<Figure size 600x600 with 1 Axes>"
            ],
            "image/png": "[encoded data removed]"
          },
          "metadata": {
            "needs_background": "light"
          }
        }
      ],
      "source": [
        "plt.figure(figsize=(6,6), dpi=100)\n",
        "data = df['Vehicle_brand'].value_counts()[:20]\n",
        "data.plot(kind='bar', title= \"20 Most advertised brands\", ylabel = \"Car Adverts\", xlabel=\"Brand\")\n"
      ]
    },
    {
      "cell_type": "markdown",
      "metadata": {
        "id": "hxmgBKPqsGKO"
      },
      "source": [
        "There are 108 different brands advertised. German cars make up most of the cars advertized in the graph. \n"
      ]
    },
    {
      "cell_type": "code",
      "execution_count": null,
      "metadata": {
        "colab": {
          "base_uri": "https://localhost:8080/",
          "height": 472
        },
        "id": "gMeaP3TcuFJN",
        "outputId": "52cb96bc-e9b0-41f4-f99d-8f5282139ed9"
      },
      "outputs": [
        {
          "output_type": "execute_result",
          "data": {
            "text/plain": [
              "                       Index         Price  Production_year     Mileage_km  \\\n",
              "Vehicle_brand                                                                \n",
              "Daewoo          47560.083333  4.931652e+03      2000.871212  145902.106061   \n",
              "Tavria         173509.500000  6.449500e+03      1990.500000  209606.500000   \n",
              "Rover          152781.870370  7.431722e+03      1996.333333  194877.092593   \n",
              "Grecav         100857.500000  7.500000e+03      2004.000000   54650.000000   \n",
              "Vauxhall       183840.500000  8.900000e+03      1964.000000   27263.000000   \n",
              "...                      ...           ...              ...            ...   \n",
              "Ferrari         47975.000000  6.482693e+05      2009.634921   41015.126984   \n",
              "Maybach        104961.333333  6.810000e+05      2015.000000   67266.666667   \n",
              "Rolls-Royce    152397.357143  9.354980e+05      1994.142857  100872.107143   \n",
              "Lamborghini     88250.000000  9.524914e+05      2012.714286   18072.000000   \n",
              "McLaren         97725.111111  1.081697e+06      2017.222222   15032.333333   \n",
              "\n",
              "                 Power_HP  Displacement_cm3  CO2_emissions  Doors_number  \n",
              "Vehicle_brand                                                             \n",
              "Daewoo          83.924242       1345.227273     168.147059      4.750000  \n",
              "Tavria          50.500000       1095.500000            NaN      3.000000  \n",
              "Rover          111.942308       1756.314815     163.571429      4.296296  \n",
              "Grecav           6.000000        505.000000            NaN      2.000000  \n",
              "Vauxhall        58.000000       1594.000000            NaN      4.500000  \n",
              "...                   ...               ...            ...           ...  \n",
              "Ferrari        555.285714       4555.285714     343.727273      2.047619  \n",
              "Maybach        603.666667       5849.000000            NaN      4.666667  \n",
              "Rolls-Royce    404.851852       5982.178571     337.545455      3.392857  \n",
              "Lamborghini    596.350000       5014.047619     358.750000      2.666667  \n",
              "McLaren        623.823529       3724.000000     256.833333      2.666667  \n",
              "\n",
              "[108 rows x 8 columns]"
            ],
            "text/html": [
              "\n",
              "  <div id=\"df-8f9571f5-bbab-44bf-af69-66a05180c4e3\">\n",
              "    <div class=\"colab-df-container\">\n",
              "      <div>\n",
              "<style scoped>\n",
              "    .dataframe tbody tr th:only-of-type {\n",
              "        vertical-align: middle;\n",
              "    }\n",
              "\n",
              "    .dataframe tbody tr th {\n",
              "        vertical-align: top;\n",
              "    }\n",
              "\n",
              "    .dataframe thead th {\n",
              "        text-align: right;\n",
              "    }\n",
              "</style>\n",
              "<table border=\"1\" class=\"dataframe\">\n",
              "  <thead>\n",
              "    <tr style=\"text-align: right;\">\n",
              "      <th></th>\n",
              "      <th>Index</th>\n",
              "      <th>Price</th>\n",
              "      <th>Production_year</th>\n",
              "      <th>Mileage_km</th>\n",
              "      <th>Power_HP</th>\n",
              "      <th>Displacement_cm3</th>\n",
              "      <th>CO2_emissions</th>\n",
              "      <th>Doors_number</th>\n",
              "    </tr>\n",
              "    <tr>\n",
              "      <th>Vehicle_brand</th>\n",
              "      <th></th>\n",
              "      <th></th>\n",
              "      <th></th>\n",
              "      <th></th>\n",
              "      <th></th>\n",
              "      <th></th>\n",
              "      <th></th>\n",
              "      <th></th>\n",
              "    </tr>\n",
              "  </thead>\n",
              "  <tbody>\n",
              "    <tr>\n",
              "      <th>Daewoo</th>\n",
              "      <td>47560.083333</td>\n",
              "      <td>4.931652e+03</td>\n",
              "      <td>2000.871212</td>\n",
              "      <td>145902.106061</td>\n",
              "      <td>83.924242</td>\n",
              "      <td>1345.227273</td>\n",
              "      <td>168.147059</td>\n",
              "      <td>4.750000</td>\n",
              "    </tr>\n",
              "    <tr>\n",
              "      <th>Tavria</th>\n",
              "      <td>173509.500000</td>\n",
              "      <td>6.449500e+03</td>\n",
              "      <td>1990.500000</td>\n",
              "      <td>209606.500000</td>\n",
              "      <td>50.500000</td>\n",
              "      <td>1095.500000</td>\n",
              "      <td>NaN</td>\n",
              "      <td>3.000000</td>\n",
              "    </tr>\n",
              "    <tr>\n",
              "      <th>Rover</th>\n",
              "      <td>152781.870370</td>\n",
              "      <td>7.431722e+03</td>\n",
              "      <td>1996.333333</td>\n",
              "      <td>194877.092593</td>\n",
              "      <td>111.942308</td>\n",
              "      <td>1756.314815</td>\n",
              "      <td>163.571429</td>\n",
              "      <td>4.296296</td>\n",
              "    </tr>\n",
              "    <tr>\n",
              "      <th>Grecav</th>\n",
              "      <td>100857.500000</td>\n",
              "      <td>7.500000e+03</td>\n",
              "      <td>2004.000000</td>\n",
              "      <td>54650.000000</td>\n",
              "      <td>6.000000</td>\n",
              "      <td>505.000000</td>\n",
              "      <td>NaN</td>\n",
              "      <td>2.000000</td>\n",
              "    </tr>\n",
              "    <tr>\n",
              "      <th>Vauxhall</th>\n",
              "      <td>183840.500000</td>\n",
              "      <td>8.900000e+03</td>\n",
              "      <td>1964.000000</td>\n",
              "      <td>27263.000000</td>\n",
              "      <td>58.000000</td>\n",
              "      <td>1594.000000</td>\n",
              "      <td>NaN</td>\n",
              "      <td>4.500000</td>\n",
              "    </tr>\n",
              "    <tr>\n",
              "      <th>...</th>\n",
              "      <td>...</td>\n",
              "      <td>...</td>\n",
              "      <td>...</td>\n",
              "      <td>...</td>\n",
              "      <td>...</td>\n",
              "      <td>...</td>\n",
              "      <td>...</td>\n",
              "      <td>...</td>\n",
              "    </tr>\n",
              "    <tr>\n",
              "      <th>Ferrari</th>\n",
              "      <td>47975.000000</td>\n",
              "      <td>6.482693e+05</td>\n",
              "      <td>2009.634921</td>\n",
              "      <td>41015.126984</td>\n",
              "      <td>555.285714</td>\n",
              "      <td>4555.285714</td>\n",
              "      <td>343.727273</td>\n",
              "      <td>2.047619</td>\n",
              "    </tr>\n",
              "    <tr>\n",
              "      <th>Maybach</th>\n",
              "      <td>104961.333333</td>\n",
              "      <td>6.810000e+05</td>\n",
              "      <td>2015.000000</td>\n",
              "      <td>67266.666667</td>\n",
              "      <td>603.666667</td>\n",
              "      <td>5849.000000</td>\n",
              "      <td>NaN</td>\n",
              "      <td>4.666667</td>\n",
              "    </tr>\n",
              "    <tr>\n",
              "      <th>Rolls-Royce</th>\n",
              "      <td>152397.357143</td>\n",
              "      <td>9.354980e+05</td>\n",
              "      <td>1994.142857</td>\n",
              "      <td>100872.107143</td>\n",
              "      <td>404.851852</td>\n",
              "      <td>5982.178571</td>\n",
              "      <td>337.545455</td>\n",
              "      <td>3.392857</td>\n",
              "    </tr>\n",
              "    <tr>\n",
              "      <th>Lamborghini</th>\n",
              "      <td>88250.000000</td>\n",
              "      <td>9.524914e+05</td>\n",
              "      <td>2012.714286</td>\n",
              "      <td>18072.000000</td>\n",
              "      <td>596.350000</td>\n",
              "      <td>5014.047619</td>\n",
              "      <td>358.750000</td>\n",
              "      <td>2.666667</td>\n",
              "    </tr>\n",
              "    <tr>\n",
              "      <th>McLaren</th>\n",
              "      <td>97725.111111</td>\n",
              "      <td>1.081697e+06</td>\n",
              "      <td>2017.222222</td>\n",
              "      <td>15032.333333</td>\n",
              "      <td>623.823529</td>\n",
              "      <td>3724.000000</td>\n",
              "      <td>256.833333</td>\n",
              "      <td>2.666667</td>\n",
              "    </tr>\n",
              "  </tbody>\n",
              "</table>\n",
              "<p>108 rows × 8 columns</p>\n",
              "</div>\n",
              "      <button class=\"colab-df-convert\" onclick=\"convertToInteractive('df-8f9571f5-bbab-44bf-af69-66a05180c4e3')\"\n",
              "              title=\"Convert this dataframe to an interactive table.\"\n",
              "              style=\"display:none;\">\n",
              "        \n",
              "  <svg xmlns=\"http://www.w3.org/2000/svg\" height=\"24px\"viewBox=\"0 0 24 24\"\n",
              "       width=\"24px\">\n",
              "    <path d=\"M0 0h24v24H0V0z\" fill=\"none\"/>\n",
              "    <path d=\"M18.56 5.44l.94 2.06.94-2.06 2.06-.94-2.06-.94-.94-2.06-.94 2.06-2.06.94zm-11 1L8.5 8.5l.94-2.06 2.06-.94-2.06-.94L8.5 2.5l-.94 2.06-2.06.94zm10 10l.94 2.06.94-2.06 2.06-.94-2.06-.94-.94-2.06-.94 2.06-2.06.94z\"/><path d=\"M17.41 7.96l-1.37-1.37c-.4-.4-.92-.59-1.43-.59-.52 0-1.04.2-1.43.59L10.3 9.45l-7.72 7.72c-.78.78-.78 2.05 0 2.83L4 21.41c.39.39.9.59 1.41.59.51 0 1.02-.2 1.41-.59l7.78-7.78 2.81-2.81c.8-.78.8-2.07 0-2.86zM5.41 20L4 18.59l7.72-7.72 1.47 1.35L5.41 20z\"/>\n",
              "  </svg>\n",
              "      </button>\n",
              "      \n",
              "  <style>\n",
              "    .colab-df-container {\n",
              "      display:flex;\n",
              "      flex-wrap:wrap;\n",
              "      gap: 12px;\n",
              "    }\n",
              "\n",
              "    .colab-df-convert {\n",
              "      background-color: #E8F0FE;\n",
              "      border: none;\n",
              "      border-radius: 50%;\n",
              "      cursor: pointer;\n",
              "      display: none;\n",
              "      fill: #1967D2;\n",
              "      height: 32px;\n",
              "      padding: 0 0 0 0;\n",
              "      width: 32px;\n",
              "    }\n",
              "\n",
              "    .colab-df-convert:hover {\n",
              "      background-color: #E2EBFA;\n",
              "      box-shadow: 0px 1px 2px rgba(60, 64, 67, 0.3), 0px 1px 3px 1px rgba(60, 64, 67, 0.15);\n",
              "      fill: #174EA6;\n",
              "    }\n",
              "\n",
              "    [theme=dark] .colab-df-convert {\n",
              "      background-color: #3B4455;\n",
              "      fill: #D2E3FC;\n",
              "    }\n",
              "\n",
              "    [theme=dark] .colab-df-convert:hover {\n",
              "      background-color: #434B5C;\n",
              "      box-shadow: 0px 1px 3px 1px rgba(0, 0, 0, 0.15);\n",
              "      filter: drop-shadow(0px 1px 2px rgba(0, 0, 0, 0.3));\n",
              "      fill: #FFFFFF;\n",
              "    }\n",
              "  </style>\n",
              "\n",
              "      <script>\n",
              "        const buttonEl =\n",
              "          document.querySelector('#df-8f9571f5-bbab-44bf-af69-66a05180c4e3 button.colab-df-convert');\n",
              "        buttonEl.style.display =\n",
              "          google.colab.kernel.accessAllowed ? 'block' : 'none';\n",
              "\n",
              "        async function convertToInteractive(key) {\n",
              "          const element = document.querySelector('#df-8f9571f5-bbab-44bf-af69-66a05180c4e3');\n",
              "          const dataTable =\n",
              "            await google.colab.kernel.invokeFunction('convertToInteractive',\n",
              "                                                     [key], {});\n",
              "          if (!dataTable) return;\n",
              "\n",
              "          const docLinkHtml = 'Like what you see? Visit the ' +\n",
              "            '<a target=\"_blank\" href=https://colab.research.google.com/notebooks/data_table.ipynb>data table notebook</a>'\n",
              "            + ' to learn more about interactive tables.';\n",
              "          element.innerHTML = '';\n",
              "          dataTable['output_type'] = 'display_data';\n",
              "          await google.colab.output.renderOutput(dataTable, element);\n",
              "          const docLink = document.createElement('div');\n",
              "          docLink.innerHTML = docLinkHtml;\n",
              "          element.appendChild(docLink);\n",
              "        }\n",
              "      </script>\n",
              "    </div>\n",
              "  </div>\n",
              "  "
            ]
          },
          "metadata": {},
          "execution_count": 35
        },
        {
          "output_type": "display_data",
          "data": {
            "text/plain": [
              "<Figure size 2000x1200 with 0 Axes>"
            ]
          },
          "metadata": {}
        }
      ],
      "source": [
        "plt.figure(figsize=(10,6), dpi=200)\n",
        "df.groupby(['Vehicle_brand']).mean().sort_values('Price', ascending = True)"
      ]
    },
    {
      "cell_type": "code",
      "execution_count": null,
      "metadata": {
        "colab": {
          "base_uri": "https://localhost:8080/",
          "height": 365
        },
        "id": "xMtm3d4c0SIf",
        "outputId": "db95e435-ad17-4155-b52a-7940b1bcf204"
      },
      "outputs": [
        {
          "output_type": "display_data",
          "data": {
            "text/plain": [
              "<Figure size 432x288 with 1 Axes>"
            ],
            "image/png": "[encoded data removed]"
          },
          "metadata": {
            "needs_background": "light"
          }
        }
      ],
      "source": [
        "price = df.groupby(['Vehicle_brand']).mean().sort_values('Price', ascending = False)[:20]['Price'].plot(kind=\"bar\", title = \"Most expensive advertised brands\",xlabel = \"Brand\", ylabel= \"Mean Price\")"
      ]
    },
    {
      "cell_type": "code",
      "source": [
        "price = df.groupby(['Vehicle_brand']).mean().sort_values('Price', ascending = True)[:20]['Price'].plot(kind=\"bar\", title = \"Cheapest advertised brands\",xlabel = \"Brand\", ylabel= \"Mean Price\")"
      ],
      "metadata": {
        "colab": {
          "base_uri": "https://localhost:8080/",
          "height": 333
        },
        "id": "C_zllbf7JqTn",
        "outputId": "b44ef804-f2da-4a88-de9a-579fde513407"
      },
      "execution_count": null,
      "outputs": [
        {
          "output_type": "display_data",
          "data": {
            "text/plain": [
              "<Figure size 432x288 with 1 Axes>"
            ],
            "image/png": "[encoded data removed]"
          },
          "metadata": {
            "needs_background": "light"
          }
        }
      ]
    },
    {
      "cell_type": "code",
      "execution_count": null,
      "metadata": {
        "colab": {
          "base_uri": "https://localhost:8080/",
          "height": 295
        },
        "id": "HIaqQ-0I1uLw",
        "outputId": "31008814-f328-46aa-995d-d14e6b743ee7"
      },
      "outputs": [
        {
          "output_type": "display_data",
          "data": {
            "text/plain": [
              "<Figure size 432x288 with 1 Axes>"
            ],
            "image/png": "[encoded data removed]"
          },
          "metadata": {
            "needs_background": "light"
          }
        }
      ],
      "source": [
        "mileage = df.groupby(['Vehicle_brand']).mean().sort_values('Mileage_km', ascending = False)[:20]['Mileage_km'].plot(kind=\"line\",title=\"Advertised Mileage per brand\", xlabel=\"Brand\", ylabel=\"Mileage\")"
      ]
    },
    {
      "cell_type": "markdown",
      "source": [
        "The Zaporozen value seems to be an extreme outlier"
      ],
      "metadata": {
        "id": "6GpL5pnlENN6"
      }
    },
    {
      "cell_type": "code",
      "execution_count": null,
      "metadata": {
        "colab": {
          "base_uri": "https://localhost:8080/",
          "height": 349
        },
        "id": "yd6u_p8o1zxt",
        "outputId": "fc2aa33b-25bb-492f-f5f6-28425990f4b7"
      },
      "outputs": [
        {
          "output_type": "display_data",
          "data": {
            "text/plain": [
              "<Figure size 432x288 with 1 Axes>"
            ],
            "image/png": "[encoded data removed]"
          },
          "metadata": {
            "needs_background": "light"
          }
        }
      ],
      "source": [
        "power = df.groupby(['Vehicle_brand']).mean().sort_values('Power_HP', ascending = False)[:20]['Power_HP'].plot(kind=\"bar\", title=\"Top 20 advertised Horsepower per brand\",xlabel = \"Brand\", ylabel= \"Power (HP)\")"
      ]
    },
    {
      "cell_type": "markdown",
      "metadata": {
        "id": "rhwBbwRHKo8W"
      },
      "source": [
        "which day had the most offers posted? and how many offers were there"
      ]
    },
    {
      "cell_type": "code",
      "execution_count": null,
      "metadata": {
        "colab": {
          "base_uri": "https://localhost:8080/"
        },
        "id": "d8_3wMBzm7vg",
        "outputId": "c6b269c1-fc75-4571-f750-c68eee612604"
      },
      "outputs": [
        {
          "output_type": "execute_result",
          "data": {
            "text/plain": [
              "0    03/05/2021\n",
              "dtype: object"
            ]
          },
          "metadata": {},
          "execution_count": 40
        }
      ],
      "source": [
        "df.Offer_publication_date.mode()"
      ]
    },
    {
      "cell_type": "code",
      "execution_count": null,
      "metadata": {
        "colab": {
          "base_uri": "https://localhost:8080/"
        },
        "id": "nEyW7p1RJV_E",
        "outputId": "c554a09c-f5cf-4f4f-c5a6-74c144c44148"
      },
      "outputs": [
        {
          "output_type": "execute_result",
          "data": {
            "text/plain": [
              "26561"
            ]
          },
          "metadata": {},
          "execution_count": 41
        }
      ],
      "source": [
        "df.loc[df['Offer_publication_date']=='03/05/2021']['Index'].count()\n"
      ]
    },
    {
      "cell_type": "code",
      "source": [
        "df['Offer_publication_date'] = pd.to_datetime(df['Offer_publication_date'])\n",
        "df.groupby(df.Offer_publication_date.dt.month)['Index'].count() \n"
      ],
      "metadata": {
        "colab": {
          "base_uri": "https://localhost:8080/"
        },
        "id": "-UBRr0P9yLlu",
        "outputId": "ae92837f-ff67-446f-c693-4317c9673239"
      },
      "execution_count": null,
      "outputs": [
        {
          "output_type": "execute_result",
          "data": {
            "text/plain": [
              "Offer_publication_date\n",
              "1      24631\n",
              "2      26148\n",
              "3      26570\n",
              "4     130842\n",
              "5         41\n",
              "6         11\n",
              "7         13\n",
              "8          9\n",
              "9          8\n",
              "10        11\n",
              "11         8\n",
              "12        12\n",
              "Name: Index, dtype: int64"
            ]
          },
          "metadata": {},
          "execution_count": 42
        }
      ]
    },
    {
      "cell_type": "code",
      "source": [
        "data = df.groupby(df.Offer_publication_date.dt.month)['Index'].sum() \n",
        "plt.figure(figsize=(6,6), dpi=100)\n",
        "data.plot(kind=\"line\", xlabel=\"Month\")"
      ],
      "metadata": {
        "colab": {
          "base_uri": "https://localhost:8080/",
          "height": 565
        },
        "id": "KKt5A34QzkQ9",
        "outputId": "3a20ff78-1350-4319-8305-8268203667ff"
      },
      "execution_count": null,
      "outputs": [
        {
          "output_type": "execute_result",
          "data": {
            "text/plain": [
              "<matplotlib.axes._subplots.AxesSubplot at 0x7fab0d8cedc0>"
            ]
          },
          "metadata": {},
          "execution_count": 43
        },
        {
          "output_type": "display_data",
          "data": {
            "text/plain": [
              "<Figure size 600x600 with 1 Axes>"
            ],
            "image/png": "[encoded data removed]"
          },
          "metadata": {
            "needs_background": "light"
          }
        }
      ]
    },
    {
      "cell_type": "markdown",
      "source": [
        "The first four months, especially April, are the most active months. The rest of the year beginning with May experienced extreme inactivity"
      ],
      "metadata": {
        "id": "ronpnLWAGJaC"
      }
    },
    {
      "cell_type": "markdown",
      "metadata": {
        "id": "_kuxRnWEmiCK"
      },
      "source": [
        "Which location had the most offers and how many are they?"
      ]
    },
    {
      "cell_type": "code",
      "execution_count": null,
      "metadata": {
        "id": "FTDz828wm_wD",
        "colab": {
          "base_uri": "https://localhost:8080/"
        },
        "outputId": "95df3e51-ec30-444f-e93d-8da0556fcd0f"
      },
      "outputs": [
        {
          "output_type": "execute_result",
          "data": {
            "text/plain": [
              "0    Stalowa 16 - 41-506 Chorzów, Śląskie (Polska)\n",
              "dtype: object"
            ]
          },
          "metadata": {},
          "execution_count": 44
        }
      ],
      "source": [
        "df.Offer_location.mode()"
      ]
    },
    {
      "cell_type": "code",
      "execution_count": null,
      "metadata": {
        "id": "qGJoyIjjIf62",
        "colab": {
          "base_uri": "https://localhost:8080/"
        },
        "outputId": "8d557cc2-a85c-428c-c828-9e0ca4f4c65e"
      },
      "outputs": [
        {
          "output_type": "execute_result",
          "data": {
            "text/plain": [
              "1329"
            ]
          },
          "metadata": {},
          "execution_count": 45
        }
      ],
      "source": [
        "df.loc[df['Offer_location']=='Stalowa 16 - 41-506 Chorzów, Śląskie (Polska)']['Index'].count()"
      ]
    },
    {
      "cell_type": "code",
      "source": [
        "m = df.filter(items = ['Transmission', 'Production_year','Price'])\n",
        "trans = ['Manual']\n",
        "m[m['Transmission'].isin(trans)]"
      ],
      "metadata": {
        "id": "cLit0uivioRf",
        "outputId": "f797ce39-e1c2-4b06-ed29-31f2470f1eec",
        "colab": {
          "base_uri": "https://localhost:8080/",
          "height": 424
        }
      },
      "execution_count": null,
      "outputs": [
        {
          "output_type": "execute_result",
          "data": {
            "text/plain": [
              "       Transmission  Production_year  Price\n",
              "0            Manual             2021  86200\n",
              "1            Manual             1974  43500\n",
              "3            Manual             2012  39900\n",
              "4            Manual             2021  97900\n",
              "5            Manual             2016  62950\n",
              "...             ...              ...    ...\n",
              "208299       Manual             2014  39900\n",
              "208300       Manual             1970  10900\n",
              "208301       Manual             1977   6900\n",
              "208302       Manual             1986   5700\n",
              "208303       Manual             1985  11900\n",
              "\n",
              "[132889 rows x 3 columns]"
            ],
            "text/html": [
              "\n",
              "  <div id=\"df-53b867fe-50ab-4434-96be-6f38e09756ca\">\n",
              "    <div class=\"colab-df-container\">\n",
              "      <div>\n",
              "<style scoped>\n",
              "    .dataframe tbody tr th:only-of-type {\n",
              "        vertical-align: middle;\n",
              "    }\n",
              "\n",
              "    .dataframe tbody tr th {\n",
              "        vertical-align: top;\n",
              "    }\n",
              "\n",
              "    .dataframe thead th {\n",
              "        text-align: right;\n",
              "    }\n",
              "</style>\n",
              "<table border=\"1\" class=\"dataframe\">\n",
              "  <thead>\n",
              "    <tr style=\"text-align: right;\">\n",
              "      <th></th>\n",
              "      <th>Transmission</th>\n",
              "      <th>Production_year</th>\n",
              "      <th>Price</th>\n",
              "    </tr>\n",
              "  </thead>\n",
              "  <tbody>\n",
              "    <tr>\n",
              "      <th>0</th>\n",
              "      <td>Manual</td>\n",
              "      <td>2021</td>\n",
              "      <td>86200</td>\n",
              "    </tr>\n",
              "    <tr>\n",
              "      <th>1</th>\n",
              "      <td>Manual</td>\n",
              "      <td>1974</td>\n",
              "      <td>43500</td>\n",
              "    </tr>\n",
              "    <tr>\n",
              "      <th>3</th>\n",
              "      <td>Manual</td>\n",
              "      <td>2012</td>\n",
              "      <td>39900</td>\n",
              "    </tr>\n",
              "    <tr>\n",
              "      <th>4</th>\n",
              "      <td>Manual</td>\n",
              "      <td>2021</td>\n",
              "      <td>97900</td>\n",
              "    </tr>\n",
              "    <tr>\n",
              "      <th>5</th>\n",
              "      <td>Manual</td>\n",
              "      <td>2016</td>\n",
              "      <td>62950</td>\n",
              "    </tr>\n",
              "    <tr>\n",
              "      <th>...</th>\n",
              "      <td>...</td>\n",
              "      <td>...</td>\n",
              "      <td>...</td>\n",
              "    </tr>\n",
              "    <tr>\n",
              "      <th>208299</th>\n",
              "      <td>Manual</td>\n",
              "      <td>2014</td>\n",
              "      <td>39900</td>\n",
              "    </tr>\n",
              "    <tr>\n",
              "      <th>208300</th>\n",
              "      <td>Manual</td>\n",
              "      <td>1970</td>\n",
              "      <td>10900</td>\n",
              "    </tr>\n",
              "    <tr>\n",
              "      <th>208301</th>\n",
              "      <td>Manual</td>\n",
              "      <td>1977</td>\n",
              "      <td>6900</td>\n",
              "    </tr>\n",
              "    <tr>\n",
              "      <th>208302</th>\n",
              "      <td>Manual</td>\n",
              "      <td>1986</td>\n",
              "      <td>5700</td>\n",
              "    </tr>\n",
              "    <tr>\n",
              "      <th>208303</th>\n",
              "      <td>Manual</td>\n",
              "      <td>1985</td>\n",
              "      <td>11900</td>\n",
              "    </tr>\n",
              "  </tbody>\n",
              "</table>\n",
              "<p>132889 rows × 3 columns</p>\n",
              "</div>\n",
              "      <button class=\"colab-df-convert\" onclick=\"convertToInteractive('df-53b867fe-50ab-4434-96be-6f38e09756ca')\"\n",
              "              title=\"Convert this dataframe to an interactive table.\"\n",
              "              style=\"display:none;\">\n",
              "        \n",
              "  <svg xmlns=\"http://www.w3.org/2000/svg\" height=\"24px\"viewBox=\"0 0 24 24\"\n",
              "       width=\"24px\">\n",
              "    <path d=\"M0 0h24v24H0V0z\" fill=\"none\"/>\n",
              "    <path d=\"M18.56 5.44l.94 2.06.94-2.06 2.06-.94-2.06-.94-.94-2.06-.94 2.06-2.06.94zm-11 1L8.5 8.5l.94-2.06 2.06-.94-2.06-.94L8.5 2.5l-.94 2.06-2.06.94zm10 10l.94 2.06.94-2.06 2.06-.94-2.06-.94-.94-2.06-.94 2.06-2.06.94z\"/><path d=\"M17.41 7.96l-1.37-1.37c-.4-.4-.92-.59-1.43-.59-.52 0-1.04.2-1.43.59L10.3 9.45l-7.72 7.72c-.78.78-.78 2.05 0 2.83L4 21.41c.39.39.9.59 1.41.59.51 0 1.02-.2 1.41-.59l7.78-7.78 2.81-2.81c.8-.78.8-2.07 0-2.86zM5.41 20L4 18.59l7.72-7.72 1.47 1.35L5.41 20z\"/>\n",
              "  </svg>\n",
              "      </button>\n",
              "      \n",
              "  <style>\n",
              "    .colab-df-container {\n",
              "      display:flex;\n",
              "      flex-wrap:wrap;\n",
              "      gap: 12px;\n",
              "    }\n",
              "\n",
              "    .colab-df-convert {\n",
              "      background-color: #E8F0FE;\n",
              "      border: none;\n",
              "      border-radius: 50%;\n",
              "      cursor: pointer;\n",
              "      display: none;\n",
              "      fill: #1967D2;\n",
              "      height: 32px;\n",
              "      padding: 0 0 0 0;\n",
              "      width: 32px;\n",
              "    }\n",
              "\n",
              "    .colab-df-convert:hover {\n",
              "      background-color: #E2EBFA;\n",
              "      box-shadow: 0px 1px 2px rgba(60, 64, 67, 0.3), 0px 1px 3px 1px rgba(60, 64, 67, 0.15);\n",
              "      fill: #174EA6;\n",
              "    }\n",
              "\n",
              "    [theme=dark] .colab-df-convert {\n",
              "      background-color: #3B4455;\n",
              "      fill: #D2E3FC;\n",
              "    }\n",
              "\n",
              "    [theme=dark] .colab-df-convert:hover {\n",
              "      background-color: #434B5C;\n",
              "      box-shadow: 0px 1px 3px 1px rgba(0, 0, 0, 0.15);\n",
              "      filter: drop-shadow(0px 1px 2px rgba(0, 0, 0, 0.3));\n",
              "      fill: #FFFFFF;\n",
              "    }\n",
              "  </style>\n",
              "\n",
              "      <script>\n",
              "        const buttonEl =\n",
              "          document.querySelector('#df-53b867fe-50ab-4434-96be-6f38e09756ca button.colab-df-convert');\n",
              "        buttonEl.style.display =\n",
              "          google.colab.kernel.accessAllowed ? 'block' : 'none';\n",
              "\n",
              "        async function convertToInteractive(key) {\n",
              "          const element = document.querySelector('#df-53b867fe-50ab-4434-96be-6f38e09756ca');\n",
              "          const dataTable =\n",
              "            await google.colab.kernel.invokeFunction('convertToInteractive',\n",
              "                                                     [key], {});\n",
              "          if (!dataTable) return;\n",
              "\n",
              "          const docLinkHtml = 'Like what you see? Visit the ' +\n",
              "            '<a target=\"_blank\" href=https://colab.research.google.com/notebooks/data_table.ipynb>data table notebook</a>'\n",
              "            + ' to learn more about interactive tables.';\n",
              "          element.innerHTML = '';\n",
              "          dataTable['output_type'] = 'display_data';\n",
              "          await google.colab.output.renderOutput(dataTable, element);\n",
              "          const docLink = document.createElement('div');\n",
              "          docLink.innerHTML = docLinkHtml;\n",
              "          element.appendChild(docLink);\n",
              "        }\n",
              "      </script>\n",
              "    </div>\n",
              "  </div>\n",
              "  "
            ]
          },
          "metadata": {},
          "execution_count": 70
        }
      ]
    },
    {
      "cell_type": "code",
      "source": [
        "plt.figure(figsize=(15,10))\n",
        "\n",
        "sns.lineplot(data = m, x = df.Production_year, y = df.Price)"
      ],
      "metadata": {
        "id": "mF76kW_6bSKY",
        "outputId": "083ae105-f1ed-4f6a-8493-787168dcca9f",
        "colab": {
          "base_uri": "https://localhost:8080/",
          "height": 623
        }
      },
      "execution_count": null,
      "outputs": [
        {
          "output_type": "execute_result",
          "data": {
            "text/plain": [
              "<matplotlib.axes._subplots.AxesSubplot at 0x7faae3833880>"
            ]
          },
          "metadata": {},
          "execution_count": 71
        },
        {
          "output_type": "display_data",
          "data": {
            "text/plain": [
              "<Figure size 1080x720 with 1 Axes>"
            ],
            "image/png": "[encoded data removed]"
          },
          "metadata": {
            "needs_background": "light"
          }
        }
      ]
    },
    {
      "cell_type": "markdown",
      "source": [
        "We can see that the prices of manual cars from the year 2000 to 2010 is lower than the prices from 2010 to 2020 which closely resemble the prices of the 1960s the more we move towards 2020, therefore our hypothesis has been rejected"
      ],
      "metadata": {
        "id": "N23WXgyMlERD"
      }
    }
  ],
  "metadata": {
    "colab": {
      "provenance": [],
      "include_colab_link": true
    },
    "kernelspec": {
      "display_name": "Python 3",
      "name": "python3"
    },
    "language_info": {
      "name": "python"
    }
  },
  "nbformat": 4,
  "nbformat_minor": 0
}