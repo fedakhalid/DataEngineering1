{
  "cells": [
    {
      "cell_type": "code",
      "execution_count": null,
      "metadata": {
        "id": "okZ4lptyMDDV"
      },
      "outputs": [],
      "source": [
        "import numpy as np\n",
        "import pandas as pd\n",
        "import csv\n",
        "import seaborn as sns\n",
        "import matplotlib.pyplot as plt\n",
        "import statistics\n",
        "\n"
      ]
    },
    {
      "cell_type": "code",
      "execution_count": null,
      "metadata": {
        "colab": {
          "base_uri": "https://localhost:8080/"
        },
        "id": "O6GtHLTaOdiP",
        "outputId": "2ad2bf4c-d28b-4a81-8d40-3f124be5560c"
      },
      "outputs": [
        {
          "output_type": "stream",
          "name": "stderr",
          "text": [
            "/usr/local/lib/python3.8/dist-packages/IPython/core/interactiveshell.py:3326: FutureWarning: The error_bad_lines argument has been deprecated and will be removed in a future version.\n",
            "\n",
            "\n",
            "  exec(code_obj, self.user_global_ns, self.user_ns)\n"
          ]
        }
      ],
      "source": [
        "df = pd.read_csv('/content/Car_sale_ads.csv',engine=\"python\",error_bad_lines=False)"
      ]
    },
    {
      "cell_type": "code",
      "execution_count": null,
      "metadata": {
        "colab": {
          "base_uri": "https://localhost:8080/",
          "height": 1000
        },
        "id": "MxH3kOSBqAlQ",
        "outputId": "568ae5b2-6a07-48b5-f0b9-2e951fea3dfa"
      },
      "outputs": [
        {
          "output_type": "execute_result",
          "data": {
            "text/plain": [
              "   Index   Price Currency Condition Vehicle_brand Vehicle_model  \\\n",
              "0      0   86200      PLN       New        Abarth           595   \n",
              "1      1   43500      PLN      Used        Abarth         Other   \n",
              "2      2   44900      PLN      Used        Abarth           500   \n",
              "3      3   39900      PLN      Used        Abarth           500   \n",
              "4      4   97900      PLN       New        Abarth           595   \n",
              "5      5   62950      PLN      Used        Abarth           595   \n",
              "6      6   69900      PLN      Used        Abarth           595   \n",
              "7      7   69900      PLN      Used        Abarth           500   \n",
              "8      8  120750      PLN       New        Abarth           595   \n",
              "9      9   93100      PLN       New        Abarth           595   \n",
              "\n",
              "  Vehicle_version Vehicle_generation  Production_year  Mileage_km  ...  \\\n",
              "0             NaN                NaN             2021         1.0  ...   \n",
              "1             NaN                NaN             1974     59000.0  ...   \n",
              "2             NaN                NaN             2018     52000.0  ...   \n",
              "3             NaN                NaN             2012     29000.0  ...   \n",
              "4             NaN                NaN             2021       600.0  ...   \n",
              "5             NaN                NaN             2016     46060.0  ...   \n",
              "6             NaN                NaN             2021      2900.0  ...   \n",
              "7             NaN                NaN             2019     20000.0  ...   \n",
              "8             NaN                NaN             2021         1.0  ...   \n",
              "9             NaN                NaN             2021         1.0  ...   \n",
              "\n",
              "   Transmission        Type Doors_number  Colour Origin_country First_owner  \\\n",
              "0        Manual  small_cars          3.0    gray            NaN         NaN   \n",
              "1        Manual       coupe          2.0  silver            NaN         NaN   \n",
              "2     Automatic  small_cars          3.0  silver            NaN         NaN   \n",
              "3        Manual  small_cars          3.0    gray            NaN         NaN   \n",
              "4        Manual  small_cars          3.0    blue            NaN         NaN   \n",
              "5        Manual  small_cars          3.0    gray        Germany         Yes   \n",
              "6        Manual  small_cars          2.0   black        Germany         NaN   \n",
              "7        Manual  small_cars          3.0   white         Poland         Yes   \n",
              "8        Manual  small_cars          3.0    blue            NaN         NaN   \n",
              "9        Manual  small_cars          3.0    gray            NaN         NaN   \n",
              "\n",
              "  First_registration_date  Offer_publication_date  \\\n",
              "0                     NaN              04/05/2021   \n",
              "1                     NaN              03/05/2021   \n",
              "2                     NaN              03/05/2021   \n",
              "3                     NaN              30/04/2021   \n",
              "4                     NaN              30/04/2021   \n",
              "5              15/03/2016              30/04/2021   \n",
              "6              25/02/2021              29/04/2021   \n",
              "7                     NaN              29/04/2021   \n",
              "8                     NaN              03/05/2021   \n",
              "9                     NaN              03/05/2021   \n",
              "\n",
              "                                      Offer_location  \\\n",
              "0  ul. Jubilerska 6 - 04-190 Warszawa, Mazowiecki...   \n",
              "1  kanonierska12 - 04-425 Warszawa, Rembertów (Po...   \n",
              "2                   Warszawa, Mazowieckie, Białołęka   \n",
              "3                                  Jaworzno, Śląskie   \n",
              "4  ul. Gorzysława 9 - 61-057 Poznań, Nowe Miasto ...   \n",
              "5  Modlińska 157 - 03-186 Warszawa, Białołęka (Po...   \n",
              "6                             Żary, żarski, Lubuskie   \n",
              "7     Ojcowska 2 - 02-918 Warszawa, Mokotów (Polska)   \n",
              "8  ul. Gorzysława 9 - 61-057 Poznań, Nowe Miasto ...   \n",
              "9  ul. Gorzysława 9 - 61-057 Poznań, Nowe Miasto ...   \n",
              "\n",
              "                                            Features  \n",
              "0                                                 []  \n",
              "1                                                 []  \n",
              "2  ['ABS', 'Electric front windows', 'Drivers air...  \n",
              "3  ['ABS', 'Electric front windows', 'Drivers air...  \n",
              "4  ['ABS', 'Electrically adjustable mirrors', 'Pa...  \n",
              "5  ['ABS', 'Electric front windows', 'Drivers air...  \n",
              "6                                                 []  \n",
              "7  ['ABS', 'Electrically adjustable mirrors', 'Pa...  \n",
              "8  ['ABS', 'Electrically adjustable mirrors', 'Pa...  \n",
              "9  ['ABS', 'Electrically adjustable mirrors', 'Pa...  \n",
              "\n",
              "[10 rows x 25 columns]"
            ],
            "text/html": [
              "\n",
              "  <div id=\"df-dcfc0603-dda5-4110-addc-7fb6483bab16\">\n",
              "    <div class=\"colab-df-container\">\n",
              "      <div>\n",
              "<style scoped>\n",
              "    .dataframe tbody tr th:only-of-type {\n",
              "        vertical-align: middle;\n",
              "    }\n",
              "\n",
              "    .dataframe tbody tr th {\n",
              "        vertical-align: top;\n",
              "    }\n",
              "\n",
              "    .dataframe thead th {\n",
              "        text-align: right;\n",
              "    }\n",
              "</style>\n",
              "<table border=\"1\" class=\"dataframe\">\n",
              "  <thead>\n",
              "    <tr style=\"text-align: right;\">\n",
              "      <th></th>\n",
              "      <th>Index</th>\n",
              "      <th>Price</th>\n",
              "      <th>Currency</th>\n",
              "      <th>Condition</th>\n",
              "      <th>Vehicle_brand</th>\n",
              "      <th>Vehicle_model</th>\n",
              "      <th>Vehicle_version</th>\n",
              "      <th>Vehicle_generation</th>\n",
              "      <th>Production_year</th>\n",
              "      <th>Mileage_km</th>\n",
              "      <th>...</th>\n",
              "      <th>Transmission</th>\n",
              "      <th>Type</th>\n",
              "      <th>Doors_number</th>\n",
              "      <th>Colour</th>\n",
              "      <th>Origin_country</th>\n",
              "      <th>First_owner</th>\n",
              "      <th>First_registration_date</th>\n",
              "      <th>Offer_publication_date</th>\n",
              "      <th>Offer_location</th>\n",
              "      <th>Features</th>\n",
              "    </tr>\n",
              "  </thead>\n",
              "  <tbody>\n",
              "    <tr>\n",
              "      <th>0</th>\n",
              "      <td>0</td>\n",
              "      <td>86200</td>\n",
              "      <td>PLN</td>\n",
              "      <td>New</td>\n",
              "      <td>Abarth</td>\n",
              "      <td>595</td>\n",
              "      <td>NaN</td>\n",
              "      <td>NaN</td>\n",
              "      <td>2021</td>\n",
              "      <td>1.0</td>\n",
              "      <td>...</td>\n",
              "      <td>Manual</td>\n",
              "      <td>small_cars</td>\n",
              "      <td>3.0</td>\n",
              "      <td>gray</td>\n",
              "      <td>NaN</td>\n",
              "      <td>NaN</td>\n",
              "      <td>NaN</td>\n",
              "      <td>04/05/2021</td>\n",
              "      <td>ul. Jubilerska 6 - 04-190 Warszawa, Mazowiecki...</td>\n",
              "      <td>[]</td>\n",
              "    </tr>\n",
              "    <tr>\n",
              "      <th>1</th>\n",
              "      <td>1</td>\n",
              "      <td>43500</td>\n",
              "      <td>PLN</td>\n",
              "      <td>Used</td>\n",
              "      <td>Abarth</td>\n",
              "      <td>Other</td>\n",
              "      <td>NaN</td>\n",
              "      <td>NaN</td>\n",
              "      <td>1974</td>\n",
              "      <td>59000.0</td>\n",
              "      <td>...</td>\n",
              "      <td>Manual</td>\n",
              "      <td>coupe</td>\n",
              "      <td>2.0</td>\n",
              "      <td>silver</td>\n",
              "      <td>NaN</td>\n",
              "      <td>NaN</td>\n",
              "      <td>NaN</td>\n",
              "      <td>03/05/2021</td>\n",
              "      <td>kanonierska12 - 04-425 Warszawa, Rembertów (Po...</td>\n",
              "      <td>[]</td>\n",
              "    </tr>\n",
              "    <tr>\n",
              "      <th>2</th>\n",
              "      <td>2</td>\n",
              "      <td>44900</td>\n",
              "      <td>PLN</td>\n",
              "      <td>Used</td>\n",
              "      <td>Abarth</td>\n",
              "      <td>500</td>\n",
              "      <td>NaN</td>\n",
              "      <td>NaN</td>\n",
              "      <td>2018</td>\n",
              "      <td>52000.0</td>\n",
              "      <td>...</td>\n",
              "      <td>Automatic</td>\n",
              "      <td>small_cars</td>\n",
              "      <td>3.0</td>\n",
              "      <td>silver</td>\n",
              "      <td>NaN</td>\n",
              "      <td>NaN</td>\n",
              "      <td>NaN</td>\n",
              "      <td>03/05/2021</td>\n",
              "      <td>Warszawa, Mazowieckie, Białołęka</td>\n",
              "      <td>['ABS', 'Electric front windows', 'Drivers air...</td>\n",
              "    </tr>\n",
              "    <tr>\n",
              "      <th>3</th>\n",
              "      <td>3</td>\n",
              "      <td>39900</td>\n",
              "      <td>PLN</td>\n",
              "      <td>Used</td>\n",
              "      <td>Abarth</td>\n",
              "      <td>500</td>\n",
              "      <td>NaN</td>\n",
              "      <td>NaN</td>\n",
              "      <td>2012</td>\n",
              "      <td>29000.0</td>\n",
              "      <td>...</td>\n",
              "      <td>Manual</td>\n",
              "      <td>small_cars</td>\n",
              "      <td>3.0</td>\n",
              "      <td>gray</td>\n",
              "      <td>NaN</td>\n",
              "      <td>NaN</td>\n",
              "      <td>NaN</td>\n",
              "      <td>30/04/2021</td>\n",
              "      <td>Jaworzno, Śląskie</td>\n",
              "      <td>['ABS', 'Electric front windows', 'Drivers air...</td>\n",
              "    </tr>\n",
              "    <tr>\n",
              "      <th>4</th>\n",
              "      <td>4</td>\n",
              "      <td>97900</td>\n",
              "      <td>PLN</td>\n",
              "      <td>New</td>\n",
              "      <td>Abarth</td>\n",
              "      <td>595</td>\n",
              "      <td>NaN</td>\n",
              "      <td>NaN</td>\n",
              "      <td>2021</td>\n",
              "      <td>600.0</td>\n",
              "      <td>...</td>\n",
              "      <td>Manual</td>\n",
              "      <td>small_cars</td>\n",
              "      <td>3.0</td>\n",
              "      <td>blue</td>\n",
              "      <td>NaN</td>\n",
              "      <td>NaN</td>\n",
              "      <td>NaN</td>\n",
              "      <td>30/04/2021</td>\n",
              "      <td>ul. Gorzysława 9 - 61-057 Poznań, Nowe Miasto ...</td>\n",
              "      <td>['ABS', 'Electrically adjustable mirrors', 'Pa...</td>\n",
              "    </tr>\n",
              "    <tr>\n",
              "      <th>5</th>\n",
              "      <td>5</td>\n",
              "      <td>62950</td>\n",
              "      <td>PLN</td>\n",
              "      <td>Used</td>\n",
              "      <td>Abarth</td>\n",
              "      <td>595</td>\n",
              "      <td>NaN</td>\n",
              "      <td>NaN</td>\n",
              "      <td>2016</td>\n",
              "      <td>46060.0</td>\n",
              "      <td>...</td>\n",
              "      <td>Manual</td>\n",
              "      <td>small_cars</td>\n",
              "      <td>3.0</td>\n",
              "      <td>gray</td>\n",
              "      <td>Germany</td>\n",
              "      <td>Yes</td>\n",
              "      <td>15/03/2016</td>\n",
              "      <td>30/04/2021</td>\n",
              "      <td>Modlińska 157 - 03-186 Warszawa, Białołęka (Po...</td>\n",
              "      <td>['ABS', 'Electric front windows', 'Drivers air...</td>\n",
              "    </tr>\n",
              "    <tr>\n",
              "      <th>6</th>\n",
              "      <td>6</td>\n",
              "      <td>69900</td>\n",
              "      <td>PLN</td>\n",
              "      <td>Used</td>\n",
              "      <td>Abarth</td>\n",
              "      <td>595</td>\n",
              "      <td>NaN</td>\n",
              "      <td>NaN</td>\n",
              "      <td>2021</td>\n",
              "      <td>2900.0</td>\n",
              "      <td>...</td>\n",
              "      <td>Manual</td>\n",
              "      <td>small_cars</td>\n",
              "      <td>2.0</td>\n",
              "      <td>black</td>\n",
              "      <td>Germany</td>\n",
              "      <td>NaN</td>\n",
              "      <td>25/02/2021</td>\n",
              "      <td>29/04/2021</td>\n",
              "      <td>Żary, żarski, Lubuskie</td>\n",
              "      <td>[]</td>\n",
              "    </tr>\n",
              "    <tr>\n",
              "      <th>7</th>\n",
              "      <td>7</td>\n",
              "      <td>69900</td>\n",
              "      <td>PLN</td>\n",
              "      <td>Used</td>\n",
              "      <td>Abarth</td>\n",
              "      <td>500</td>\n",
              "      <td>NaN</td>\n",
              "      <td>NaN</td>\n",
              "      <td>2019</td>\n",
              "      <td>20000.0</td>\n",
              "      <td>...</td>\n",
              "      <td>Manual</td>\n",
              "      <td>small_cars</td>\n",
              "      <td>3.0</td>\n",
              "      <td>white</td>\n",
              "      <td>Poland</td>\n",
              "      <td>Yes</td>\n",
              "      <td>NaN</td>\n",
              "      <td>29/04/2021</td>\n",
              "      <td>Ojcowska 2 - 02-918 Warszawa, Mokotów (Polska)</td>\n",
              "      <td>['ABS', 'Electrically adjustable mirrors', 'Pa...</td>\n",
              "    </tr>\n",
              "    <tr>\n",
              "      <th>8</th>\n",
              "      <td>8</td>\n",
              "      <td>120750</td>\n",
              "      <td>PLN</td>\n",
              "      <td>New</td>\n",
              "      <td>Abarth</td>\n",
              "      <td>595</td>\n",
              "      <td>NaN</td>\n",
              "      <td>NaN</td>\n",
              "      <td>2021</td>\n",
              "      <td>1.0</td>\n",
              "      <td>...</td>\n",
              "      <td>Manual</td>\n",
              "      <td>small_cars</td>\n",
              "      <td>3.0</td>\n",
              "      <td>blue</td>\n",
              "      <td>NaN</td>\n",
              "      <td>NaN</td>\n",
              "      <td>NaN</td>\n",
              "      <td>03/05/2021</td>\n",
              "      <td>ul. Gorzysława 9 - 61-057 Poznań, Nowe Miasto ...</td>\n",
              "      <td>['ABS', 'Electrically adjustable mirrors', 'Pa...</td>\n",
              "    </tr>\n",
              "    <tr>\n",
              "      <th>9</th>\n",
              "      <td>9</td>\n",
              "      <td>93100</td>\n",
              "      <td>PLN</td>\n",
              "      <td>New</td>\n",
              "      <td>Abarth</td>\n",
              "      <td>595</td>\n",
              "      <td>NaN</td>\n",
              "      <td>NaN</td>\n",
              "      <td>2021</td>\n",
              "      <td>1.0</td>\n",
              "      <td>...</td>\n",
              "      <td>Manual</td>\n",
              "      <td>small_cars</td>\n",
              "      <td>3.0</td>\n",
              "      <td>gray</td>\n",
              "      <td>NaN</td>\n",
              "      <td>NaN</td>\n",
              "      <td>NaN</td>\n",
              "      <td>03/05/2021</td>\n",
              "      <td>ul. Gorzysława 9 - 61-057 Poznań, Nowe Miasto ...</td>\n",
              "      <td>['ABS', 'Electrically adjustable mirrors', 'Pa...</td>\n",
              "    </tr>\n",
              "  </tbody>\n",
              "</table>\n",
              "<p>10 rows × 25 columns</p>\n",
              "</div>\n",
              "      <button class=\"colab-df-convert\" onclick=\"convertToInteractive('df-dcfc0603-dda5-4110-addc-7fb6483bab16')\"\n",
              "              title=\"Convert this dataframe to an interactive table.\"\n",
              "              style=\"display:none;\">\n",
              "        \n",
              "  <svg xmlns=\"http://www.w3.org/2000/svg\" height=\"24px\"viewBox=\"0 0 24 24\"\n",
              "       width=\"24px\">\n",
              "    <path d=\"M0 0h24v24H0V0z\" fill=\"none\"/>\n",
              "    <path d=\"M18.56 5.44l.94 2.06.94-2.06 2.06-.94-2.06-.94-.94-2.06-.94 2.06-2.06.94zm-11 1L8.5 8.5l.94-2.06 2.06-.94-2.06-.94L8.5 2.5l-.94 2.06-2.06.94zm10 10l.94 2.06.94-2.06 2.06-.94-2.06-.94-.94-2.06-.94 2.06-2.06.94z\"/><path d=\"M17.41 7.96l-1.37-1.37c-.4-.4-.92-.59-1.43-.59-.52 0-1.04.2-1.43.59L10.3 9.45l-7.72 7.72c-.78.78-.78 2.05 0 2.83L4 21.41c.39.39.9.59 1.41.59.51 0 1.02-.2 1.41-.59l7.78-7.78 2.81-2.81c.8-.78.8-2.07 0-2.86zM5.41 20L4 18.59l7.72-7.72 1.47 1.35L5.41 20z\"/>\n",
              "  </svg>\n",
              "      </button>\n",
              "      \n",
              "  <style>\n",
              "    .colab-df-container {\n",
              "      display:flex;\n",
              "      flex-wrap:wrap;\n",
              "      gap: 12px;\n",
              "    }\n",
              "\n",
              "    .colab-df-convert {\n",
              "      background-color: #E8F0FE;\n",
              "      border: none;\n",
              "      border-radius: 50%;\n",
              "      cursor: pointer;\n",
              "      display: none;\n",
              "      fill: #1967D2;\n",
              "      height: 32px;\n",
              "      padding: 0 0 0 0;\n",
              "      width: 32px;\n",
              "    }\n",
              "\n",
              "    .colab-df-convert:hover {\n",
              "      background-color: #E2EBFA;\n",
              "      box-shadow: 0px 1px 2px rgba(60, 64, 67, 0.3), 0px 1px 3px 1px rgba(60, 64, 67, 0.15);\n",
              "      fill: #174EA6;\n",
              "    }\n",
              "\n",
              "    [theme=dark] .colab-df-convert {\n",
              "      background-color: #3B4455;\n",
              "      fill: #D2E3FC;\n",
              "    }\n",
              "\n",
              "    [theme=dark] .colab-df-convert:hover {\n",
              "      background-color: #434B5C;\n",
              "      box-shadow: 0px 1px 3px 1px rgba(0, 0, 0, 0.15);\n",
              "      filter: drop-shadow(0px 1px 2px rgba(0, 0, 0, 0.3));\n",
              "      fill: #FFFFFF;\n",
              "    }\n",
              "  </style>\n",
              "\n",
              "      <script>\n",
              "        const buttonEl =\n",
              "          document.querySelector('#df-dcfc0603-dda5-4110-addc-7fb6483bab16 button.colab-df-convert');\n",
              "        buttonEl.style.display =\n",
              "          google.colab.kernel.accessAllowed ? 'block' : 'none';\n",
              "\n",
              "        async function convertToInteractive(key) {\n",
              "          const element = document.querySelector('#df-dcfc0603-dda5-4110-addc-7fb6483bab16');\n",
              "          const dataTable =\n",
              "            await google.colab.kernel.invokeFunction('convertToInteractive',\n",
              "                                                     [key], {});\n",
              "          if (!dataTable) return;\n",
              "\n",
              "          const docLinkHtml = 'Like what you see? Visit the ' +\n",
              "            '<a target=\"_blank\" href=https://colab.research.google.com/notebooks/data_table.ipynb>data table notebook</a>'\n",
              "            + ' to learn more about interactive tables.';\n",
              "          element.innerHTML = '';\n",
              "          dataTable['output_type'] = 'display_data';\n",
              "          await google.colab.output.renderOutput(dataTable, element);\n",
              "          const docLink = document.createElement('div');\n",
              "          docLink.innerHTML = docLinkHtml;\n",
              "          element.appendChild(docLink);\n",
              "        }\n",
              "      </script>\n",
              "    </div>\n",
              "  </div>\n",
              "  "
            ]
          },
          "metadata": {},
          "execution_count": 4
        }
      ],
      "source": [
        "df.head(10)"
      ]
    },
    {
      "cell_type": "code",
      "execution_count": null,
      "metadata": {
        "colab": {
          "base_uri": "https://localhost:8080/",
          "height": 777
        },
        "id": "xAb8DnszR7QJ",
        "outputId": "1386c82a-9cd0-4b06-adda-bf9271a3fa9c"
      },
      "outputs": [
        {
          "output_type": "execute_result",
          "data": {
            "text/plain": [
              "<matplotlib.axes._subplots.AxesSubplot at 0x7fe021fa3640>"
            ]
          },
          "metadata": {},
          "execution_count": 5
        },
        {
          "output_type": "display_data",
          "data": {
            "text/plain": [
              "<Figure size 1050x600 with 2 Axes>"
            ],
            "image/png": "[encoded data removed]"
          },
          "metadata": {
            "needs_background": "light"
          }
        }
      ],
      "source": [
        "plt.figure(figsize=(7,4), dpi=150)\n",
        "sns.heatmap(df.isnull())\n"
      ]
    },
    {
      "cell_type": "code",
      "execution_count": null,
      "metadata": {
        "colab": {
          "base_uri": "https://localhost:8080/",
          "height": 404
        },
        "id": "WHcbwSaRblkC",
        "outputId": "a800f0c0-8e14-4175-8115-578d7c6102c6"
      },
      "outputs": [
        {
          "output_type": "execute_result",
          "data": {
            "text/plain": [
              "<seaborn.axisgrid.FacetGrid at 0x7fe021c039d0>"
            ]
          },
          "metadata": {},
          "execution_count": 6
        },
        {
          "output_type": "display_data",
          "data": {
            "text/plain": [
              "<Figure size 1500x900 with 0 Axes>"
            ]
          },
          "metadata": {}
        },
        {
          "output_type": "display_data",
          "data": {
            "text/plain": [
              "<Figure size 601.25x360 with 1 Axes>"
            ],
            "image/png": "[encoded data removed]"
          },
          "metadata": {
            "needs_background": "light"
          }
        }
      ],
      "source": [
        "plt.figure(figsize=(10,6), dpi=150)\n",
        "sns.displot(\n",
        "    data=df.isnull().melt(value_name=\"missing\"),\n",
        "    y=\"variable\",\n",
        "    hue=\"missing\",\n",
        "    multiple=\"fill\",\n",
        "    aspect=1.5\n",
        ")"
      ]
    },
    {
      "cell_type": "markdown",
      "metadata": {
        "id": "iICmfg1HeP3g"
      },
      "source": [
        "The above visualizations show the missing values in the dataset. In conclusion we got 6 main attributes with more than 20% missing values: First_registration_date, First_owner, Origin_country, CO2_emissions, vehicle_version and vehicle_generation\n",
        "\n",
        "Other attributes with less than 20% missing values are Type, Displacement_cm3, Mileage_km, Drive, Doors_number"
      ]
    },
    {
      "cell_type": "markdown",
      "metadata": {
        "id": "cOMTaER3jdsq"
      },
      "source": [
        "Chcecking the percentage of the missing values in the <0.1 missing attributes and their datatypes"
      ]
    },
    {
      "cell_type": "code",
      "execution_count": null,
      "metadata": {
        "colab": {
          "base_uri": "https://localhost:8080/"
        },
        "id": "0U2WJ1WfestA",
        "outputId": "6209dc3c-ce1b-4c38-ce7a-a5930fbeb47c"
      },
      "outputs": [
        {
          "output_type": "stream",
          "name": "stdout",
          "text": [
            "0.9438128888547507%\n",
            "float64\n"
          ]
        }
      ],
      "source": [
        "missing_Displacement_percentage = (df.Displacement_cm3.isnull().sum()/df.shape[0])*100\n",
        "print(f\"{missing_Displacement_percentage}%\")\n",
        "\n",
        "print(df.Displacement_cm3.dtype)\n"
      ]
    },
    {
      "cell_type": "code",
      "execution_count": null,
      "metadata": {
        "colab": {
          "base_uri": "https://localhost:8080/"
        },
        "id": "gEJyiO6zk8Yg",
        "outputId": "3a8d294c-7173-4d37-8028-07aa693aedb6"
      },
      "outputs": [
        {
          "output_type": "stream",
          "name": "stdout",
          "text": [
            "7.2374990398648125%\n",
            "object\n"
          ]
        }
      ],
      "source": [
        "missing_Drive_percentage = (df.Drive.isnull().sum()/df.shape[0])*100\n",
        "print(f\"{missing_Drive_percentage}%\")\n",
        "print(df.Drive.dtype)\n"
      ]
    },
    {
      "cell_type": "code",
      "execution_count": null,
      "metadata": {
        "colab": {
          "base_uri": "https://localhost:8080/"
        },
        "id": "oWCA4vw7larz",
        "outputId": "3441ffd5-62ca-43ef-9d87-e02e25d69dbc"
      },
      "outputs": [
        {
          "output_type": "stream",
          "name": "stdout",
          "text": [
            "0.7138605115600277%\n",
            "float64\n"
          ]
        }
      ],
      "source": [
        "missing_Doors_percentage = (df.Doors_number.isnull().sum()/df.shape[0])*100\n",
        "print(f\"{missing_Doors_percentage}%\")\n",
        "print(df.Doors_number.dtype)\n"
      ]
    },
    {
      "cell_type": "code",
      "execution_count": null,
      "metadata": {
        "colab": {
          "base_uri": "https://localhost:8080/"
        },
        "id": "bnxS4fiblu4N",
        "outputId": "b9c46312-9d8b-46dc-c50e-9d575f50fae1"
      },
      "outputs": [
        {
          "output_type": "stream",
          "name": "stdout",
          "text": [
            "0.47190644442737534%\n",
            "float64\n"
          ]
        }
      ],
      "source": [
        "missing_Mileage_percentage = (df.Mileage_km.isnull().sum()/df.shape[0])*100\n",
        "print(f\"{missing_Mileage_percentage}%\")\n",
        "print(df.Mileage_km.dtype)\n"
      ]
    },
    {
      "cell_type": "markdown",
      "metadata": {
        "id": "nkaeGva7mTjg"
      },
      "source": [
        "Displacement, Doors_number, drive and mileage_km could be filled in using imputation since they are within an acceptable range\n"
      ]
    },
    {
      "cell_type": "markdown",
      "metadata": {
        "id": "ePCfTfpxs4zu"
      },
      "source": [
        "We will use the median to fill in Mileage and Displacement and mode to fill in doors"
      ]
    },
    {
      "cell_type": "code",
      "execution_count": null,
      "metadata": {
        "id": "cY_NaA4auy8v"
      },
      "outputs": [],
      "source": [
        "df['Mileage_km'].fillna(df['Mileage_km'].median(), inplace = True)"
      ]
    },
    {
      "cell_type": "code",
      "execution_count": null,
      "metadata": {
        "id": "TPIe0s357kHv"
      },
      "outputs": [],
      "source": [
        "df['Displacement_cm3'].fillna(df['Displacement_cm3'].median(), inplace = True)"
      ]
    },
    {
      "cell_type": "code",
      "execution_count": null,
      "metadata": {
        "id": "RQ6B3GoMAV1n"
      },
      "outputs": [],
      "source": [
        "df['Doors_number'].fillna(df['Doors_number'].mode()[0], inplace = True)"
      ]
    },
    {
      "cell_type": "code",
      "execution_count": null,
      "metadata": {
        "id": "uuwbM138jXtk"
      },
      "outputs": [],
      "source": [
        "df['Drive'].fillna(df['Drive'].mode()[0], inplace = True)"
      ]
    },
    {
      "cell_type": "markdown",
      "metadata": {
        "id": "W4eNxxvDlMOQ"
      },
      "source": [
        "We will assume that any null value in the First owners attribute translates to No"
      ]
    },
    {
      "cell_type": "code",
      "execution_count": null,
      "metadata": {
        "id": "QcVfhA2WSTOe"
      },
      "outputs": [],
      "source": [
        "df['First_owner'].fillna('No',inplace= True)"
      ]
    },
    {
      "cell_type": "code",
      "execution_count": null,
      "metadata": {
        "colab": {
          "base_uri": "https://localhost:8080/",
          "height": 404
        },
        "id": "VVRRjA4iArLU",
        "outputId": "f0f2a6ec-8223-4037-a910-b0464e3bf8ff"
      },
      "outputs": [
        {
          "output_type": "execute_result",
          "data": {
            "text/plain": [
              "<seaborn.axisgrid.FacetGrid at 0x7fe021eb2d90>"
            ]
          },
          "metadata": {},
          "execution_count": 16
        },
        {
          "output_type": "display_data",
          "data": {
            "text/plain": [
              "<Figure size 1500x900 with 0 Axes>"
            ]
          },
          "metadata": {}
        },
        {
          "output_type": "display_data",
          "data": {
            "text/plain": [
              "<Figure size 601.25x360 with 1 Axes>"
            ],
            "image/png": "[encoded data removed]"
          },
          "metadata": {
            "needs_background": "light"
          }
        }
      ],
      "source": [
        "plt.figure(figsize=(10,6), dpi=150)\n",
        "sns.displot(\n",
        "    data=df.isnull().melt(value_name=\"missing\"),\n",
        "    y=\"variable\",\n",
        "    hue=\"missing\",\n",
        "    multiple=\"fill\",\n",
        "    aspect=1.5\n",
        ")\n"
      ]
    },
    {
      "cell_type": "markdown",
      "metadata": {
        "id": "F5DCsVk26kr8"
      },
      "source": [
        "First_registration_date is probably mostly null due to the cars on sale already being used and many people are not the first owner (or have refrained from answering, perhaps due to not wanting to depreciate the price of the car being sold) and it could be difficult for a secondhand user to know this information. The same could apply for Origin_country"
      ]
    },
    {
      "cell_type": "markdown",
      "metadata": {
        "id": "9ljWS86g7GrM"
      },
      "source": [
        "CO2 emissions is also over 50% null perhaps due to the fact that many people dont consider it important as a selling point. It is also worth mentioning that many old cars (those produced before 1990 as shown below) will most likely not have this information as it was not relevant at the time"
      ]
    },
    {
      "cell_type": "code",
      "execution_count": null,
      "metadata": {
        "id": "AiV_8dxxXO7i"
      },
      "outputs": [],
      "source": [
        "sns.pairplot(df)\n"
      ]
    },
    {
      "cell_type": "markdown",
      "metadata": {
        "id": "mhCgOc5Lcr2s"
      },
      "source": [
        "Observations from this pairplot:\n",
        "  1) Most cars on sale were produced after 1990\n",
        "  2) CO2 emission and displacement are positively correlated \n",
        "  3) Price and production year are positvely strongly correlated \n",
        "  4) Horse power and production year are positively correlated\n",
        "  5) Mileage has a very low variance \n",
        "  6) Displacement and production year are positively correlated\n",
        "  7) Horse power and price are positively correlated\n",
        "  8) Horse Power and displacement are positively related"
      ]
    },
    {
      "cell_type": "markdown",
      "source": [
        "Correlation Matrix"
      ],
      "metadata": {
        "id": "rRz9iU3VZIk3"
      }
    },
    {
      "cell_type": "code",
      "source": [
        "corr = df.corr()\n",
        "\n",
        "mask = np.triu(np.ones_like(corr))\n",
        "\n",
        "# Set up the matplotlib figure\n",
        "f, ax = plt.subplots(figsize=(11, 9))\n",
        "\n",
        "# Draw the heatmap with the mask and correct aspect ratio\n",
        "sns.heatmap(corr, mask=mask, cmap=\"crest\", vmax=1, center=0,\n",
        "            annot=True, square=True, linewidths=0.5, cbar_kws={\"shrink\": .5})\n"
      ],
      "metadata": {
        "colab": {
          "base_uri": "https://localhost:8080/",
          "height": 652
        },
        "id": "AiG0LMSEZKsf",
        "outputId": "c49e647f-f3d2-461c-9f68-0a34a6a1bebc"
      },
      "execution_count": null,
      "outputs": [
        {
          "output_type": "execute_result",
          "data": {
            "text/plain": [
              "<matplotlib.axes._subplots.AxesSubplot at 0x7f8eb1969e20>"
            ]
          },
          "metadata": {},
          "execution_count": 31
        },
        {
          "output_type": "display_data",
          "data": {
            "text/plain": [
              "<Figure size 792x648 with 2 Axes>"
            ],
            "image/png": "[encoded data removed]"
          },
          "metadata": {}
        }
      ]
    },
    {
      "cell_type": "markdown",
      "metadata": {
        "id": "PCQwuPHcUu81"
      },
      "source": [
        "Outliers"
      ]
    },
    {
      "cell_type": "markdown",
      "metadata": {
        "id": "jv8Gx2N8VzVH"
      },
      "source": [
        "Upon a scan of the data I noticed a few values that could be outliers especially in the mileage attribute - they were too low ( eg: 1 or 5 km)compared to an average of:"
      ]
    },
    {
      "cell_type": "code",
      "execution_count": null,
      "metadata": {
        "colab": {
          "base_uri": "https://localhost:8080/"
        },
        "id": "duMyURpaWCKw",
        "outputId": "e00141ef-32f4-44e2-84a5-2069d959f468"
      },
      "outputs": [
        {
          "output_type": "execute_result",
          "data": {
            "text/plain": [
              "150249.81449708118"
            ]
          },
          "metadata": {},
          "execution_count": 18
        }
      ],
      "source": [
        "df.Mileage_km.mean()"
      ]
    },
    {
      "cell_type": "code",
      "source": [
        "outliers=[]\n",
        "def detect_outlier(data_1):\n",
        "    \n",
        "    threshold=3\n",
        "    mean_1 = np.mean(data_1)\n",
        "    std_1 =np.std(data_1)\n",
        "    \n",
        "    \n",
        "    for y in data_1:\n",
        "        z_score= (y - mean_1)/std_1 \n",
        "        if np.abs(z_score) > threshold:\n",
        "            outliers.append(y)\n",
        "    return outliers"
      ],
      "metadata": {
        "id": "Y65AbN98MjKw"
      },
      "execution_count": null,
      "outputs": []
    },
    {
      "cell_type": "code",
      "execution_count": null,
      "metadata": {
        "colab": {
          "base_uri": "https://localhost:8080/"
        },
        "id": "w7I4rygXUxgO",
        "outputId": "9316b67c-2b99-4673-cb82-9bac99b90d30"
      },
      "outputs": [
        {
          "output_type": "execute_result",
          "data": {
            "text/plain": [
              "[11111111.0,\n",
              " 10000000.0,\n",
              " 99999999.0,\n",
              " 1111111111.0,\n",
              " 500000000.0,\n",
              " 9999999.0,\n",
              " 206549168.0,\n",
              " 500000000.0]"
            ]
          },
          "metadata": {},
          "execution_count": 95
        }
      ],
      "source": [
        "detect_outlier(df.Mileage_km)"
      ]
    },
    {
      "cell_type": "code",
      "execution_count": null,
      "metadata": {
        "id": "rEJ8mA3yVqck"
      },
      "outputs": [],
      "source": [
        "sorted(df.Mileage_km)\n",
        "q1, q3= np.percentile(df.Mileage_km,[25,75])"
      ]
    },
    {
      "cell_type": "code",
      "execution_count": null,
      "metadata": {
        "colab": {
          "base_uri": "https://localhost:8080/",
          "height": 36
        },
        "id": "BORPRFpSWha-",
        "outputId": "e22fb072-f3be-41ab-9360-d4801cea651b"
      },
      "outputs": [
        {
          "output_type": "execute_result",
          "data": {
            "text/plain": [
              "'1st quartile: 53588.75 and 3rd quartile: 205697.5 '"
            ],
            "application/vnd.google.colaboratory.intrinsic+json": {
              "type": "string"
            }
          },
          "metadata": {},
          "execution_count": 97
        }
      ],
      "source": [
        "f\"1st quartile: {q1} and 3rd quartile: {q3} \""
      ]
    },
    {
      "cell_type": "code",
      "execution_count": null,
      "metadata": {
        "colab": {
          "base_uri": "https://localhost:8080/"
        },
        "id": "fLr-WvyBZBio",
        "outputId": "6c510aa6-1613-4a27-98e4-2ec3baba76f3"
      },
      "outputs": [
        {
          "output_type": "stream",
          "name": "stdout",
          "text": [
            "152108.75\n"
          ]
        }
      ],
      "source": [
        "iqr = q3 - q1\n",
        "print(iqr)"
      ]
    },
    {
      "cell_type": "code",
      "execution_count": null,
      "metadata": {
        "id": "zfjlwfz9Ziv-"
      },
      "outputs": [],
      "source": [
        "lower_bound = q1 -(1.5 * iqr) \n",
        "upper_bound = q3 +(1.5 * iqr) \n"
      ]
    },
    {
      "cell_type": "code",
      "execution_count": null,
      "metadata": {
        "colab": {
          "base_uri": "https://localhost:8080/"
        },
        "id": "NDafF3O5Zp9v",
        "outputId": "f4fb1446-c8a3-4f1d-879c-dbc7f5eba603"
      },
      "outputs": [
        {
          "output_type": "execute_result",
          "data": {
            "text/plain": [
              "-174574.375"
            ]
          },
          "metadata": {},
          "execution_count": 25
        }
      ],
      "source": [
        "lower_bound"
      ]
    },
    {
      "cell_type": "code",
      "execution_count": null,
      "metadata": {
        "colab": {
          "base_uri": "https://localhost:8080/"
        },
        "id": "knc-e4NhZ6fT",
        "outputId": "e651b4f5-51c7-4f39-b6b6-dad509b2fb9a"
      },
      "outputs": [
        {
          "output_type": "execute_result",
          "data": {
            "text/plain": [
              "433860.625"
            ]
          },
          "metadata": {},
          "execution_count": 26
        }
      ],
      "source": [
        "upper_bound"
      ]
    },
    {
      "cell_type": "markdown",
      "metadata": {
        "id": "h1Rjn2NcilLg"
      },
      "source": [
        "Apparently the calculations show that the low numbers are still within acceptable range and not outliers, so I will check for maximum outliers"
      ]
    },
    {
      "cell_type": "code",
      "execution_count": null,
      "metadata": {
        "colab": {
          "base_uri": "https://localhost:8080/",
          "height": 1000
        },
        "id": "Yps-bvigbxcM",
        "outputId": "c07fe2aa-f5ed-431c-9df2-6fed0af25d52"
      },
      "outputs": [
        {
          "output_type": "execute_result",
          "data": {
            "text/plain": [
              "         Index  Price Currency Condition Vehicle_brand Vehicle_model  \\\n",
              "261        261  11999      PLN      Used    Alfa Romeo           159   \n",
              "1552      1552   5000      PLN      Used          Audi           100   \n",
              "4577      4577   2950      PLN      Used          Audi            A4   \n",
              "4863      4863  13200      PLN      Used          Audi            A4   \n",
              "5503      5503   3399      PLN      Used          Audi            A4   \n",
              "...        ...    ...      ...       ...           ...           ...   \n",
              "206796  206796  10900      PLN      Used         Volvo           V70   \n",
              "207478  207478   9500      PLN      Used         Volvo           V70   \n",
              "208029  208029  15800      PLN      Used         Volvo           965   \n",
              "208195  208195  12915      PLN      Used         Volvo           V70   \n",
              "208293  208293  33333      PLN      Used     Zaporożec         Other   \n",
              "\n",
              "           Vehicle_version Vehicle_generation  Production_year   Mileage_km  \\\n",
              "261     1.9JTDM Impression                NaN             2007    2025931.0   \n",
              "1552           Avant 2.6 E     C4 (1991-1994)             1993     500000.0   \n",
              "4577         Avant 1.9 TDI     B5 (1995-2001)             1996     496000.0   \n",
              "4863            Avant 1.8T     B6 (2000-2004)             2003    1234567.0   \n",
              "5503                   NaN     B6 (2000-2004)             2001     520000.0   \n",
              "...                    ...                ...              ...          ...   \n",
              "206796                 2.4     II (1999-2007)             2004     495000.0   \n",
              "207478       2.4D Momentum     II (1999-2007)             2007     550800.0   \n",
              "208029                 NaN                NaN             1991    1550000.0   \n",
              "208195      II (1999-2007)     II (1999-2007)             2005     519450.0   \n",
              "208293                 NaN                NaN             2020  500000000.0   \n",
              "\n",
              "        ...  Transmission           Type Doors_number  Colour Origin_country  \\\n",
              "261     ...        Manual  station_wagon          4.0   other        Germany   \n",
              "1552    ...        Manual  station_wagon          5.0   green            NaN   \n",
              "4577    ...        Manual  station_wagon          5.0  silver            NaN   \n",
              "4863    ...        Manual  station_wagon          5.0   other        Germany   \n",
              "5503    ...        Manual          sedan          5.0   other            NaN   \n",
              "...     ...           ...            ...          ...     ...            ...   \n",
              "206796  ...        Manual  station_wagon          5.0    gray            NaN   \n",
              "207478  ...        Manual  station_wagon          5.0   black            NaN   \n",
              "208029  ...     Automatic        compact          5.0   white            NaN   \n",
              "208195  ...     Automatic  station_wagon          5.0   black        Germany   \n",
              "208293  ...        Manual     small_cars          4.0   brown            NaN   \n",
              "\n",
              "       First_owner First_registration_date  Offer_publication_date  \\\n",
              "261             No                     NaN              01/05/2021   \n",
              "1552            No                     NaN              02/05/2021   \n",
              "4577            No                     NaN              03/05/2021   \n",
              "4863            No                     NaN              30/04/2021   \n",
              "5503            No                     NaN              25/04/2021   \n",
              "...            ...                     ...                     ...   \n",
              "206796          No                     NaN              30/04/2021   \n",
              "207478          No              04/07/2007              04/05/2021   \n",
              "208029          No                     NaN              30/04/2021   \n",
              "208195          No              30/03/2005              29/04/2021   \n",
              "208293          No                     NaN              28/04/2021   \n",
              "\n",
              "                                           Offer_location  \\\n",
              "261                                    Płock, Mazowieckie   \n",
              "1552                        Lubań, lubański, Dolnośląskie   \n",
              "4577                            Toruń, Kujawsko-pomorskie   \n",
              "4863    ul. Leśna 15 - 87-148 Łysomice, toruński, Kuja...   \n",
              "5503    Stary Brześć 23 B - 87-880 Brześć Kujawski, wł...   \n",
              "...                                                   ...   \n",
              "206796  Przasnyska 91a - 06-200 Maków Mazowiecki, mako...   \n",
              "207478                    Jemna, ząbkowicki, Dolnośląskie   \n",
              "208029  kanonierska12 - 04-425 Warszawa, Rembertów (Po...   \n",
              "208195                 Skarszewy, starogardzki, Pomorskie   \n",
              "208293  liberdade - 1999 Bochnia, bocheński, Małopolsk...   \n",
              "\n",
              "                                                 Features  \n",
              "261     ['ABS', 'Electric front windows', 'Passengers ...  \n",
              "1552    ['ABS', 'Central locking', 'Power steering', '...  \n",
              "4577    ['ABS', 'Drivers airbag', 'Automatic air condi...  \n",
              "4863    ['ABS', 'Electric front windows', 'Drivers air...  \n",
              "5503    ['ABS', 'Electrically adjustable mirrors', 'Pa...  \n",
              "...                                                   ...  \n",
              "206796  ['ABS', 'Electric front windows', 'Drivers air...  \n",
              "207478  ['ABS', 'Electric front windows', 'Drivers air...  \n",
              "208029  ['Electric front windows', 'Passengers airbag'...  \n",
              "208195  ['ABS', 'Electric front windows', 'Drivers air...  \n",
              "208293                                                 []  \n",
              "\n",
              "[273 rows x 25 columns]"
            ],
            "text/html": [
              "\n",
              "  <div id=\"df-d536af75-67a5-4d04-a7be-0fcf30727a4f\">\n",
              "    <div class=\"colab-df-container\">\n",
              "      <div>\n",
              "<style scoped>\n",
              "    .dataframe tbody tr th:only-of-type {\n",
              "        vertical-align: middle;\n",
              "    }\n",
              "\n",
              "    .dataframe tbody tr th {\n",
              "        vertical-align: top;\n",
              "    }\n",
              "\n",
              "    .dataframe thead th {\n",
              "        text-align: right;\n",
              "    }\n",
              "</style>\n",
              "<table border=\"1\" class=\"dataframe\">\n",
              "  <thead>\n",
              "    <tr style=\"text-align: right;\">\n",
              "      <th></th>\n",
              "      <th>Index</th>\n",
              "      <th>Price</th>\n",
              "      <th>Currency</th>\n",
              "      <th>Condition</th>\n",
              "      <th>Vehicle_brand</th>\n",
              "      <th>Vehicle_model</th>\n",
              "      <th>Vehicle_version</th>\n",
              "      <th>Vehicle_generation</th>\n",
              "      <th>Production_year</th>\n",
              "      <th>Mileage_km</th>\n",
              "      <th>...</th>\n",
              "      <th>Transmission</th>\n",
              "      <th>Type</th>\n",
              "      <th>Doors_number</th>\n",
              "      <th>Colour</th>\n",
              "      <th>Origin_country</th>\n",
              "      <th>First_owner</th>\n",
              "      <th>First_registration_date</th>\n",
              "      <th>Offer_publication_date</th>\n",
              "      <th>Offer_location</th>\n",
              "      <th>Features</th>\n",
              "    </tr>\n",
              "  </thead>\n",
              "  <tbody>\n",
              "    <tr>\n",
              "      <th>261</th>\n",
              "      <td>261</td>\n",
              "      <td>11999</td>\n",
              "      <td>PLN</td>\n",
              "      <td>Used</td>\n",
              "      <td>Alfa Romeo</td>\n",
              "      <td>159</td>\n",
              "      <td>1.9JTDM Impression</td>\n",
              "      <td>NaN</td>\n",
              "      <td>2007</td>\n",
              "      <td>2025931.0</td>\n",
              "      <td>...</td>\n",
              "      <td>Manual</td>\n",
              "      <td>station_wagon</td>\n",
              "      <td>4.0</td>\n",
              "      <td>other</td>\n",
              "      <td>Germany</td>\n",
              "      <td>No</td>\n",
              "      <td>NaN</td>\n",
              "      <td>01/05/2021</td>\n",
              "      <td>Płock, Mazowieckie</td>\n",
              "      <td>['ABS', 'Electric front windows', 'Passengers ...</td>\n",
              "    </tr>\n",
              "    <tr>\n",
              "      <th>1552</th>\n",
              "      <td>1552</td>\n",
              "      <td>5000</td>\n",
              "      <td>PLN</td>\n",
              "      <td>Used</td>\n",
              "      <td>Audi</td>\n",
              "      <td>100</td>\n",
              "      <td>Avant 2.6 E</td>\n",
              "      <td>C4 (1991-1994)</td>\n",
              "      <td>1993</td>\n",
              "      <td>500000.0</td>\n",
              "      <td>...</td>\n",
              "      <td>Manual</td>\n",
              "      <td>station_wagon</td>\n",
              "      <td>5.0</td>\n",
              "      <td>green</td>\n",
              "      <td>NaN</td>\n",
              "      <td>No</td>\n",
              "      <td>NaN</td>\n",
              "      <td>02/05/2021</td>\n",
              "      <td>Lubań, lubański, Dolnośląskie</td>\n",
              "      <td>['ABS', 'Central locking', 'Power steering', '...</td>\n",
              "    </tr>\n",
              "    <tr>\n",
              "      <th>4577</th>\n",
              "      <td>4577</td>\n",
              "      <td>2950</td>\n",
              "      <td>PLN</td>\n",
              "      <td>Used</td>\n",
              "      <td>Audi</td>\n",
              "      <td>A4</td>\n",
              "      <td>Avant 1.9 TDI</td>\n",
              "      <td>B5 (1995-2001)</td>\n",
              "      <td>1996</td>\n",
              "      <td>496000.0</td>\n",
              "      <td>...</td>\n",
              "      <td>Manual</td>\n",
              "      <td>station_wagon</td>\n",
              "      <td>5.0</td>\n",
              "      <td>silver</td>\n",
              "      <td>NaN</td>\n",
              "      <td>No</td>\n",
              "      <td>NaN</td>\n",
              "      <td>03/05/2021</td>\n",
              "      <td>Toruń, Kujawsko-pomorskie</td>\n",
              "      <td>['ABS', 'Drivers airbag', 'Automatic air condi...</td>\n",
              "    </tr>\n",
              "    <tr>\n",
              "      <th>4863</th>\n",
              "      <td>4863</td>\n",
              "      <td>13200</td>\n",
              "      <td>PLN</td>\n",
              "      <td>Used</td>\n",
              "      <td>Audi</td>\n",
              "      <td>A4</td>\n",
              "      <td>Avant 1.8T</td>\n",
              "      <td>B6 (2000-2004)</td>\n",
              "      <td>2003</td>\n",
              "      <td>1234567.0</td>\n",
              "      <td>...</td>\n",
              "      <td>Manual</td>\n",
              "      <td>station_wagon</td>\n",
              "      <td>5.0</td>\n",
              "      <td>other</td>\n",
              "      <td>Germany</td>\n",
              "      <td>No</td>\n",
              "      <td>NaN</td>\n",
              "      <td>30/04/2021</td>\n",
              "      <td>ul. Leśna 15 - 87-148 Łysomice, toruński, Kuja...</td>\n",
              "      <td>['ABS', 'Electric front windows', 'Drivers air...</td>\n",
              "    </tr>\n",
              "    <tr>\n",
              "      <th>5503</th>\n",
              "      <td>5503</td>\n",
              "      <td>3399</td>\n",
              "      <td>PLN</td>\n",
              "      <td>Used</td>\n",
              "      <td>Audi</td>\n",
              "      <td>A4</td>\n",
              "      <td>NaN</td>\n",
              "      <td>B6 (2000-2004)</td>\n",
              "      <td>2001</td>\n",
              "      <td>520000.0</td>\n",
              "      <td>...</td>\n",
              "      <td>Manual</td>\n",
              "      <td>sedan</td>\n",
              "      <td>5.0</td>\n",
              "      <td>other</td>\n",
              "      <td>NaN</td>\n",
              "      <td>No</td>\n",
              "      <td>NaN</td>\n",
              "      <td>25/04/2021</td>\n",
              "      <td>Stary Brześć 23 B - 87-880 Brześć Kujawski, wł...</td>\n",
              "      <td>['ABS', 'Electrically adjustable mirrors', 'Pa...</td>\n",
              "    </tr>\n",
              "    <tr>\n",
              "      <th>...</th>\n",
              "      <td>...</td>\n",
              "      <td>...</td>\n",
              "      <td>...</td>\n",
              "      <td>...</td>\n",
              "      <td>...</td>\n",
              "      <td>...</td>\n",
              "      <td>...</td>\n",
              "      <td>...</td>\n",
              "      <td>...</td>\n",
              "      <td>...</td>\n",
              "      <td>...</td>\n",
              "      <td>...</td>\n",
              "      <td>...</td>\n",
              "      <td>...</td>\n",
              "      <td>...</td>\n",
              "      <td>...</td>\n",
              "      <td>...</td>\n",
              "      <td>...</td>\n",
              "      <td>...</td>\n",
              "      <td>...</td>\n",
              "      <td>...</td>\n",
              "    </tr>\n",
              "    <tr>\n",
              "      <th>206796</th>\n",
              "      <td>206796</td>\n",
              "      <td>10900</td>\n",
              "      <td>PLN</td>\n",
              "      <td>Used</td>\n",
              "      <td>Volvo</td>\n",
              "      <td>V70</td>\n",
              "      <td>2.4</td>\n",
              "      <td>II (1999-2007)</td>\n",
              "      <td>2004</td>\n",
              "      <td>495000.0</td>\n",
              "      <td>...</td>\n",
              "      <td>Manual</td>\n",
              "      <td>station_wagon</td>\n",
              "      <td>5.0</td>\n",
              "      <td>gray</td>\n",
              "      <td>NaN</td>\n",
              "      <td>No</td>\n",
              "      <td>NaN</td>\n",
              "      <td>30/04/2021</td>\n",
              "      <td>Przasnyska 91a - 06-200 Maków Mazowiecki, mako...</td>\n",
              "      <td>['ABS', 'Electric front windows', 'Drivers air...</td>\n",
              "    </tr>\n",
              "    <tr>\n",
              "      <th>207478</th>\n",
              "      <td>207478</td>\n",
              "      <td>9500</td>\n",
              "      <td>PLN</td>\n",
              "      <td>Used</td>\n",
              "      <td>Volvo</td>\n",
              "      <td>V70</td>\n",
              "      <td>2.4D Momentum</td>\n",
              "      <td>II (1999-2007)</td>\n",
              "      <td>2007</td>\n",
              "      <td>550800.0</td>\n",
              "      <td>...</td>\n",
              "      <td>Manual</td>\n",
              "      <td>station_wagon</td>\n",
              "      <td>5.0</td>\n",
              "      <td>black</td>\n",
              "      <td>NaN</td>\n",
              "      <td>No</td>\n",
              "      <td>04/07/2007</td>\n",
              "      <td>04/05/2021</td>\n",
              "      <td>Jemna, ząbkowicki, Dolnośląskie</td>\n",
              "      <td>['ABS', 'Electric front windows', 'Drivers air...</td>\n",
              "    </tr>\n",
              "    <tr>\n",
              "      <th>208029</th>\n",
              "      <td>208029</td>\n",
              "      <td>15800</td>\n",
              "      <td>PLN</td>\n",
              "      <td>Used</td>\n",
              "      <td>Volvo</td>\n",
              "      <td>965</td>\n",
              "      <td>NaN</td>\n",
              "      <td>NaN</td>\n",
              "      <td>1991</td>\n",
              "      <td>1550000.0</td>\n",
              "      <td>...</td>\n",
              "      <td>Automatic</td>\n",
              "      <td>compact</td>\n",
              "      <td>5.0</td>\n",
              "      <td>white</td>\n",
              "      <td>NaN</td>\n",
              "      <td>No</td>\n",
              "      <td>NaN</td>\n",
              "      <td>30/04/2021</td>\n",
              "      <td>kanonierska12 - 04-425 Warszawa, Rembertów (Po...</td>\n",
              "      <td>['Electric front windows', 'Passengers airbag'...</td>\n",
              "    </tr>\n",
              "    <tr>\n",
              "      <th>208195</th>\n",
              "      <td>208195</td>\n",
              "      <td>12915</td>\n",
              "      <td>PLN</td>\n",
              "      <td>Used</td>\n",
              "      <td>Volvo</td>\n",
              "      <td>V70</td>\n",
              "      <td>II (1999-2007)</td>\n",
              "      <td>II (1999-2007)</td>\n",
              "      <td>2005</td>\n",
              "      <td>519450.0</td>\n",
              "      <td>...</td>\n",
              "      <td>Automatic</td>\n",
              "      <td>station_wagon</td>\n",
              "      <td>5.0</td>\n",
              "      <td>black</td>\n",
              "      <td>Germany</td>\n",
              "      <td>No</td>\n",
              "      <td>30/03/2005</td>\n",
              "      <td>29/04/2021</td>\n",
              "      <td>Skarszewy, starogardzki, Pomorskie</td>\n",
              "      <td>['ABS', 'Electric front windows', 'Drivers air...</td>\n",
              "    </tr>\n",
              "    <tr>\n",
              "      <th>208293</th>\n",
              "      <td>208293</td>\n",
              "      <td>33333</td>\n",
              "      <td>PLN</td>\n",
              "      <td>Used</td>\n",
              "      <td>Zaporożec</td>\n",
              "      <td>Other</td>\n",
              "      <td>NaN</td>\n",
              "      <td>NaN</td>\n",
              "      <td>2020</td>\n",
              "      <td>500000000.0</td>\n",
              "      <td>...</td>\n",
              "      <td>Manual</td>\n",
              "      <td>small_cars</td>\n",
              "      <td>4.0</td>\n",
              "      <td>brown</td>\n",
              "      <td>NaN</td>\n",
              "      <td>No</td>\n",
              "      <td>NaN</td>\n",
              "      <td>28/04/2021</td>\n",
              "      <td>liberdade - 1999 Bochnia, bocheński, Małopolsk...</td>\n",
              "      <td>[]</td>\n",
              "    </tr>\n",
              "  </tbody>\n",
              "</table>\n",
              "<p>273 rows × 25 columns</p>\n",
              "</div>\n",
              "      <button class=\"colab-df-convert\" onclick=\"convertToInteractive('df-d536af75-67a5-4d04-a7be-0fcf30727a4f')\"\n",
              "              title=\"Convert this dataframe to an interactive table.\"\n",
              "              style=\"display:none;\">\n",
              "        \n",
              "  <svg xmlns=\"http://www.w3.org/2000/svg\" height=\"24px\"viewBox=\"0 0 24 24\"\n",
              "       width=\"24px\">\n",
              "    <path d=\"M0 0h24v24H0V0z\" fill=\"none\"/>\n",
              "    <path d=\"M18.56 5.44l.94 2.06.94-2.06 2.06-.94-2.06-.94-.94-2.06-.94 2.06-2.06.94zm-11 1L8.5 8.5l.94-2.06 2.06-.94-2.06-.94L8.5 2.5l-.94 2.06-2.06.94zm10 10l.94 2.06.94-2.06 2.06-.94-2.06-.94-.94-2.06-.94 2.06-2.06.94z\"/><path d=\"M17.41 7.96l-1.37-1.37c-.4-.4-.92-.59-1.43-.59-.52 0-1.04.2-1.43.59L10.3 9.45l-7.72 7.72c-.78.78-.78 2.05 0 2.83L4 21.41c.39.39.9.59 1.41.59.51 0 1.02-.2 1.41-.59l7.78-7.78 2.81-2.81c.8-.78.8-2.07 0-2.86zM5.41 20L4 18.59l7.72-7.72 1.47 1.35L5.41 20z\"/>\n",
              "  </svg>\n",
              "      </button>\n",
              "      \n",
              "  <style>\n",
              "    .colab-df-container {\n",
              "      display:flex;\n",
              "      flex-wrap:wrap;\n",
              "      gap: 12px;\n",
              "    }\n",
              "\n",
              "    .colab-df-convert {\n",
              "      background-color: #E8F0FE;\n",
              "      border: none;\n",
              "      border-radius: 50%;\n",
              "      cursor: pointer;\n",
              "      display: none;\n",
              "      fill: #1967D2;\n",
              "      height: 32px;\n",
              "      padding: 0 0 0 0;\n",
              "      width: 32px;\n",
              "    }\n",
              "\n",
              "    .colab-df-convert:hover {\n",
              "      background-color: #E2EBFA;\n",
              "      box-shadow: 0px 1px 2px rgba(60, 64, 67, 0.3), 0px 1px 3px 1px rgba(60, 64, 67, 0.15);\n",
              "      fill: #174EA6;\n",
              "    }\n",
              "\n",
              "    [theme=dark] .colab-df-convert {\n",
              "      background-color: #3B4455;\n",
              "      fill: #D2E3FC;\n",
              "    }\n",
              "\n",
              "    [theme=dark] .colab-df-convert:hover {\n",
              "      background-color: #434B5C;\n",
              "      box-shadow: 0px 1px 3px 1px rgba(0, 0, 0, 0.15);\n",
              "      filter: drop-shadow(0px 1px 2px rgba(0, 0, 0, 0.3));\n",
              "      fill: #FFFFFF;\n",
              "    }\n",
              "  </style>\n",
              "\n",
              "      <script>\n",
              "        const buttonEl =\n",
              "          document.querySelector('#df-d536af75-67a5-4d04-a7be-0fcf30727a4f button.colab-df-convert');\n",
              "        buttonEl.style.display =\n",
              "          google.colab.kernel.accessAllowed ? 'block' : 'none';\n",
              "\n",
              "        async function convertToInteractive(key) {\n",
              "          const element = document.querySelector('#df-d536af75-67a5-4d04-a7be-0fcf30727a4f');\n",
              "          const dataTable =\n",
              "            await google.colab.kernel.invokeFunction('convertToInteractive',\n",
              "                                                     [key], {});\n",
              "          if (!dataTable) return;\n",
              "\n",
              "          const docLinkHtml = 'Like what you see? Visit the ' +\n",
              "            '<a target=\"_blank\" href=https://colab.research.google.com/notebooks/data_table.ipynb>data table notebook</a>'\n",
              "            + ' to learn more about interactive tables.';\n",
              "          element.innerHTML = '';\n",
              "          dataTable['output_type'] = 'display_data';\n",
              "          await google.colab.output.renderOutput(dataTable, element);\n",
              "          const docLink = document.createElement('div');\n",
              "          docLink.innerHTML = docLinkHtml;\n",
              "          element.appendChild(docLink);\n",
              "        }\n",
              "      </script>\n",
              "    </div>\n",
              "  </div>\n",
              "  "
            ]
          },
          "metadata": {},
          "execution_count": 27
        }
      ],
      "source": [
        "df.loc[df['Mileage_km']>491434.75]\n"
      ]
    },
    {
      "cell_type": "markdown",
      "source": [
        "The highest mileage:"
      ],
      "metadata": {
        "id": "KznEjW3zwHYv"
      }
    },
    {
      "cell_type": "code",
      "execution_count": null,
      "metadata": {
        "colab": {
          "base_uri": "https://localhost:8080/"
        },
        "id": "Urt0kIUXfzRS",
        "outputId": "f6870bf6-ec7f-4f0b-9a54-0b355688c448"
      },
      "outputs": [
        {
          "output_type": "stream",
          "name": "stdout",
          "text": [
            "1111111111.0\n",
            "127757    127757\n",
            "Name: Index, dtype: int64\n"
          ]
        }
      ],
      "source": [
        "print(df['Mileage_km'].max())\n",
        "print(df.Index[df['Mileage_km']==df['Mileage_km'].max()])"
      ]
    },
    {
      "cell_type": "code",
      "execution_count": null,
      "metadata": {
        "colab": {
          "base_uri": "https://localhost:8080/",
          "height": 563
        },
        "id": "Vqn2y1DedVN7",
        "outputId": "fe57e66a-c41c-409c-914a-675731b59348"
      },
      "outputs": [
        {
          "output_type": "display_data",
          "data": {
            "text/plain": [
              "<Figure size 504x504 with 1 Axes>"
            ],
            "image/png": "[encoded data removed]"
          },
          "metadata": {
            "needs_background": "light"
          }
        }
      ],
      "source": [
        "fig = plt.figure(figsize =(7, 7))\n",
        " \n",
        "ax = fig.add_axes([0, 0, 1, 1])\n",
        " \n",
        "bp = ax.boxplot(sorted(df.Mileage_km))\n",
        " \n",
        "plt.show()"
      ]
    },
    {
      "cell_type": "code",
      "source": [
        "import statistics\n",
        "statistics.variance(df.Mileage_km)"
      ],
      "metadata": {
        "colab": {
          "base_uri": "https://localhost:8080/"
        },
        "id": "fnEtRHvsHB07",
        "outputId": "81765e2a-255e-43ca-9411-790b8c9a7427"
      },
      "execution_count": null,
      "outputs": [
        {
          "output_type": "execute_result",
          "data": {
            "text/plain": [
              "8587874802511.051"
            ]
          },
          "metadata": {},
          "execution_count": 71
        }
      ]
    },
    {
      "cell_type": "markdown",
      "source": [
        "incredibly high variance - sign of extreme outliers in the data"
      ],
      "metadata": {
        "id": "3a57C1BEHWRp"
      }
    },
    {
      "cell_type": "code",
      "source": [
        "detect_outlier(df.Price)"
      ],
      "metadata": {
        "id": "9FYLBnRhKxoa"
      },
      "execution_count": null,
      "outputs": []
    },
    {
      "cell_type": "code",
      "source": [
        "fig = plt.figure(figsize =(4, 7))\n",
        " \n",
        "ax = fig.add_axes([0, 0, 1, 1])\n",
        " \n",
        "bp = ax.boxplot(sorted(df.Price))\n",
        " \n",
        "plt.show()"
      ],
      "metadata": {
        "colab": {
          "base_uri": "https://localhost:8080/",
          "height": 563
        },
        "id": "BNxLTm7GLyXj",
        "outputId": "9a0ab714-1d6a-4ccd-e405-fb6b9afe8897"
      },
      "execution_count": null,
      "outputs": [
        {
          "output_type": "display_data",
          "data": {
            "text/plain": [
              "<Figure size 288x504 with 1 Axes>"
            ],
            "image/png": "[encoded data removed]"
          },
          "metadata": {
            "needs_background": "light"
          }
        }
      ]
    },
    {
      "cell_type": "code",
      "source": [
        "df.Price.max()"
      ],
      "metadata": {
        "colab": {
          "base_uri": "https://localhost:8080/"
        },
        "id": "tsLKeyNONW9s",
        "outputId": "9f2ad244-f164-42d9-9f65-18d9a5411391"
      },
      "execution_count": null,
      "outputs": [
        {
          "output_type": "execute_result",
          "data": {
            "text/plain": [
              "6999000"
            ]
          },
          "metadata": {},
          "execution_count": 101
        }
      ]
    },
    {
      "cell_type": "code",
      "source": [
        "most_exp = df[df['Price']==df.Price.max()]\n",
        "most_exp.Vehicle_brand"
      ],
      "metadata": {
        "colab": {
          "base_uri": "https://localhost:8080/"
        },
        "id": "gQJyHnWQOF5A",
        "outputId": "cd843e1d-0493-41c9-b8e7-cf46b77d483e"
      },
      "execution_count": null,
      "outputs": [
        {
          "output_type": "execute_result",
          "data": {
            "text/plain": [
              "32304    BMW\n",
              "Name: Vehicle_brand, dtype: object"
            ]
          },
          "metadata": {},
          "execution_count": 124
        }
      ]
    },
    {
      "cell_type": "code",
      "source": [
        "statistics.variance(df.Price)"
      ],
      "metadata": {
        "colab": {
          "base_uri": "https://localhost:8080/"
        },
        "id": "0ZxCgDVoMPAl",
        "outputId": "05c1e1aa-1d35-47aa-9912-d1b4a76183f1"
      },
      "execution_count": null,
      "outputs": [
        {
          "output_type": "execute_result",
          "data": {
            "text/plain": [
              "7509898870.706261"
            ]
          },
          "metadata": {},
          "execution_count": 92
        }
      ]
    },
    {
      "cell_type": "markdown",
      "source": [
        "High variance could be attributed to the vast range of lower tier cars and luxury highend cars - but could also signal that many price listings might be exaggerated which significantly reduces their chances of being sold. i.e it will be wasting server space, especially if these cases are many"
      ],
      "metadata": {
        "id": "PpPm8pJpM-NC"
      }
    },
    {
      "cell_type": "code",
      "execution_count": null,
      "metadata": {
        "colab": {
          "base_uri": "https://localhost:8080/",
          "height": 553
        },
        "id": "L-UnSirihnyp",
        "outputId": "e257795a-d4b1-4472-c6f6-2111e944c65d"
      },
      "outputs": [
        {
          "output_type": "execute_result",
          "data": {
            "text/plain": [
              "<matplotlib.axes._subplots.AxesSubplot at 0x7fe0146e4be0>"
            ]
          },
          "metadata": {},
          "execution_count": 72
        },
        {
          "output_type": "display_data",
          "data": {
            "text/plain": [
              "<Figure size 800x600 with 1 Axes>"
            ],
            "image/png": "[encoded data removed]"
          },
          "metadata": {
            "needs_background": "light"
          }
        }
      ],
      "source": [
        "plt.figure(figsize=(8,6), dpi=100)\n",
        "df.Origin_country.value_counts().plot(kind=\"barh\", title=\"Countries of Origin\", ylabel=\"Units\", xlabel=\"Country of Origin\")"
      ]
    },
    {
      "cell_type": "markdown",
      "source": [
        "A pie chart is a better more concise representation"
      ],
      "metadata": {
        "id": "koIQWFUwnPpz"
      }
    },
    {
      "cell_type": "code",
      "source": [
        "plt.figure(figsize=(10,6), dpi=100)\n",
        "df.Origin_country.value_counts()[:10].plot(kind=\"pie\", autopct = '%1.1f%%', radius = 1.50, ylabel = \"\" \"\")\n"
      ],
      "metadata": {
        "colab": {
          "base_uri": "https://localhost:8080/",
          "height": 633
        },
        "id": "eD4yIYyQd5V6",
        "outputId": "b77fa355-d916-4724-ad44-7a8bfa65bad3"
      },
      "execution_count": null,
      "outputs": [
        {
          "output_type": "execute_result",
          "data": {
            "text/plain": [
              "<matplotlib.axes._subplots.AxesSubplot at 0x7f7e7911c940>"
            ]
          },
          "metadata": {},
          "execution_count": 28
        },
        {
          "output_type": "display_data",
          "data": {
            "text/plain": [
              "<Figure size 1000x600 with 1 Axes>"
            ],
            "image/png": "[encoded data removed]"
          },
          "metadata": {}
        }
      ]
    },
    {
      "cell_type": "code",
      "execution_count": null,
      "metadata": {
        "colab": {
          "base_uri": "https://localhost:8080/",
          "height": 663
        },
        "id": "9-Xu0zE-qmME",
        "outputId": "fb7f2d3f-be9c-400d-eb88-104263baee68"
      },
      "outputs": [
        {
          "output_type": "execute_result",
          "data": {
            "text/plain": [
              "<matplotlib.axes._subplots.AxesSubplot at 0x7fe01f1bfaf0>"
            ]
          },
          "metadata": {},
          "execution_count": 31
        },
        {
          "output_type": "display_data",
          "data": {
            "text/plain": [
              "<Figure size 600x600 with 1 Axes>"
            ],
            "image/png": "[encoded data removed]"
          },
          "metadata": {
            "needs_background": "light"
          }
        }
      ],
      "source": [
        "plt.figure(figsize=(6,6), dpi=100)\n",
        "data = df['Vehicle_brand'].value_counts()[:20]\n",
        "data.plot(kind='bar', title= \"20 Most advertised brands\", ylabel = \"Car Adverts\", xlabel=\"Brand\")\n"
      ]
    },
    {
      "cell_type": "markdown",
      "metadata": {
        "id": "hxmgBKPqsGKO"
      },
      "source": [
        "There are 108 different brands advertised. German cars make up most of the cars advertized in the graph. \n"
      ]
    },
    {
      "cell_type": "code",
      "execution_count": null,
      "metadata": {
        "colab": {
          "base_uri": "https://localhost:8080/",
          "height": 472
        },
        "id": "gMeaP3TcuFJN",
        "outputId": "d63b1b20-9f71-4ec8-9731-3fbda6859792"
      },
      "outputs": [
        {
          "output_type": "execute_result",
          "data": {
            "text/plain": [
              "                       Index         Price  Production_year     Mileage_km  \\\n",
              "Vehicle_brand                                                                \n",
              "Daewoo          47560.083333  4.931652e+03      2000.871212  145902.106061   \n",
              "Tavria         173509.500000  6.449500e+03      1990.500000  209606.500000   \n",
              "Rover          152781.870370  7.431722e+03      1996.333333  194877.092593   \n",
              "Grecav         100857.500000  7.500000e+03      2004.000000   54650.000000   \n",
              "Vauxhall       183840.500000  8.900000e+03      1964.000000   27263.000000   \n",
              "...                      ...           ...              ...            ...   \n",
              "Ferrari         47975.000000  6.482693e+05      2009.634921   41015.126984   \n",
              "Maybach        104961.333333  6.810000e+05      2015.000000   67266.666667   \n",
              "Rolls-Royce    152397.357143  9.354980e+05      1994.142857  100872.107143   \n",
              "Lamborghini     88250.000000  9.524914e+05      2012.714286   18072.000000   \n",
              "McLaren         97725.111111  1.081697e+06      2017.222222   15032.333333   \n",
              "\n",
              "                 Power_HP  Displacement_cm3  CO2_emissions  Doors_number  \n",
              "Vehicle_brand                                                             \n",
              "Daewoo          83.924242       1345.227273     168.147059      4.750000  \n",
              "Tavria          50.500000       1095.500000            NaN      3.000000  \n",
              "Rover          111.942308       1756.314815     163.571429      4.296296  \n",
              "Grecav           6.000000        505.000000            NaN      2.000000  \n",
              "Vauxhall        58.000000       1594.000000            NaN      4.500000  \n",
              "...                   ...               ...            ...           ...  \n",
              "Ferrari        555.285714       4555.285714     343.727273      2.047619  \n",
              "Maybach        603.666667       5849.000000            NaN      4.666667  \n",
              "Rolls-Royce    404.851852       5982.178571     337.545455      3.392857  \n",
              "Lamborghini    596.350000       5014.047619     358.750000      2.666667  \n",
              "McLaren        623.823529       3724.000000     256.833333      2.666667  \n",
              "\n",
              "[108 rows x 8 columns]"
            ],
            "text/html": [
              "\n",
              "  <div id=\"df-aee3c8c3-93a6-4c7e-bca1-eef0603dad1b\">\n",
              "    <div class=\"colab-df-container\">\n",
              "      <div>\n",
              "<style scoped>\n",
              "    .dataframe tbody tr th:only-of-type {\n",
              "        vertical-align: middle;\n",
              "    }\n",
              "\n",
              "    .dataframe tbody tr th {\n",
              "        vertical-align: top;\n",
              "    }\n",
              "\n",
              "    .dataframe thead th {\n",
              "        text-align: right;\n",
              "    }\n",
              "</style>\n",
              "<table border=\"1\" class=\"dataframe\">\n",
              "  <thead>\n",
              "    <tr style=\"text-align: right;\">\n",
              "      <th></th>\n",
              "      <th>Index</th>\n",
              "      <th>Price</th>\n",
              "      <th>Production_year</th>\n",
              "      <th>Mileage_km</th>\n",
              "      <th>Power_HP</th>\n",
              "      <th>Displacement_cm3</th>\n",
              "      <th>CO2_emissions</th>\n",
              "      <th>Doors_number</th>\n",
              "    </tr>\n",
              "    <tr>\n",
              "      <th>Vehicle_brand</th>\n",
              "      <th></th>\n",
              "      <th></th>\n",
              "      <th></th>\n",
              "      <th></th>\n",
              "      <th></th>\n",
              "      <th></th>\n",
              "      <th></th>\n",
              "      <th></th>\n",
              "    </tr>\n",
              "  </thead>\n",
              "  <tbody>\n",
              "    <tr>\n",
              "      <th>Daewoo</th>\n",
              "      <td>47560.083333</td>\n",
              "      <td>4.931652e+03</td>\n",
              "      <td>2000.871212</td>\n",
              "      <td>145902.106061</td>\n",
              "      <td>83.924242</td>\n",
              "      <td>1345.227273</td>\n",
              "      <td>168.147059</td>\n",
              "      <td>4.750000</td>\n",
              "    </tr>\n",
              "    <tr>\n",
              "      <th>Tavria</th>\n",
              "      <td>173509.500000</td>\n",
              "      <td>6.449500e+03</td>\n",
              "      <td>1990.500000</td>\n",
              "      <td>209606.500000</td>\n",
              "      <td>50.500000</td>\n",
              "      <td>1095.500000</td>\n",
              "      <td>NaN</td>\n",
              "      <td>3.000000</td>\n",
              "    </tr>\n",
              "    <tr>\n",
              "      <th>Rover</th>\n",
              "      <td>152781.870370</td>\n",
              "      <td>7.431722e+03</td>\n",
              "      <td>1996.333333</td>\n",
              "      <td>194877.092593</td>\n",
              "      <td>111.942308</td>\n",
              "      <td>1756.314815</td>\n",
              "      <td>163.571429</td>\n",
              "      <td>4.296296</td>\n",
              "    </tr>\n",
              "    <tr>\n",
              "      <th>Grecav</th>\n",
              "      <td>100857.500000</td>\n",
              "      <td>7.500000e+03</td>\n",
              "      <td>2004.000000</td>\n",
              "      <td>54650.000000</td>\n",
              "      <td>6.000000</td>\n",
              "      <td>505.000000</td>\n",
              "      <td>NaN</td>\n",
              "      <td>2.000000</td>\n",
              "    </tr>\n",
              "    <tr>\n",
              "      <th>Vauxhall</th>\n",
              "      <td>183840.500000</td>\n",
              "      <td>8.900000e+03</td>\n",
              "      <td>1964.000000</td>\n",
              "      <td>27263.000000</td>\n",
              "      <td>58.000000</td>\n",
              "      <td>1594.000000</td>\n",
              "      <td>NaN</td>\n",
              "      <td>4.500000</td>\n",
              "    </tr>\n",
              "    <tr>\n",
              "      <th>...</th>\n",
              "      <td>...</td>\n",
              "      <td>...</td>\n",
              "      <td>...</td>\n",
              "      <td>...</td>\n",
              "      <td>...</td>\n",
              "      <td>...</td>\n",
              "      <td>...</td>\n",
              "      <td>...</td>\n",
              "    </tr>\n",
              "    <tr>\n",
              "      <th>Ferrari</th>\n",
              "      <td>47975.000000</td>\n",
              "      <td>6.482693e+05</td>\n",
              "      <td>2009.634921</td>\n",
              "      <td>41015.126984</td>\n",
              "      <td>555.285714</td>\n",
              "      <td>4555.285714</td>\n",
              "      <td>343.727273</td>\n",
              "      <td>2.047619</td>\n",
              "    </tr>\n",
              "    <tr>\n",
              "      <th>Maybach</th>\n",
              "      <td>104961.333333</td>\n",
              "      <td>6.810000e+05</td>\n",
              "      <td>2015.000000</td>\n",
              "      <td>67266.666667</td>\n",
              "      <td>603.666667</td>\n",
              "      <td>5849.000000</td>\n",
              "      <td>NaN</td>\n",
              "      <td>4.666667</td>\n",
              "    </tr>\n",
              "    <tr>\n",
              "      <th>Rolls-Royce</th>\n",
              "      <td>152397.357143</td>\n",
              "      <td>9.354980e+05</td>\n",
              "      <td>1994.142857</td>\n",
              "      <td>100872.107143</td>\n",
              "      <td>404.851852</td>\n",
              "      <td>5982.178571</td>\n",
              "      <td>337.545455</td>\n",
              "      <td>3.392857</td>\n",
              "    </tr>\n",
              "    <tr>\n",
              "      <th>Lamborghini</th>\n",
              "      <td>88250.000000</td>\n",
              "      <td>9.524914e+05</td>\n",
              "      <td>2012.714286</td>\n",
              "      <td>18072.000000</td>\n",
              "      <td>596.350000</td>\n",
              "      <td>5014.047619</td>\n",
              "      <td>358.750000</td>\n",
              "      <td>2.666667</td>\n",
              "    </tr>\n",
              "    <tr>\n",
              "      <th>McLaren</th>\n",
              "      <td>97725.111111</td>\n",
              "      <td>1.081697e+06</td>\n",
              "      <td>2017.222222</td>\n",
              "      <td>15032.333333</td>\n",
              "      <td>623.823529</td>\n",
              "      <td>3724.000000</td>\n",
              "      <td>256.833333</td>\n",
              "      <td>2.666667</td>\n",
              "    </tr>\n",
              "  </tbody>\n",
              "</table>\n",
              "<p>108 rows × 8 columns</p>\n",
              "</div>\n",
              "      <button class=\"colab-df-convert\" onclick=\"convertToInteractive('df-aee3c8c3-93a6-4c7e-bca1-eef0603dad1b')\"\n",
              "              title=\"Convert this dataframe to an interactive table.\"\n",
              "              style=\"display:none;\">\n",
              "        \n",
              "  <svg xmlns=\"http://www.w3.org/2000/svg\" height=\"24px\"viewBox=\"0 0 24 24\"\n",
              "       width=\"24px\">\n",
              "    <path d=\"M0 0h24v24H0V0z\" fill=\"none\"/>\n",
              "    <path d=\"M18.56 5.44l.94 2.06.94-2.06 2.06-.94-2.06-.94-.94-2.06-.94 2.06-2.06.94zm-11 1L8.5 8.5l.94-2.06 2.06-.94-2.06-.94L8.5 2.5l-.94 2.06-2.06.94zm10 10l.94 2.06.94-2.06 2.06-.94-2.06-.94-.94-2.06-.94 2.06-2.06.94z\"/><path d=\"M17.41 7.96l-1.37-1.37c-.4-.4-.92-.59-1.43-.59-.52 0-1.04.2-1.43.59L10.3 9.45l-7.72 7.72c-.78.78-.78 2.05 0 2.83L4 21.41c.39.39.9.59 1.41.59.51 0 1.02-.2 1.41-.59l7.78-7.78 2.81-2.81c.8-.78.8-2.07 0-2.86zM5.41 20L4 18.59l7.72-7.72 1.47 1.35L5.41 20z\"/>\n",
              "  </svg>\n",
              "      </button>\n",
              "      \n",
              "  <style>\n",
              "    .colab-df-container {\n",
              "      display:flex;\n",
              "      flex-wrap:wrap;\n",
              "      gap: 12px;\n",
              "    }\n",
              "\n",
              "    .colab-df-convert {\n",
              "      background-color: #E8F0FE;\n",
              "      border: none;\n",
              "      border-radius: 50%;\n",
              "      cursor: pointer;\n",
              "      display: none;\n",
              "      fill: #1967D2;\n",
              "      height: 32px;\n",
              "      padding: 0 0 0 0;\n",
              "      width: 32px;\n",
              "    }\n",
              "\n",
              "    .colab-df-convert:hover {\n",
              "      background-color: #E2EBFA;\n",
              "      box-shadow: 0px 1px 2px rgba(60, 64, 67, 0.3), 0px 1px 3px 1px rgba(60, 64, 67, 0.15);\n",
              "      fill: #174EA6;\n",
              "    }\n",
              "\n",
              "    [theme=dark] .colab-df-convert {\n",
              "      background-color: #3B4455;\n",
              "      fill: #D2E3FC;\n",
              "    }\n",
              "\n",
              "    [theme=dark] .colab-df-convert:hover {\n",
              "      background-color: #434B5C;\n",
              "      box-shadow: 0px 1px 3px 1px rgba(0, 0, 0, 0.15);\n",
              "      filter: drop-shadow(0px 1px 2px rgba(0, 0, 0, 0.3));\n",
              "      fill: #FFFFFF;\n",
              "    }\n",
              "  </style>\n",
              "\n",
              "      <script>\n",
              "        const buttonEl =\n",
              "          document.querySelector('#df-aee3c8c3-93a6-4c7e-bca1-eef0603dad1b button.colab-df-convert');\n",
              "        buttonEl.style.display =\n",
              "          google.colab.kernel.accessAllowed ? 'block' : 'none';\n",
              "\n",
              "        async function convertToInteractive(key) {\n",
              "          const element = document.querySelector('#df-aee3c8c3-93a6-4c7e-bca1-eef0603dad1b');\n",
              "          const dataTable =\n",
              "            await google.colab.kernel.invokeFunction('convertToInteractive',\n",
              "                                                     [key], {});\n",
              "          if (!dataTable) return;\n",
              "\n",
              "          const docLinkHtml = 'Like what you see? Visit the ' +\n",
              "            '<a target=\"_blank\" href=https://colab.research.google.com/notebooks/data_table.ipynb>data table notebook</a>'\n",
              "            + ' to learn more about interactive tables.';\n",
              "          element.innerHTML = '';\n",
              "          dataTable['output_type'] = 'display_data';\n",
              "          await google.colab.output.renderOutput(dataTable, element);\n",
              "          const docLink = document.createElement('div');\n",
              "          docLink.innerHTML = docLinkHtml;\n",
              "          element.appendChild(docLink);\n",
              "        }\n",
              "      </script>\n",
              "    </div>\n",
              "  </div>\n",
              "  "
            ]
          },
          "metadata": {},
          "execution_count": 75
        },
        {
          "output_type": "display_data",
          "data": {
            "text/plain": [
              "<Figure size 2000x1200 with 0 Axes>"
            ]
          },
          "metadata": {}
        }
      ],
      "source": [
        "plt.figure(figsize=(10,6), dpi=200)\n",
        "df.groupby(['Vehicle_brand']).mean().sort_values('Price', ascending = True)"
      ]
    },
    {
      "cell_type": "code",
      "execution_count": null,
      "metadata": {
        "colab": {
          "base_uri": "https://localhost:8080/",
          "height": 365
        },
        "id": "xMtm3d4c0SIf",
        "outputId": "6416eb5b-aeae-4970-df1d-b539e65952a8"
      },
      "outputs": [
        {
          "output_type": "display_data",
          "data": {
            "text/plain": [
              "<Figure size 432x288 with 1 Axes>"
            ],
            "image/png": "[encoded data removed]"
          },
          "metadata": {
            "needs_background": "light"
          }
        }
      ],
      "source": [
        "price = df.groupby(['Vehicle_brand']).mean().sort_values('Price', ascending = False)[:20]['Price'].plot(kind=\"bar\", title = \"Most expensive advertised brands\",xlabel = \"Brand\", ylabel= \"Mean Price\")"
      ]
    },
    {
      "cell_type": "code",
      "source": [
        "price = df.groupby(['Vehicle_brand']).mean().sort_values('Price', ascending = True)[:20]['Price'].plot(kind=\"bar\", title = \"Cheapest advertised brands\",xlabel = \"Brand\", ylabel= \"Mean Price\")"
      ],
      "metadata": {
        "colab": {
          "base_uri": "https://localhost:8080/",
          "height": 333
        },
        "id": "C_zllbf7JqTn",
        "outputId": "d3fdb5b5-8cff-4b89-8e61-a41b49307b02"
      },
      "execution_count": null,
      "outputs": [
        {
          "output_type": "display_data",
          "data": {
            "text/plain": [
              "<Figure size 432x288 with 1 Axes>"
            ],
            "image/png": "[encoded data removed]"
          },
          "metadata": {
            "needs_background": "light"
          }
        }
      ]
    },
    {
      "cell_type": "code",
      "execution_count": null,
      "metadata": {
        "colab": {
          "base_uri": "https://localhost:8080/",
          "height": 295
        },
        "id": "HIaqQ-0I1uLw",
        "outputId": "f3d1e1b1-41ce-41ed-bc85-f1d206b81983"
      },
      "outputs": [
        {
          "output_type": "display_data",
          "data": {
            "text/plain": [
              "<Figure size 432x288 with 1 Axes>"
            ],
            "image/png": "[encoded data removed]"
          },
          "metadata": {
            "needs_background": "light"
          }
        }
      ],
      "source": [
        "mileage = df.groupby(['Vehicle_brand']).mean().sort_values('Mileage_km', ascending = False)[:20]['Mileage_km'].plot(kind=\"line\",title=\"Advertised Mileage per brand\", xlabel=\"Brand\", ylabel=\"Mileage\")"
      ]
    },
    {
      "cell_type": "markdown",
      "source": [
        "The Zaporozen value seems to be an extreme outlier"
      ],
      "metadata": {
        "id": "6GpL5pnlENN6"
      }
    },
    {
      "cell_type": "code",
      "execution_count": null,
      "metadata": {
        "colab": {
          "base_uri": "https://localhost:8080/",
          "height": 349
        },
        "id": "yd6u_p8o1zxt",
        "outputId": "1b7daa5e-012f-4a59-c1f4-b6f6b34319f1"
      },
      "outputs": [
        {
          "output_type": "display_data",
          "data": {
            "text/plain": [
              "<Figure size 432x288 with 1 Axes>"
            ],
            "image/png": "[encoded data removed]"
          },
          "metadata": {
            "needs_background": "light"
          }
        }
      ],
      "source": [
        "power = df.groupby(['Vehicle_brand']).mean().sort_values('Power_HP', ascending = False)[:20]['Power_HP'].plot(kind=\"bar\", title=\"Top 20 advertised Horsepower per brand\",xlabel = \"Brand\", ylabel= \"Power (HP)\")"
      ]
    },
    {
      "cell_type": "markdown",
      "metadata": {
        "id": "rhwBbwRHKo8W"
      },
      "source": [
        "which day had the most offers posted? and how many offers were there"
      ]
    },
    {
      "cell_type": "code",
      "execution_count": null,
      "metadata": {
        "colab": {
          "base_uri": "https://localhost:8080/"
        },
        "id": "d8_3wMBzm7vg",
        "outputId": "d6d193dd-9fe9-4627-d603-2763a8c31c2c"
      },
      "outputs": [
        {
          "output_type": "execute_result",
          "data": {
            "text/plain": [
              "0    03/05/2021\n",
              "dtype: object"
            ]
          },
          "metadata": {},
          "execution_count": 37
        }
      ],
      "source": [
        "df.Offer_publication_date.mode()"
      ]
    },
    {
      "cell_type": "code",
      "execution_count": null,
      "metadata": {
        "colab": {
          "base_uri": "https://localhost:8080/"
        },
        "id": "nEyW7p1RJV_E",
        "outputId": "d89c7e8e-9b42-4297-97d2-36bf4ee3b7a3"
      },
      "outputs": [
        {
          "output_type": "execute_result",
          "data": {
            "text/plain": [
              "26561"
            ]
          },
          "metadata": {},
          "execution_count": 38
        }
      ],
      "source": [
        "df.loc[df['Offer_publication_date']=='03/05/2021']['Index'].count()\n"
      ]
    },
    {
      "cell_type": "code",
      "source": [
        "df['Offer_publication_date'] = pd.to_datetime(df['Offer_publication_date'])\n",
        "df.groupby(df.Offer_publication_date.dt.month)['Index'].count() \n"
      ],
      "metadata": {
        "colab": {
          "base_uri": "https://localhost:8080/"
        },
        "id": "-UBRr0P9yLlu",
        "outputId": "1bf20ffc-6efe-4204-88d7-214b902c3de9"
      },
      "execution_count": null,
      "outputs": [
        {
          "output_type": "execute_result",
          "data": {
            "text/plain": [
              "Offer_publication_date\n",
              "1      24631\n",
              "2      26148\n",
              "3      26570\n",
              "4     130842\n",
              "5         41\n",
              "6         11\n",
              "7         13\n",
              "8          9\n",
              "9          8\n",
              "10        11\n",
              "11         8\n",
              "12        12\n",
              "Name: Index, dtype: int64"
            ]
          },
          "metadata": {},
          "execution_count": 43
        }
      ]
    },
    {
      "cell_type": "code",
      "source": [
        "data = df.groupby(df.Offer_publication_date.dt.month)['Index'].sum() \n",
        "plt.figure(figsize=(6,6), dpi=100)\n",
        "data.plot(kind=\"line\", xlabel=\"Month\")"
      ],
      "metadata": {
        "colab": {
          "base_uri": "https://localhost:8080/",
          "height": 565
        },
        "id": "KKt5A34QzkQ9",
        "outputId": "fcdfc2b4-c32b-4af1-8136-dafa80088fd6"
      },
      "execution_count": null,
      "outputs": [
        {
          "output_type": "execute_result",
          "data": {
            "text/plain": [
              "<matplotlib.axes._subplots.AxesSubplot at 0x7fe01fc76a60>"
            ]
          },
          "metadata": {},
          "execution_count": 44
        },
        {
          "output_type": "display_data",
          "data": {
            "text/plain": [
              "<Figure size 600x600 with 1 Axes>"
            ],
            "image/png": "[encoded data removed]"
          },
          "metadata": {
            "needs_background": "light"
          }
        }
      ]
    },
    {
      "cell_type": "markdown",
      "source": [
        "The first four months, especially April, are the most active months. The rest of the year beginning with May experienced extreme inactivity"
      ],
      "metadata": {
        "id": "ronpnLWAGJaC"
      }
    },
    {
      "cell_type": "markdown",
      "metadata": {
        "id": "_kuxRnWEmiCK"
      },
      "source": [
        "Which location had the most offers and how many are they?"
      ]
    },
    {
      "cell_type": "code",
      "execution_count": null,
      "metadata": {
        "id": "FTDz828wm_wD",
        "colab": {
          "base_uri": "https://localhost:8080/"
        },
        "outputId": "7ed28fae-f669-49d2-a5d6-fbf805600ca1"
      },
      "outputs": [
        {
          "output_type": "execute_result",
          "data": {
            "text/plain": [
              "0    Stalowa 16 - 41-506 Chorzów, Śląskie (Polska)\n",
              "dtype: object"
            ]
          },
          "metadata": {},
          "execution_count": 41
        }
      ],
      "source": [
        "df.Offer_location.mode()"
      ]
    },
    {
      "cell_type": "code",
      "execution_count": null,
      "metadata": {
        "id": "qGJoyIjjIf62",
        "colab": {
          "base_uri": "https://localhost:8080/"
        },
        "outputId": "6b56b09d-6b40-473e-f302-c47afdbc1201"
      },
      "outputs": [
        {
          "output_type": "execute_result",
          "data": {
            "text/plain": [
              "1329"
            ]
          },
          "metadata": {},
          "execution_count": 42
        }
      ],
      "source": [
        "df.loc[df['Offer_location']=='Stalowa 16 - 41-506 Chorzów, Śląskie (Polska)']['Index'].count()"
      ]
    },
    {
      "cell_type": "markdown",
      "source": [
        "Working with the features"
      ],
      "metadata": {
        "id": "CcxmYeBeUtSJ"
      }
    },
    {
      "cell_type": "code",
      "source": [
        "df.Features"
      ],
      "metadata": {
        "colab": {
          "base_uri": "https://localhost:8080/"
        },
        "id": "uiqxEj5lQ0PY",
        "outputId": "1afd493b-6bec-49e6-f418-00aae62b9c09"
      },
      "execution_count": null,
      "outputs": [
        {
          "output_type": "execute_result",
          "data": {
            "text/plain": [
              "0                                                        []\n",
              "1                                                        []\n",
              "2         ['ABS', 'Electric front windows', 'Drivers air...\n",
              "3         ['ABS', 'Electric front windows', 'Drivers air...\n",
              "4         ['ABS', 'Electrically adjustable mirrors', 'Pa...\n",
              "                                ...                        \n",
              "208299                                                   []\n",
              "208300                                                   []\n",
              "208301                                                   []\n",
              "208302                                                   []\n",
              "208303                                                   []\n",
              "Name: Features, Length: 208304, dtype: object"
            ]
          },
          "metadata": {},
          "execution_count": 126
        }
      ]
    },
    {
      "cell_type": "code",
      "source": [
        "df2 = []\n",
        "for f in df.Features:\n",
        "  if f is not None:\n",
        "    df2.append(df['Features'].str.split(',').values)\n"
      ],
      "metadata": {
        "id": "2MLGCL_NRdAG"
      },
      "execution_count": null,
      "outputs": []
    },
    {
      "cell_type": "code",
      "source": [
        "df2"
      ],
      "metadata": {
        "colab": {
          "base_uri": "https://localhost:8080/",
          "height": 592
        },
        "id": "eNB93hcMRvhB",
        "outputId": "c8b730ad-0fbc-4e68-8880-c658d4076fa3"
      },
      "execution_count": null,
      "outputs": [
        {
          "output_type": "execute_result",
          "data": {
            "text/plain": [
              "            0                                   1                     2   \\\n",
              "0           []                                None                  None   \n",
              "1           []                                None                  None   \n",
              "2       ['ABS'            'Electric front windows'      'Drivers airbag'   \n",
              "3       ['ABS'            'Electric front windows'      'Drivers airbag'   \n",
              "4       ['ABS'   'Electrically adjustable mirrors'   'Passengers airbag'   \n",
              "...        ...                                 ...                   ...   \n",
              "208299      []                                None                  None   \n",
              "208300      []                                None                  None   \n",
              "208301      []                                None                  None   \n",
              "208302      []                                None                  None   \n",
              "208303      []                                None                  None   \n",
              "\n",
              "                       3                          4                    5   \\\n",
              "0                    None                       None                 None   \n",
              "1                    None                       None                 None   \n",
              "2        'Power steering'   'ASR (traction control)'   'Rear view camera'   \n",
              "3        'Power steering'                'Bluetooth'         'AUX socket'   \n",
              "4          'Alloy wheels'     'Rear parking sensors'             'Isofix'   \n",
              "...                   ...                        ...                  ...   \n",
              "208299               None                       None                 None   \n",
              "208300               None                       None                 None   \n",
              "208301               None                       None                 None   \n",
              "208302               None                       None                 None   \n",
              "208303               None                       None                 None   \n",
              "\n",
              "                            6                      7   \\\n",
              "0                         None                   None   \n",
              "1                         None                   None   \n",
              "2        'Heated side mirrors'                   'CD'   \n",
              "3          'On-board computer'         'Xenon lights'   \n",
              "4               'Air curtains'   'Front side airbags'   \n",
              "...                        ...                    ...   \n",
              "208299                    None                   None   \n",
              "208300                    None                   None   \n",
              "208301                    None                   None   \n",
              "208302                    None                   None   \n",
              "208303                    None                   None   \n",
              "\n",
              "                                        8   \\\n",
              "0                                     None   \n",
              "1                                     None   \n",
              "2        'Electrically adjustable mirrors'   \n",
              "3                                     'CD'   \n",
              "4           'Multifunction steering wheel'   \n",
              "...                                    ...   \n",
              "208299                                None   \n",
              "208300                                None   \n",
              "208301                                None   \n",
              "208302                                None   \n",
              "208303                                None   \n",
              "\n",
              "                                        9   ...    60    61    62    63    64  \\\n",
              "0                                     None  ...  None  None  None  None  None   \n",
              "1                                     None  ...  None  None  None  None  None   \n",
              "2                      'Passengers airbag'  ...  None  None  None  None  None   \n",
              "3        'Electrically adjustable mirrors'  ...  None  None  None  None  None   \n",
              "4                        'Central locking'  ...  None  None  None  None  None   \n",
              "...                                    ...  ...   ...   ...   ...   ...   ...   \n",
              "208299                                None  ...  None  None  None  None  None   \n",
              "208300                                None  ...  None  None  None  None  None   \n",
              "208301                                None  ...  None  None  None  None  None   \n",
              "208302                                None  ...  None  None  None  None  None   \n",
              "208303                                None  ...  None  None  None  None  None   \n",
              "\n",
              "          65    66    67    68    69  \n",
              "0       None  None  None  None  None  \n",
              "1       None  None  None  None  None  \n",
              "2       None  None  None  None  None  \n",
              "3       None  None  None  None  None  \n",
              "4       None  None  None  None  None  \n",
              "...      ...   ...   ...   ...   ...  \n",
              "208299  None  None  None  None  None  \n",
              "208300  None  None  None  None  None  \n",
              "208301  None  None  None  None  None  \n",
              "208302  None  None  None  None  None  \n",
              "208303  None  None  None  None  None  \n",
              "\n",
              "[208304 rows x 70 columns]"
            ],
            "text/html": [
              "\n",
              "  <div id=\"df-5508763b-45e4-4013-bd08-d3d463992bc2\">\n",
              "    <div class=\"colab-df-container\">\n",
              "      <div>\n",
              "<style scoped>\n",
              "    .dataframe tbody tr th:only-of-type {\n",
              "        vertical-align: middle;\n",
              "    }\n",
              "\n",
              "    .dataframe tbody tr th {\n",
              "        vertical-align: top;\n",
              "    }\n",
              "\n",
              "    .dataframe thead th {\n",
              "        text-align: right;\n",
              "    }\n",
              "</style>\n",
              "<table border=\"1\" class=\"dataframe\">\n",
              "  <thead>\n",
              "    <tr style=\"text-align: right;\">\n",
              "      <th></th>\n",
              "      <th>0</th>\n",
              "      <th>1</th>\n",
              "      <th>2</th>\n",
              "      <th>3</th>\n",
              "      <th>4</th>\n",
              "      <th>5</th>\n",
              "      <th>6</th>\n",
              "      <th>7</th>\n",
              "      <th>8</th>\n",
              "      <th>9</th>\n",
              "      <th>...</th>\n",
              "      <th>60</th>\n",
              "      <th>61</th>\n",
              "      <th>62</th>\n",
              "      <th>63</th>\n",
              "      <th>64</th>\n",
              "      <th>65</th>\n",
              "      <th>66</th>\n",
              "      <th>67</th>\n",
              "      <th>68</th>\n",
              "      <th>69</th>\n",
              "    </tr>\n",
              "  </thead>\n",
              "  <tbody>\n",
              "    <tr>\n",
              "      <th>0</th>\n",
              "      <td>[]</td>\n",
              "      <td>None</td>\n",
              "      <td>None</td>\n",
              "      <td>None</td>\n",
              "      <td>None</td>\n",
              "      <td>None</td>\n",
              "      <td>None</td>\n",
              "      <td>None</td>\n",
              "      <td>None</td>\n",
              "      <td>None</td>\n",
              "      <td>...</td>\n",
              "      <td>None</td>\n",
              "      <td>None</td>\n",
              "      <td>None</td>\n",
              "      <td>None</td>\n",
              "      <td>None</td>\n",
              "      <td>None</td>\n",
              "      <td>None</td>\n",
              "      <td>None</td>\n",
              "      <td>None</td>\n",
              "      <td>None</td>\n",
              "    </tr>\n",
              "    <tr>\n",
              "      <th>1</th>\n",
              "      <td>[]</td>\n",
              "      <td>None</td>\n",
              "      <td>None</td>\n",
              "      <td>None</td>\n",
              "      <td>None</td>\n",
              "      <td>None</td>\n",
              "      <td>None</td>\n",
              "      <td>None</td>\n",
              "      <td>None</td>\n",
              "      <td>None</td>\n",
              "      <td>...</td>\n",
              "      <td>None</td>\n",
              "      <td>None</td>\n",
              "      <td>None</td>\n",
              "      <td>None</td>\n",
              "      <td>None</td>\n",
              "      <td>None</td>\n",
              "      <td>None</td>\n",
              "      <td>None</td>\n",
              "      <td>None</td>\n",
              "      <td>None</td>\n",
              "    </tr>\n",
              "    <tr>\n",
              "      <th>2</th>\n",
              "      <td>['ABS'</td>\n",
              "      <td>'Electric front windows'</td>\n",
              "      <td>'Drivers airbag'</td>\n",
              "      <td>'Power steering'</td>\n",
              "      <td>'ASR (traction control)'</td>\n",
              "      <td>'Rear view camera'</td>\n",
              "      <td>'Heated side mirrors'</td>\n",
              "      <td>'CD'</td>\n",
              "      <td>'Electrically adjustable mirrors'</td>\n",
              "      <td>'Passengers airbag'</td>\n",
              "      <td>...</td>\n",
              "      <td>None</td>\n",
              "      <td>None</td>\n",
              "      <td>None</td>\n",
              "      <td>None</td>\n",
              "      <td>None</td>\n",
              "      <td>None</td>\n",
              "      <td>None</td>\n",
              "      <td>None</td>\n",
              "      <td>None</td>\n",
              "      <td>None</td>\n",
              "    </tr>\n",
              "    <tr>\n",
              "      <th>3</th>\n",
              "      <td>['ABS'</td>\n",
              "      <td>'Electric front windows'</td>\n",
              "      <td>'Drivers airbag'</td>\n",
              "      <td>'Power steering'</td>\n",
              "      <td>'Bluetooth'</td>\n",
              "      <td>'AUX socket'</td>\n",
              "      <td>'On-board computer'</td>\n",
              "      <td>'Xenon lights'</td>\n",
              "      <td>'CD'</td>\n",
              "      <td>'Electrically adjustable mirrors'</td>\n",
              "      <td>...</td>\n",
              "      <td>None</td>\n",
              "      <td>None</td>\n",
              "      <td>None</td>\n",
              "      <td>None</td>\n",
              "      <td>None</td>\n",
              "      <td>None</td>\n",
              "      <td>None</td>\n",
              "      <td>None</td>\n",
              "      <td>None</td>\n",
              "      <td>None</td>\n",
              "    </tr>\n",
              "    <tr>\n",
              "      <th>4</th>\n",
              "      <td>['ABS'</td>\n",
              "      <td>'Electrically adjustable mirrors'</td>\n",
              "      <td>'Passengers airbag'</td>\n",
              "      <td>'Alloy wheels'</td>\n",
              "      <td>'Rear parking sensors'</td>\n",
              "      <td>'Isofix'</td>\n",
              "      <td>'Air curtains'</td>\n",
              "      <td>'Front side airbags'</td>\n",
              "      <td>'Multifunction steering wheel'</td>\n",
              "      <td>'Central locking'</td>\n",
              "      <td>...</td>\n",
              "      <td>None</td>\n",
              "      <td>None</td>\n",
              "      <td>None</td>\n",
              "      <td>None</td>\n",
              "      <td>None</td>\n",
              "      <td>None</td>\n",
              "      <td>None</td>\n",
              "      <td>None</td>\n",
              "      <td>None</td>\n",
              "      <td>None</td>\n",
              "    </tr>\n",
              "    <tr>\n",
              "      <th>...</th>\n",
              "      <td>...</td>\n",
              "      <td>...</td>\n",
              "      <td>...</td>\n",
              "      <td>...</td>\n",
              "      <td>...</td>\n",
              "      <td>...</td>\n",
              "      <td>...</td>\n",
              "      <td>...</td>\n",
              "      <td>...</td>\n",
              "      <td>...</td>\n",
              "      <td>...</td>\n",
              "      <td>...</td>\n",
              "      <td>...</td>\n",
              "      <td>...</td>\n",
              "      <td>...</td>\n",
              "      <td>...</td>\n",
              "      <td>...</td>\n",
              "      <td>...</td>\n",
              "      <td>...</td>\n",
              "      <td>...</td>\n",
              "      <td>...</td>\n",
              "    </tr>\n",
              "    <tr>\n",
              "      <th>208299</th>\n",
              "      <td>[]</td>\n",
              "      <td>None</td>\n",
              "      <td>None</td>\n",
              "      <td>None</td>\n",
              "      <td>None</td>\n",
              "      <td>None</td>\n",
              "      <td>None</td>\n",
              "      <td>None</td>\n",
              "      <td>None</td>\n",
              "      <td>None</td>\n",
              "      <td>...</td>\n",
              "      <td>None</td>\n",
              "      <td>None</td>\n",
              "      <td>None</td>\n",
              "      <td>None</td>\n",
              "      <td>None</td>\n",
              "      <td>None</td>\n",
              "      <td>None</td>\n",
              "      <td>None</td>\n",
              "      <td>None</td>\n",
              "      <td>None</td>\n",
              "    </tr>\n",
              "    <tr>\n",
              "      <th>208300</th>\n",
              "      <td>[]</td>\n",
              "      <td>None</td>\n",
              "      <td>None</td>\n",
              "      <td>None</td>\n",
              "      <td>None</td>\n",
              "      <td>None</td>\n",
              "      <td>None</td>\n",
              "      <td>None</td>\n",
              "      <td>None</td>\n",
              "      <td>None</td>\n",
              "      <td>...</td>\n",
              "      <td>None</td>\n",
              "      <td>None</td>\n",
              "      <td>None</td>\n",
              "      <td>None</td>\n",
              "      <td>None</td>\n",
              "      <td>None</td>\n",
              "      <td>None</td>\n",
              "      <td>None</td>\n",
              "      <td>None</td>\n",
              "      <td>None</td>\n",
              "    </tr>\n",
              "    <tr>\n",
              "      <th>208301</th>\n",
              "      <td>[]</td>\n",
              "      <td>None</td>\n",
              "      <td>None</td>\n",
              "      <td>None</td>\n",
              "      <td>None</td>\n",
              "      <td>None</td>\n",
              "      <td>None</td>\n",
              "      <td>None</td>\n",
              "      <td>None</td>\n",
              "      <td>None</td>\n",
              "      <td>...</td>\n",
              "      <td>None</td>\n",
              "      <td>None</td>\n",
              "      <td>None</td>\n",
              "      <td>None</td>\n",
              "      <td>None</td>\n",
              "      <td>None</td>\n",
              "      <td>None</td>\n",
              "      <td>None</td>\n",
              "      <td>None</td>\n",
              "      <td>None</td>\n",
              "    </tr>\n",
              "    <tr>\n",
              "      <th>208302</th>\n",
              "      <td>[]</td>\n",
              "      <td>None</td>\n",
              "      <td>None</td>\n",
              "      <td>None</td>\n",
              "      <td>None</td>\n",
              "      <td>None</td>\n",
              "      <td>None</td>\n",
              "      <td>None</td>\n",
              "      <td>None</td>\n",
              "      <td>None</td>\n",
              "      <td>...</td>\n",
              "      <td>None</td>\n",
              "      <td>None</td>\n",
              "      <td>None</td>\n",
              "      <td>None</td>\n",
              "      <td>None</td>\n",
              "      <td>None</td>\n",
              "      <td>None</td>\n",
              "      <td>None</td>\n",
              "      <td>None</td>\n",
              "      <td>None</td>\n",
              "    </tr>\n",
              "    <tr>\n",
              "      <th>208303</th>\n",
              "      <td>[]</td>\n",
              "      <td>None</td>\n",
              "      <td>None</td>\n",
              "      <td>None</td>\n",
              "      <td>None</td>\n",
              "      <td>None</td>\n",
              "      <td>None</td>\n",
              "      <td>None</td>\n",
              "      <td>None</td>\n",
              "      <td>None</td>\n",
              "      <td>...</td>\n",
              "      <td>None</td>\n",
              "      <td>None</td>\n",
              "      <td>None</td>\n",
              "      <td>None</td>\n",
              "      <td>None</td>\n",
              "      <td>None</td>\n",
              "      <td>None</td>\n",
              "      <td>None</td>\n",
              "      <td>None</td>\n",
              "      <td>None</td>\n",
              "    </tr>\n",
              "  </tbody>\n",
              "</table>\n",
              "<p>208304 rows × 70 columns</p>\n",
              "</div>\n",
              "      <button class=\"colab-df-convert\" onclick=\"convertToInteractive('df-5508763b-45e4-4013-bd08-d3d463992bc2')\"\n",
              "              title=\"Convert this dataframe to an interactive table.\"\n",
              "              style=\"display:none;\">\n",
              "        \n",
              "  <svg xmlns=\"http://www.w3.org/2000/svg\" height=\"24px\"viewBox=\"0 0 24 24\"\n",
              "       width=\"24px\">\n",
              "    <path d=\"M0 0h24v24H0V0z\" fill=\"none\"/>\n",
              "    <path d=\"M18.56 5.44l.94 2.06.94-2.06 2.06-.94-2.06-.94-.94-2.06-.94 2.06-2.06.94zm-11 1L8.5 8.5l.94-2.06 2.06-.94-2.06-.94L8.5 2.5l-.94 2.06-2.06.94zm10 10l.94 2.06.94-2.06 2.06-.94-2.06-.94-.94-2.06-.94 2.06-2.06.94z\"/><path d=\"M17.41 7.96l-1.37-1.37c-.4-.4-.92-.59-1.43-.59-.52 0-1.04.2-1.43.59L10.3 9.45l-7.72 7.72c-.78.78-.78 2.05 0 2.83L4 21.41c.39.39.9.59 1.41.59.51 0 1.02-.2 1.41-.59l7.78-7.78 2.81-2.81c.8-.78.8-2.07 0-2.86zM5.41 20L4 18.59l7.72-7.72 1.47 1.35L5.41 20z\"/>\n",
              "  </svg>\n",
              "      </button>\n",
              "      \n",
              "  <style>\n",
              "    .colab-df-container {\n",
              "      display:flex;\n",
              "      flex-wrap:wrap;\n",
              "      gap: 12px;\n",
              "    }\n",
              "\n",
              "    .colab-df-convert {\n",
              "      background-color: #E8F0FE;\n",
              "      border: none;\n",
              "      border-radius: 50%;\n",
              "      cursor: pointer;\n",
              "      display: none;\n",
              "      fill: #1967D2;\n",
              "      height: 32px;\n",
              "      padding: 0 0 0 0;\n",
              "      width: 32px;\n",
              "    }\n",
              "\n",
              "    .colab-df-convert:hover {\n",
              "      background-color: #E2EBFA;\n",
              "      box-shadow: 0px 1px 2px rgba(60, 64, 67, 0.3), 0px 1px 3px 1px rgba(60, 64, 67, 0.15);\n",
              "      fill: #174EA6;\n",
              "    }\n",
              "\n",
              "    [theme=dark] .colab-df-convert {\n",
              "      background-color: #3B4455;\n",
              "      fill: #D2E3FC;\n",
              "    }\n",
              "\n",
              "    [theme=dark] .colab-df-convert:hover {\n",
              "      background-color: #434B5C;\n",
              "      box-shadow: 0px 1px 3px 1px rgba(0, 0, 0, 0.15);\n",
              "      filter: drop-shadow(0px 1px 2px rgba(0, 0, 0, 0.3));\n",
              "      fill: #FFFFFF;\n",
              "    }\n",
              "  </style>\n",
              "\n",
              "      <script>\n",
              "        const buttonEl =\n",
              "          document.querySelector('#df-5508763b-45e4-4013-bd08-d3d463992bc2 button.colab-df-convert');\n",
              "        buttonEl.style.display =\n",
              "          google.colab.kernel.accessAllowed ? 'block' : 'none';\n",
              "\n",
              "        async function convertToInteractive(key) {\n",
              "          const element = document.querySelector('#df-5508763b-45e4-4013-bd08-d3d463992bc2');\n",
              "          const dataTable =\n",
              "            await google.colab.kernel.invokeFunction('convertToInteractive',\n",
              "                                                     [key], {});\n",
              "          if (!dataTable) return;\n",
              "\n",
              "          const docLinkHtml = 'Like what you see? Visit the ' +\n",
              "            '<a target=\"_blank\" href=https://colab.research.google.com/notebooks/data_table.ipynb>data table notebook</a>'\n",
              "            + ' to learn more about interactive tables.';\n",
              "          element.innerHTML = '';\n",
              "          dataTable['output_type'] = 'display_data';\n",
              "          await google.colab.output.renderOutput(dataTable, element);\n",
              "          const docLink = document.createElement('div');\n",
              "          docLink.innerHTML = docLinkHtml;\n",
              "          element.appendChild(docLink);\n",
              "        }\n",
              "      </script>\n",
              "    </div>\n",
              "  </div>\n",
              "  "
            ]
          },
          "metadata": {},
          "execution_count": 133
        }
      ]
    },
    {
      "cell_type": "code",
      "source": [],
      "metadata": {
        "id": "s2QxvwntSHKs",
        "colab": {
          "base_uri": "https://localhost:8080/"
        },
        "outputId": "09718091-4459-4540-9947-c47136b56126"
      },
      "execution_count": 1,
      "outputs": [
        {
          "output_type": "stream",
          "name": "stdout",
          "text": [
            "Initialized empty Git repository in /content/.git/\n",
            "\n",
            "*** Please tell me who you are.\n",
            "\n",
            "Run\n",
            "\n",
            "  git config --global user.email \"you@example.com\"\n",
            "  git config --global user.name \"Your Name\"\n",
            "\n",
            "to set your account's default identity.\n",
            "Omit --global to set the identity only in this repository.\n",
            "\n",
            "fatal: unable to auto-detect email address (got 'root@a29628436c3e.(none)')\n",
            "error: refname refs/heads/master not found\n",
            "fatal: Branch rename failed\n",
            "error: src refspec main does not match any.\n",
            "error: failed to push some refs to 'https://github.com/fedakhalid/DataEngineering1.git'\n"
          ]
        }
      ]
    },
    {
      "cell_type": "code",
      "source": [],
      "metadata": {
        "id": "kxb8SmLArHW8"
      },
      "execution_count": 2,
      "outputs": []
    },
    {
      "cell_type": "code",
      "source": [],
      "metadata": {
        "colab": {
          "base_uri": "https://localhost:8080/"
        },
        "id": "nSt4maxtrWsj",
        "outputId": "ec7ece6a-b372-4136-8bd4-888485a35766"
      },
      "execution_count": 3,
      "outputs": [
        {
          "output_type": "stream",
          "name": "stdout",
          "text": [
            "Reinitialized existing Git repository in /content/.git/\n",
            "On branch master\n",
            "\n",
            "Initial commit\n",
            "\n",
            "Untracked files:\n",
            "\t\u001b[31m.config/\u001b[m\n",
            "\t\u001b[31mCar_sale_ads.csv\u001b[m\n",
            "\t\u001b[31msample_data/\u001b[m\n",
            "\n",
            "nothing added to commit but untracked files present\n",
            "error: refname refs/heads/master not found\n",
            "fatal: Branch rename failed\n",
            "fatal: remote origin already exists.\n",
            "error: src refspec main does not match any.\n",
            "error: failed to push some refs to 'https://github.com/fedakhalid/DataEngineering1.git'\n"
          ]
        }
      ]
    },
    {
      "cell_type": "code",
      "source": [],
      "metadata": {
        "id": "fOHI8ZL4rX2R"
      },
      "execution_count": null,
      "outputs": []
    }
  ],
  "metadata": {
    "colab": {
      "provenance": [],
      "toc_visible": true
    },
    "kernelspec": {
      "display_name": "Python 3",
      "name": "python3"
    },
    "language_info": {
      "name": "python"
    }
  },
  "nbformat": 4,
  "nbformat_minor": 0
}